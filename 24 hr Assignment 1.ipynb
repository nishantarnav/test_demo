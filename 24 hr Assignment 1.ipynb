{
 "cells": [
  {
   "cell_type": "markdown",
   "metadata": {},
   "source": [
    "# 24-Hour Assignment: Questions "
   ]
  },
  {
   "cell_type": "markdown",
   "metadata": {},
   "source": [
    "---\n",
    "**Assignment Guide**\n",
    "\n",
    "* Answer **ALL** questions.\n",
    "* Total marks: 40.\n",
    "* Data for this assignment are available from the course L@G website. \n",
    "* Use Jupyter Notebook/Python to achieve the answers. \n",
    "* Justification is required if your (Python) coding is beyond what have been taught in the class – lack of clear justification will be marked off (even if the results are correct).\n",
    "* Type up your answers in a Word file (you may copy & paste some of the Python outcomes to the file).\n",
    "* Assignment submission: upload two files – [1] the Word file [2] the Jupyter Notebook/Python file (either pdf (preferred) or ipynb). \n",
    "* Note that the **Word file** should be **self-contained** (answers + supported Python outcomes + discussion/interpretation). \n",
    "* You must complete the **Academic Integrity Declaration for online exams** & **safe assignment check** before submission. \n",
    "* Late submission without approval is subject to penalty.\n",
    "* Due: **1pm (Friday) 09 October, 2020**.\n",
    "\n",
    "---"
   ]
  },
  {
   "cell_type": "code",
   "execution_count": 1,
   "metadata": {},
   "outputs": [],
   "source": [
    "# import essential libraries\n",
    "import pandas as pd\n",
    "import numpy as np\n",
    "import matplotlib.pyplot as plt\n",
    "import seaborn as sns\n",
    "%matplotlib inline\n",
    "sns.set_style(\"whitegrid\")\n",
    "\n",
    "# stats librabries\n",
    "from scipy import stats\n",
    "import statsmodels.api as sm\n",
    "import statsmodels.formula.api as smf\n",
    "\n",
    "# machine learning libraries\n",
    "# import sklearn\n",
    "from sklearn.cluster import KMeans\n",
    "from sklearn.model_selection import train_test_split \n",
    "# from sklearn import metrics\n",
    "from sklearn.metrics import confusion_matrix\n",
    "from sklearn.metrics import classification_report\n",
    "from sklearn.linear_model import LogisticRegressionse data from H2019.csv to answer this question. The dataset has the following variables\n",
    "\n",
    "Country: country name\n",
    "Hscore: happiness score (higher score implies higher degree of happiness)\n",
    "logGDP: log GDP per capita\n",
    "Freedom: freedom to make life choice (higher score implies higher degree of freedom)\n",
    "GQuality: Government Quality (higher score implies higher degree of government qaulity)\n",
    "Classify countries with logGDP larger than 9.9 as 'Rich' countries & all others as 'not-Rich' countries. How many countries are in the Rich group? Test if the mean of Hscore for Rich countries is the same as it is of not-Rich countries. Use the 6 steps of hypothesis testing to report the testing outcomes.\n",
    "Find the 99% confidence interval (CI) of the mean of GQuality of Rich and Not-Rich countries, separately. Present the CI formula and interpret the results.\n",
    "Report the OLS regression results of Hscore on logGDP, Freedom, and GQuality with statsmodels for all countries. Interpret the estimated slope coefficients (the partial effects) and the R-squared.\n",
    "Obtain the predicted Hscore based on the regression result of Part 3. Is the country with highest predicted Hscore the same as the one with highest acutal HScore? Which country's Hscore is most over-predicted? Which country's Hscore is most under-predicted?\n",
    "Extend the regression model in Part 3 to assess if logGDP and GQuality show a synergy (complementary) effect to Hscore? Comment on the results.\n",
    "from sklearn.linear_model import LinearRegression\n",
    "# from sklearn import tree\n",
    "from sklearn.tree import DecisionTreeClassifier \n",
    "from sklearn.tree import DecisionTreeRegressor \n",
    "# from sklearn import ensemble\n",
    "from sklearn.ensemble import RandomForestClassifier\n",
    "from sklearn.ensemble import RandomForestRegressor\n",
    "from sklearn.ensemble import GradientBoostingClassifier\n",
    "from sklearn.ensemble import GradientBoostingRegressor\n",
    "\n",
    "# text analysis libraries \n",
    "from nltk.sentiment.vader import SentimentIntensityAnalyzer as SIA\n",
    "from sklearn.feature_extraction.text import CountVectorizer"
   ]
  },
  {
   "cell_type": "code",
   "execution_count": null,
   "metadata": {},
   "outputs": [],
   "source": []
  },
  {
   "cell_type": "markdown",
   "metadata": {},
   "source": [
    "# Question 1 (10 marks)\n",
    "\n",
    "Use data from **H2019.csv** to answer this question. The dataset has the following variables\n",
    "\n",
    "* Country: country name\n",
    "* Hscore: happiness score (higher score implies higher degree of happiness)\n",
    "* logGDP: log GDP per capita\n",
    "* Freedom: freedom to make life choice (higher score implies higher degree of freedom)\n",
    "* GQuality: Government Quality (higher score implies higher degree of government qaulity)\n",
    "\n",
    "\n",
    "1. Classify countries with logGDP larger than 9.9 as 'Rich' countries &  all others as 'not-Rich' countries. How many countries are in the Rich group? Test if the mean of Hscore for Rich countries is the same as it is of not-Rich countries. Use the 6 steps of hypothesis testing to report the testing outcomes.\n",
    "2. Find the 99% confidence interval (CI) of the mean of GQuality of Rich and Not-Rich countries, separately. Present the CI formula and interpret the results.\n",
    "3. Report the OLS regression results of Hscore on logGDP, Freedom, and GQuality with statsmodels for all countries. Interpret the estimated slope coefficients (the partial effects) and the R-squared. \n",
    "4. Obtain the predicted Hscore based on the regression result of Part 3. Is the country with highest predicted Hscore the same as the one with highest acutal HScore? Which country's Hscore is most over-predicted? Which country's Hscore is most under-predicted?\n",
    "5. Extend the regression model in Part 3 to assess if logGDP and GQuality show a synergy (complementary) effect to Hscore? Comment on the results."
   ]
  },
  {
   "cell_type": "code",
   "execution_count": 2,
   "metadata": {},
   "outputs": [
    {
     "name": "stdout",
     "output_type": "stream",
     "text": [
      "<class 'pandas.core.frame.DataFrame'>\n",
      "RangeIndex: 118 entries, 0 to 117\n",
      "Data columns (total 5 columns):\n",
      " #   Column    Non-Null Count  Dtype  \n",
      "---  ------    --------------  -----  \n",
      " 0   Country   118 non-null    object \n",
      " 1   Hscore    118 non-null    float64\n",
      " 2   logGDP    118 non-null    float64\n",
      " 3   Freedom   118 non-null    float64\n",
      " 4   GQuality  118 non-null    float64\n",
      "dtypes: float64(4), object(1)\n",
      "memory usage: 4.7+ KB\n"
     ]
    }
   ],
   "source": [
    "H=pd.read_csv('H2019.csv')\n",
    "H.info()"
   ]
  },
  {
   "cell_type": "code",
   "execution_count": 219,
   "metadata": {},
   "outputs": [
    {
     "data": {
      "text/html": [
       "<div>\n",
       "<style scoped>\n",
       "    .dataframe tbody tr th:only-of-type {\n",
       "        vertical-align: middle;\n",
       "    }\n",
       "\n",
       "    .dataframe tbody tr th {\n",
       "        vertical-align: top;\n",
       "    }\n",
       "\n",
       "    .dataframe thead th {\n",
       "        text-align: right;\n",
       "    }\n",
       "</style>\n",
       "<table border=\"1\" class=\"dataframe\">\n",
       "  <thead>\n",
       "    <tr style=\"text-align: right;\">\n",
       "      <th></th>\n",
       "      <th>Country</th>\n",
       "      <th>Hscore</th>\n",
       "      <th>logGDP</th>\n",
       "      <th>Freedom</th>\n",
       "      <th>GQuality</th>\n",
       "      <th>Group</th>\n",
       "      <th>Number_p1</th>\n",
       "    </tr>\n",
       "  </thead>\n",
       "  <tbody>\n",
       "    <tr>\n",
       "      <th>0</th>\n",
       "      <td>Afghanistan</td>\n",
       "      <td>2.375092</td>\n",
       "      <td>7.458469</td>\n",
       "      <td>0.393656</td>\n",
       "      <td>0.761509</td>\n",
       "      <td>not-Rich</td>\n",
       "      <td>3.223745</td>\n",
       "    </tr>\n",
       "    <tr>\n",
       "      <th>1</th>\n",
       "      <td>Albania</td>\n",
       "      <td>4.995318</td>\n",
       "      <td>9.456569</td>\n",
       "      <td>0.777351</td>\n",
       "      <td>0.857157</td>\n",
       "      <td>not-Rich</td>\n",
       "      <td>5.427285</td>\n",
       "    </tr>\n",
       "    <tr>\n",
       "      <th>2</th>\n",
       "      <td>Algeria</td>\n",
       "      <td>4.744627</td>\n",
       "      <td>9.537369</td>\n",
       "      <td>0.385083</td>\n",
       "      <td>2.593907</td>\n",
       "      <td>not-Rich</td>\n",
       "      <td>4.569061</td>\n",
       "    </tr>\n",
       "    <tr>\n",
       "      <th>3</th>\n",
       "      <td>Argentina</td>\n",
       "      <td>6.085561</td>\n",
       "      <td>9.772140</td>\n",
       "      <td>0.817053</td>\n",
       "      <td>1.695402</td>\n",
       "      <td>not-Rich</td>\n",
       "      <td>5.792387</td>\n",
       "    </tr>\n",
       "    <tr>\n",
       "      <th>4</th>\n",
       "      <td>Australia</td>\n",
       "      <td>7.233995</td>\n",
       "      <td>10.725492</td>\n",
       "      <td>0.917537</td>\n",
       "      <td>5.697913</td>\n",
       "      <td>Rich</td>\n",
       "      <td>6.974191</td>\n",
       "    </tr>\n",
       "    <tr>\n",
       "      <th>5</th>\n",
       "      <td>Austria</td>\n",
       "      <td>7.195361</td>\n",
       "      <td>10.756180</td>\n",
       "      <td>0.903428</td>\n",
       "      <td>5.429111</td>\n",
       "      <td>Rich</td>\n",
       "      <td>6.929813</td>\n",
       "    </tr>\n",
       "    <tr>\n",
       "      <th>6</th>\n",
       "      <td>Azerbaijan</td>\n",
       "      <td>5.173389</td>\n",
       "      <td>9.704785</td>\n",
       "      <td>0.854249</td>\n",
       "      <td>5.427393</td>\n",
       "      <td>not-Rich</td>\n",
       "      <td>6.187455</td>\n",
       "    </tr>\n",
       "    <tr>\n",
       "      <th>7</th>\n",
       "      <td>Bangladesh</td>\n",
       "      <td>5.114217</td>\n",
       "      <td>8.323947</td>\n",
       "      <td>0.901937</td>\n",
       "      <td>3.439954</td>\n",
       "      <td>not-Rich</td>\n",
       "      <td>5.338531</td>\n",
       "    </tr>\n",
       "    <tr>\n",
       "      <th>8</th>\n",
       "      <td>Belarus</td>\n",
       "      <td>5.821453</td>\n",
       "      <td>9.802853</td>\n",
       "      <td>0.656934</td>\n",
       "      <td>4.540952</td>\n",
       "      <td>not-Rich</td>\n",
       "      <td>5.631725</td>\n",
       "    </tr>\n",
       "    <tr>\n",
       "      <th>9</th>\n",
       "      <td>Belgium</td>\n",
       "      <td>6.772138</td>\n",
       "      <td>10.682823</td>\n",
       "      <td>0.776204</td>\n",
       "      <td>3.275025</td>\n",
       "      <td>Rich</td>\n",
       "      <td>6.350895</td>\n",
       "    </tr>\n",
       "    <tr>\n",
       "      <th>10</th>\n",
       "      <td>Benin</td>\n",
       "      <td>4.976361</td>\n",
       "      <td>7.710536</td>\n",
       "      <td>0.770360</td>\n",
       "      <td>3.016530</td>\n",
       "      <td>not-Rich</td>\n",
       "      <td>4.589575</td>\n",
       "    </tr>\n",
       "    <tr>\n",
       "      <th>11</th>\n",
       "      <td>Bolivia</td>\n",
       "      <td>5.674271</td>\n",
       "      <td>8.877026</td>\n",
       "      <td>0.881311</td>\n",
       "      <td>1.427796</td>\n",
       "      <td>not-Rich</td>\n",
       "      <td>5.423442</td>\n",
       "    </tr>\n",
       "    <tr>\n",
       "      <th>12</th>\n",
       "      <td>Bosnia and Herzegovina</td>\n",
       "      <td>6.015522</td>\n",
       "      <td>9.495124</td>\n",
       "      <td>0.721563</td>\n",
       "      <td>0.370920</td>\n",
       "      <td>not-Rich</td>\n",
       "      <td>5.255376</td>\n",
       "    </tr>\n",
       "    <tr>\n",
       "      <th>13</th>\n",
       "      <td>Botswana</td>\n",
       "      <td>3.471085</td>\n",
       "      <td>9.728861</td>\n",
       "      <td>0.832543</td>\n",
       "      <td>2.079205</td>\n",
       "      <td>not-Rich</td>\n",
       "      <td>5.843480</td>\n",
       "    </tr>\n",
       "    <tr>\n",
       "      <th>14</th>\n",
       "      <td>Brazil</td>\n",
       "      <td>6.451149</td>\n",
       "      <td>9.567278</td>\n",
       "      <td>0.830206</td>\n",
       "      <td>2.381594</td>\n",
       "      <td>not-Rich</td>\n",
       "      <td>5.770555</td>\n",
       "    </tr>\n",
       "    <tr>\n",
       "      <th>15</th>\n",
       "      <td>Bulgaria</td>\n",
       "      <td>5.108438</td>\n",
       "      <td>9.905566</td>\n",
       "      <td>0.821930</td>\n",
       "      <td>0.571935</td>\n",
       "      <td>Rich</td>\n",
       "      <td>5.782476</td>\n",
       "    </tr>\n",
       "    <tr>\n",
       "      <th>16</th>\n",
       "      <td>Burkina Faso</td>\n",
       "      <td>4.740893</td>\n",
       "      <td>7.501008</td>\n",
       "      <td>0.677547</td>\n",
       "      <td>2.706034</td>\n",
       "      <td>not-Rich</td>\n",
       "      <td>4.189535</td>\n",
       "    </tr>\n",
       "    <tr>\n",
       "      <th>17</th>\n",
       "      <td>Cambodia</td>\n",
       "      <td>4.998285</td>\n",
       "      <td>8.314613</td>\n",
       "      <td>0.956799</td>\n",
       "      <td>1.715555</td>\n",
       "      <td>not-Rich</td>\n",
       "      <td>5.327287</td>\n",
       "    </tr>\n",
       "    <tr>\n",
       "      <th>18</th>\n",
       "      <td>Cameroon</td>\n",
       "      <td>4.936738</td>\n",
       "      <td>8.132742</td>\n",
       "      <td>0.711500</td>\n",
       "      <td>1.828297</td>\n",
       "      <td>not-Rich</td>\n",
       "      <td>4.568943</td>\n",
       "    </tr>\n",
       "    <tr>\n",
       "      <th>19</th>\n",
       "      <td>Canada</td>\n",
       "      <td>7.109076</td>\n",
       "      <td>10.694495</td>\n",
       "      <td>0.911526</td>\n",
       "      <td>5.635656</td>\n",
       "      <td>Rich</td>\n",
       "      <td>6.934416</td>\n",
       "    </tr>\n",
       "  </tbody>\n",
       "</table>\n",
       "</div>"
      ],
      "text/plain": [
       "                   Country    Hscore     logGDP   Freedom  GQuality     Group  \\\n",
       "0              Afghanistan  2.375092   7.458469  0.393656  0.761509  not-Rich   \n",
       "1                  Albania  4.995318   9.456569  0.777351  0.857157  not-Rich   \n",
       "2                  Algeria  4.744627   9.537369  0.385083  2.593907  not-Rich   \n",
       "3                Argentina  6.085561   9.772140  0.817053  1.695402  not-Rich   \n",
       "4                Australia  7.233995  10.725492  0.917537  5.697913      Rich   \n",
       "5                  Austria  7.195361  10.756180  0.903428  5.429111      Rich   \n",
       "6               Azerbaijan  5.173389   9.704785  0.854249  5.427393  not-Rich   \n",
       "7               Bangladesh  5.114217   8.323947  0.901937  3.439954  not-Rich   \n",
       "8                  Belarus  5.821453   9.802853  0.656934  4.540952  not-Rich   \n",
       "9                  Belgium  6.772138  10.682823  0.776204  3.275025      Rich   \n",
       "10                   Benin  4.976361   7.710536  0.770360  3.016530  not-Rich   \n",
       "11                 Bolivia  5.674271   8.877026  0.881311  1.427796  not-Rich   \n",
       "12  Bosnia and Herzegovina  6.015522   9.495124  0.721563  0.370920  not-Rich   \n",
       "13                Botswana  3.471085   9.728861  0.832543  2.079205  not-Rich   \n",
       "14                  Brazil  6.451149   9.567278  0.830206  2.381594  not-Rich   \n",
       "15                Bulgaria  5.108438   9.905566  0.821930  0.571935      Rich   \n",
       "16            Burkina Faso  4.740893   7.501008  0.677547  2.706034  not-Rich   \n",
       "17                Cambodia  4.998285   8.314613  0.956799  1.715555  not-Rich   \n",
       "18                Cameroon  4.936738   8.132742  0.711500  1.828297  not-Rich   \n",
       "19                  Canada  7.109076  10.694495  0.911526  5.635656      Rich   \n",
       "\n",
       "    Number_p1  \n",
       "0    3.223745  \n",
       "1    5.427285  \n",
       "2    4.569061  \n",
       "3    5.792387  \n",
       "4    6.974191  \n",
       "5    6.929813  \n",
       "6    6.187455  \n",
       "7    5.338531  \n",
       "8    5.631725  \n",
       "9    6.350895  \n",
       "10   4.589575  \n",
       "11   5.423442  \n",
       "12   5.255376  \n",
       "13   5.843480  \n",
       "14   5.770555  \n",
       "15   5.782476  \n",
       "16   4.189535  \n",
       "17   5.327287  \n",
       "18   4.568943  \n",
       "19   6.934416  "
      ]
     },
     "execution_count": 219,
     "metadata": {},
     "output_type": "execute_result"
    }
   ],
   "source": [
    "H.head(20)"
   ]
  },
  {
   "cell_type": "code",
   "execution_count": 13,
   "metadata": {},
   "outputs": [],
   "source": [
    "#converting the data from logGDP to two categories and creating a list out of it.\n",
    "logGDP=[]\n",
    "for i in range(0,len(H)):\n",
    "    if H.loc[i]['logGDP']>9.9:\n",
    "        logGDP.append('Rich')\n",
    "    else:\n",
    "        logGDP.append('not-Rich')"
   ]
  },
  {
   "cell_type": "code",
   "execution_count": 20,
   "metadata": {},
   "outputs": [
    {
     "name": "stdout",
     "output_type": "stream",
     "text": [
      "40\n",
      "78\n"
     ]
    }
   ],
   "source": [
    "print(logGDP.count('Rich'))\n",
    "print(logGDP.count('not-Rich'))"
   ]
  },
  {
   "cell_type": "code",
   "execution_count": null,
   "metadata": {},
   "outputs": [],
   "source": [
    "#So, there are 40 rich countries in the category."
   ]
  },
  {
   "cell_type": "code",
   "execution_count": 193,
   "metadata": {},
   "outputs": [
    {
     "data": {
      "text/html": [
       "<div>\n",
       "<style scoped>\n",
       "    .dataframe tbody tr th:only-of-type {\n",
       "        vertical-align: middle;\n",
       "    }\n",
       "\n",
       "    .dataframe tbody tr th {\n",
       "        vertical-align: top;\n",
       "    }\n",
       "\n",
       "    .dataframe thead th {\n",
       "        text-align: right;\n",
       "    }\n",
       "</style>\n",
       "<table border=\"1\" class=\"dataframe\">\n",
       "  <thead>\n",
       "    <tr style=\"text-align: right;\">\n",
       "      <th></th>\n",
       "      <th>mean</th>\n",
       "      <th>count</th>\n",
       "    </tr>\n",
       "    <tr>\n",
       "      <th>Group</th>\n",
       "      <th></th>\n",
       "      <th></th>\n",
       "    </tr>\n",
       "  </thead>\n",
       "  <tbody>\n",
       "    <tr>\n",
       "      <th>Rich</th>\n",
       "      <td>6.543017</td>\n",
       "      <td>40</td>\n",
       "    </tr>\n",
       "    <tr>\n",
       "      <th>not-Rich</th>\n",
       "      <td>5.002275</td>\n",
       "      <td>78</td>\n",
       "    </tr>\n",
       "  </tbody>\n",
       "</table>\n",
       "</div>"
      ],
      "text/plain": [
       "              mean  count\n",
       "Group                    \n",
       "Rich      6.543017     40\n",
       "not-Rich  5.002275     78"
      ]
     },
     "execution_count": 193,
     "metadata": {},
     "output_type": "execute_result"
    }
   ],
   "source": [
    "#checking if the mean of Hscore for Rich countries is the same as it is of not-Rich countries\n",
    "H['Group']=np.where(H['logGDP']>9.9,\"Rich\",\"not-Rich\")\n",
    "H.groupby('Group')['Hscore'].agg(['mean','count'])"
   ]
  },
  {
   "cell_type": "code",
   "execution_count": 194,
   "metadata": {},
   "outputs": [
    {
     "data": {
      "text/plain": [
       "0.008335367134848675"
      ]
     },
     "execution_count": 194,
     "metadata": {},
     "output_type": "execute_result"
    }
   ],
   "source": [
    "# H0: losing proportion > 0.5 --> output: p-value (half -- one tailed)\n",
    "stats.binom_test(78, 128, 0.50, alternative='greater')\n"
   ]
  },
  {
   "cell_type": "markdown",
   "metadata": {},
   "source": [
    "Null: proportion(not-Rich) > proportion(Rich) -- equivalently, proportion(not-Rich) >= 0.5; alternative: proportion(Rich) < 0.5\n",
    "\n",
    "test stat: (p^-p0)/sqrt(p0*(1-p0)/n) where p^=0.6, p0=0.5, n=118 (test stat: 2.76)\n",
    "\n",
    "p-value = 0.008335 (one-tailed), which is smaller than 0.05, so reject the null"
   ]
  },
  {
   "cell_type": "markdown",
   "metadata": {},
   "source": [
    "Part 2"
   ]
  },
  {
   "cell_type": "code",
   "execution_count": 195,
   "metadata": {},
   "outputs": [],
   "source": [
    "# Bootstrap CI\n",
    "def Boot_CI(x,nr,alpha):\n",
    "    n=len(x)\n",
    "    mx=x.mean()\n",
    "    means=(x.sample(n,replace=True).mean() for _ in range(nr))\n",
    "    df=pd.DataFrame(means, columns=['mean'])\n",
    "    df=df.sort_values('mean')\n",
    "    C1 = df['mean'].quantile(alpha/2)\n",
    "    C2 = df['mean'].quantile(1-(alpha/2))\n",
    "    print((1-alpha)*100,\"% CI\")\n",
    "    print('sample size:', n)\n",
    "    print('Sample mean:', mx)\n",
    "    print('[Boot-CI]','\\nC1:', C1, '\\nC2:', C2)\n",
    "    print('[Pivot Boot-CI]','\\nC1:', 2*mx-C2, '\\nC2:', 2*mx-C1)"
   ]
  },
  {
   "cell_type": "code",
   "execution_count": 199,
   "metadata": {},
   "outputs": [
    {
     "name": "stdout",
     "output_type": "stream",
     "text": [
      "99.0 % CI\n",
      "sample size: 40\n",
      "Sample mean: 3.7227071300148964\n",
      "[Boot-CI] \n",
      "C1: 2.8124694515019653 \n",
      "C2: 4.707551302537322\n",
      "[Pivot Boot-CI] \n",
      "C1: 2.737862957492471 \n",
      "C2: 4.632944808527828\n"
     ]
    }
   ],
   "source": [
    "Boot_CI(H[H.Group=='Rich'].GQuality,1000,0.01)"
   ]
  },
  {
   "cell_type": "code",
   "execution_count": 200,
   "metadata": {},
   "outputs": [
    {
     "name": "stdout",
     "output_type": "stream",
     "text": [
      "99.0 % CI\n",
      "sample size: 78\n",
      "Sample mean: 2.2228456766177445\n",
      "[Boot-CI] \n",
      "C1: 1.9030153183600842 \n",
      "C2: 2.5942821914186847\n",
      "[Pivot Boot-CI] \n",
      "C1: 1.8514091618168043 \n",
      "C2: 2.542676034875405\n"
     ]
    }
   ],
   "source": [
    "Boot_CI(H[H.Group=='not-Rich'].GQuality,1000,0.01)"
   ]
  },
  {
   "cell_type": "code",
   "execution_count": 201,
   "metadata": {},
   "outputs": [
    {
     "data": {
      "text/plain": [
       "<matplotlib.axes._subplots.AxesSubplot at 0x24c3caccec8>"
      ]
     },
     "execution_count": 201,
     "metadata": {},
     "output_type": "execute_result"
    },
    {
     "data": {
      "image/png": "[encoded data removed]",
      "text/plain": [
       "<Figure size 432x288 with 1 Axes>"
      ]
     },
     "metadata": {},
     "output_type": "display_data"
    }
   ],
   "source": [
    "sns.barplot(x='GQuality',y='Group', capsize=0.1, data=H)"
   ]
  },
  {
   "cell_type": "markdown",
   "metadata": {},
   "source": [
    "Clearly, both CI's are not symmetric (around mean) -- longer in the upper-end. "
   ]
  },
  {
   "cell_type": "markdown",
   "metadata": {},
   "source": [
    "for both rich and not rich, we got the range that includes a part of the sampling distribution in form of C1 and C2\n",
    "We have used the bootstrapping method here"
   ]
  },
  {
   "cell_type": "markdown",
   "metadata": {},
   "source": [
    "Part 3"
   ]
  },
  {
   "cell_type": "code",
   "execution_count": 203,
   "metadata": {},
   "outputs": [
    {
     "name": "stdout",
     "output_type": "stream",
     "text": [
      "                            OLS Regression Results                            \n",
      "==============================================================================\n",
      "Dep. Variable:                 Hscore   R-squared:                       0.655\n",
      "Model:                            OLS   Adj. R-squared:                  0.646\n",
      "Method:                 Least Squares   F-statistic:                     72.12\n",
      "Date:                Thu, 08 Oct 2020   Prob (F-statistic):           3.20e-26\n",
      "Time:                        17:31:14   Log-Likelihood:                -119.78\n",
      "No. Observations:                 118   AIC:                             247.6\n",
      "Df Residuals:                     114   BIC:                             258.7\n",
      "Df Model:                           3                                         \n",
      "Covariance Type:            nonrobust                                         \n",
      "==============================================================================\n",
      "                 coef    std err          t      P>|t|      [0.025      0.975]\n",
      "------------------------------------------------------------------------------\n",
      "Intercept     -2.2305      0.594     -3.755      0.000      -3.407      -1.054\n",
      "logGDP         0.5795      0.061      9.554      0.000       0.459       0.700\n",
      "Freedom        2.7029      0.600      4.504      0.000       1.514       3.892\n",
      "GQuality       0.0894      0.039      2.301      0.023       0.012       0.166\n",
      "==============================================================================\n",
      "Omnibus:                       27.916   Durbin-Watson:                   2.068\n",
      "Prob(Omnibus):                  0.000   Jarque-Bera (JB):               41.063\n",
      "Skew:                          -1.163   Prob(JB):                     1.21e-09\n",
      "Kurtosis:                       4.715   Cond. No.                         115.\n",
      "==============================================================================\n",
      "\n",
      "Warnings:\n",
      "[1] Standard Errors assume that the covariance matrix of the errors is correctly specified.\n"
     ]
    }
   ],
   "source": [
    "results1=smf.ols(formula='Hscore ~ logGDP + Freedom + GQuality', data=H).fit()\n",
    "print(results1.summary())"
   ]
  },
  {
   "cell_type": "markdown",
   "metadata": {},
   "source": [
    "Clearly, there is a clearly positive relation of Hscore with logGDP,Freedom and GQuality . However, the relationship between GQuality and Hscore is insignificant.\n",
    "\n",
    "1 billion dolloar increase of logGDP is associated with  0.5795  more billionaire.\n",
    "\n",
    "1 billion dolloar increase of Freedom  is associated with  2.7029   more billionaire.\n",
    "\n",
    "1 billion dolloar increase of GQuality is associated with    0.0894 more billionaire.\n",
    "\n",
    "R-sq value is 0.655."
   ]
  },
  {
   "cell_type": "markdown",
   "metadata": {},
   "source": [
    "Part 4"
   ]
  },
  {
   "cell_type": "code",
   "execution_count": 229,
   "metadata": {},
   "outputs": [
    {
     "data": {
      "text/html": [
       "<div>\n",
       "<style scoped>\n",
       "    .dataframe tbody tr th:only-of-type {\n",
       "        vertical-align: middle;\n",
       "    }\n",
       "\n",
       "    .dataframe tbody tr th {\n",
       "        vertical-align: top;\n",
       "    }\n",
       "\n",
       "    .dataframe thead th {\n",
       "        text-align: right;\n",
       "    }\n",
       "</style>\n",
       "<table border=\"1\" class=\"dataframe\">\n",
       "  <thead>\n",
       "    <tr style=\"text-align: right;\">\n",
       "      <th></th>\n",
       "      <th>Country</th>\n",
       "      <th>Hscore</th>\n",
       "      <th>logGDP</th>\n",
       "      <th>Freedom</th>\n",
       "      <th>GQuality</th>\n",
       "      <th>Group</th>\n",
       "      <th>Number_p1</th>\n",
       "    </tr>\n",
       "  </thead>\n",
       "  <tbody>\n",
       "    <tr>\n",
       "      <th>33</th>\n",
       "      <td>Finland</td>\n",
       "      <td>7.780348</td>\n",
       "      <td>10.6517</td>\n",
       "      <td>0.947617</td>\n",
       "      <td>8.046616</td>\n",
       "      <td>Rich</td>\n",
       "      <td>7.222657</td>\n",
       "    </tr>\n",
       "  </tbody>\n",
       "</table>\n",
       "</div>"
      ],
      "text/plain": [
       "    Country    Hscore   logGDP   Freedom  GQuality Group  Number_p1\n",
       "33  Finland  7.780348  10.6517  0.947617  8.046616  Rich   7.222657"
      ]
     },
     "execution_count": 229,
     "metadata": {},
     "output_type": "execute_result"
    }
   ],
   "source": [
    "#max h score\n",
    "H[H['Hscore']==H['Hscore'].max()]"
   ]
  },
  {
   "cell_type": "code",
   "execution_count": 214,
   "metadata": {},
   "outputs": [],
   "source": [
    "H['Number_p1'] = results1.predict()"
   ]
  },
  {
   "cell_type": "code",
   "execution_count": 218,
   "metadata": {},
   "outputs": [
    {
     "data": {
      "text/plain": [
       "<matplotlib.collections.PathCollection at 0x24c41622ec8>"
      ]
     },
     "execution_count": 218,
     "metadata": {},
     "output_type": "execute_result"
    },
    {
     "data": {
      "image/png": "[encoded data removed]",
      "text/plain": [
       "<Figure size 432x432 with 1 Axes>"
      ]
     },
     "metadata": {},
     "output_type": "display_data"
    }
   ],
   "source": [
    "plt.figure(figsize=(6,6))\n",
    "h = plt.plot(np.arange(0,10),np.arange(0,10), c='black', ls='--')\n",
    "# scatter plot with plt\n",
    "plt.scatter(H.Hscore,H.Number_p1,c='b')"
   ]
  },
  {
   "cell_type": "markdown",
   "metadata": {},
   "source": [
    "Q1.Is the country with highest predicted Hscore the same as the one with highest acutal HScore?"
   ]
  },
  {
   "cell_type": "code",
   "execution_count": 230,
   "metadata": {},
   "outputs": [
    {
     "data": {
      "text/html": [
       "<div>\n",
       "<style scoped>\n",
       "    .dataframe tbody tr th:only-of-type {\n",
       "        vertical-align: middle;\n",
       "    }\n",
       "\n",
       "    .dataframe tbody tr th {\n",
       "        vertical-align: top;\n",
       "    }\n",
       "\n",
       "    .dataframe thead th {\n",
       "        text-align: right;\n",
       "    }\n",
       "</style>\n",
       "<table border=\"1\" class=\"dataframe\">\n",
       "  <thead>\n",
       "    <tr style=\"text-align: right;\">\n",
       "      <th></th>\n",
       "      <th>Country</th>\n",
       "      <th>Hscore</th>\n",
       "      <th>logGDP</th>\n",
       "      <th>Freedom</th>\n",
       "      <th>GQuality</th>\n",
       "      <th>Group</th>\n",
       "      <th>Number_p1</th>\n",
       "    </tr>\n",
       "  </thead>\n",
       "  <tbody>\n",
       "    <tr>\n",
       "      <th>33</th>\n",
       "      <td>Finland</td>\n",
       "      <td>7.780348</td>\n",
       "      <td>10.6517</td>\n",
       "      <td>0.947617</td>\n",
       "      <td>8.046616</td>\n",
       "      <td>Rich</td>\n",
       "      <td>7.222657</td>\n",
       "    </tr>\n",
       "  </tbody>\n",
       "</table>\n",
       "</div>"
      ],
      "text/plain": [
       "    Country    Hscore   logGDP   Freedom  GQuality Group  Number_p1\n",
       "33  Finland  7.780348  10.6517  0.947617  8.046616  Rich   7.222657"
      ]
     },
     "execution_count": 230,
     "metadata": {},
     "output_type": "execute_result"
    }
   ],
   "source": [
    "H[H.Country=='Finland']"
   ]
  },
  {
   "cell_type": "code",
   "execution_count": 232,
   "metadata": {},
   "outputs": [
    {
     "data": {
      "text/html": [
       "<div>\n",
       "<style scoped>\n",
       "    .dataframe tbody tr th:only-of-type {\n",
       "        vertical-align: middle;\n",
       "    }\n",
       "\n",
       "    .dataframe tbody tr th {\n",
       "        vertical-align: top;\n",
       "    }\n",
       "\n",
       "    .dataframe thead th {\n",
       "        text-align: right;\n",
       "    }\n",
       "</style>\n",
       "<table border=\"1\" class=\"dataframe\">\n",
       "  <thead>\n",
       "    <tr style=\"text-align: right;\">\n",
       "      <th></th>\n",
       "      <th>Country</th>\n",
       "      <th>Hscore</th>\n",
       "      <th>logGDP</th>\n",
       "      <th>Freedom</th>\n",
       "      <th>GQuality</th>\n",
       "      <th>Group</th>\n",
       "      <th>Number_p1</th>\n",
       "    </tr>\n",
       "  </thead>\n",
       "  <tbody>\n",
       "    <tr>\n",
       "      <th>61</th>\n",
       "      <td>Luxembourg</td>\n",
       "      <td>7.404016</td>\n",
       "      <td>11.46207</td>\n",
       "      <td>0.930321</td>\n",
       "      <td>6.104016</td>\n",
       "      <td>Rich</td>\n",
       "      <td>7.471886</td>\n",
       "    </tr>\n",
       "  </tbody>\n",
       "</table>\n",
       "</div>"
      ],
      "text/plain": [
       "       Country    Hscore    logGDP   Freedom  GQuality Group  Number_p1\n",
       "61  Luxembourg  7.404016  11.46207  0.930321  6.104016  Rich   7.471886"
      ]
     },
     "execution_count": 232,
     "metadata": {},
     "output_type": "execute_result"
    }
   ],
   "source": [
    "H[H['Number_p1']==H['Number_p1'].max()]"
   ]
  },
  {
   "cell_type": "markdown",
   "metadata": {},
   "source": [
    "The country with heighest predicted Hscore is Luxembourg which is 7.471886 and the country with highest actual Hscore is Finland which is 7.780348\n",
    "The prediction is very close to the actual value."
   ]
  },
  {
   "cell_type": "markdown",
   "metadata": {},
   "source": [
    "Which country's Hscore is most over-predicted?"
   ]
  },
  {
   "cell_type": "code",
   "execution_count": 234,
   "metadata": {},
   "outputs": [],
   "source": [
    "H['diff']= H['Hscore']-H['Number_p1']"
   ]
  },
  {
   "cell_type": "code",
   "execution_count": 235,
   "metadata": {},
   "outputs": [
    {
     "data": {
      "text/html": [
       "<div>\n",
       "<style scoped>\n",
       "    .dataframe tbody tr th:only-of-type {\n",
       "        vertical-align: middle;\n",
       "    }\n",
       "\n",
       "    .dataframe tbody tr th {\n",
       "        vertical-align: top;\n",
       "    }\n",
       "\n",
       "    .dataframe thead th {\n",
       "        text-align: right;\n",
       "    }\n",
       "</style>\n",
       "<table border=\"1\" class=\"dataframe\">\n",
       "  <thead>\n",
       "    <tr style=\"text-align: right;\">\n",
       "      <th></th>\n",
       "      <th>Country</th>\n",
       "      <th>Hscore</th>\n",
       "      <th>logGDP</th>\n",
       "      <th>Freedom</th>\n",
       "      <th>GQuality</th>\n",
       "      <th>Group</th>\n",
       "      <th>Number_p1</th>\n",
       "      <th>diff</th>\n",
       "    </tr>\n",
       "  </thead>\n",
       "  <tbody>\n",
       "    <tr>\n",
       "      <th>59</th>\n",
       "      <td>Liberia</td>\n",
       "      <td>5.121461</td>\n",
       "      <td>7.036142</td>\n",
       "      <td>0.705875</td>\n",
       "      <td>1.71531</td>\n",
       "      <td>not-Rich</td>\n",
       "      <td>3.908166</td>\n",
       "      <td>1.213295</td>\n",
       "    </tr>\n",
       "  </tbody>\n",
       "</table>\n",
       "</div>"
      ],
      "text/plain": [
       "    Country    Hscore    logGDP   Freedom  GQuality     Group  Number_p1  \\\n",
       "59  Liberia  5.121461  7.036142  0.705875   1.71531  not-Rich   3.908166   \n",
       "\n",
       "        diff  \n",
       "59  1.213295  "
      ]
     },
     "execution_count": 235,
     "metadata": {},
     "output_type": "execute_result"
    }
   ],
   "source": [
    "H[H['diff']==H['diff'].max()]"
   ]
  },
  {
   "cell_type": "markdown",
   "metadata": {},
   "source": [
    "So the most overpredicted country is Liberia."
   ]
  },
  {
   "cell_type": "code",
   "execution_count": null,
   "metadata": {},
   "outputs": [],
   "source": [
    "Which country's Hscore is most under-predicted?"
   ]
  },
  {
   "cell_type": "code",
   "execution_count": 238,
   "metadata": {},
   "outputs": [
    {
     "data": {
      "text/html": [
       "<div>\n",
       "<style scoped>\n",
       "    .dataframe tbody tr th:only-of-type {\n",
       "        vertical-align: middle;\n",
       "    }\n",
       "\n",
       "    .dataframe tbody tr th {\n",
       "        vertical-align: top;\n",
       "    }\n",
       "\n",
       "    .dataframe thead th {\n",
       "        text-align: right;\n",
       "    }\n",
       "</style>\n",
       "<table border=\"1\" class=\"dataframe\">\n",
       "  <thead>\n",
       "    <tr style=\"text-align: right;\">\n",
       "      <th></th>\n",
       "      <th>Country</th>\n",
       "      <th>Hscore</th>\n",
       "      <th>logGDP</th>\n",
       "      <th>Freedom</th>\n",
       "      <th>GQuality</th>\n",
       "      <th>Group</th>\n",
       "      <th>Number_p1</th>\n",
       "      <th>diff</th>\n",
       "    </tr>\n",
       "  </thead>\n",
       "  <tbody>\n",
       "    <tr>\n",
       "      <th>13</th>\n",
       "      <td>Botswana</td>\n",
       "      <td>3.471085</td>\n",
       "      <td>9.728861</td>\n",
       "      <td>0.832543</td>\n",
       "      <td>2.079205</td>\n",
       "      <td>not-Rich</td>\n",
       "      <td>5.84348</td>\n",
       "      <td>-2.372395</td>\n",
       "    </tr>\n",
       "  </tbody>\n",
       "</table>\n",
       "</div>"
      ],
      "text/plain": [
       "     Country    Hscore    logGDP   Freedom  GQuality     Group  Number_p1  \\\n",
       "13  Botswana  3.471085  9.728861  0.832543  2.079205  not-Rich    5.84348   \n",
       "\n",
       "        diff  \n",
       "13 -2.372395  "
      ]
     },
     "execution_count": 238,
     "metadata": {},
     "output_type": "execute_result"
    }
   ],
   "source": [
    "H[H['diff']==H['diff'].min()]"
   ]
  },
  {
   "cell_type": "markdown",
   "metadata": {},
   "source": [
    "Botswana is the most underpredicted country."
   ]
  },
  {
   "cell_type": "code",
   "execution_count": null,
   "metadata": {},
   "outputs": [],
   "source": [
    "Part 5"
   ]
  },
  {
   "cell_type": "markdown",
   "metadata": {},
   "source": [
    "Extend the regression model in Part 3 to assess if logGDP and GQuality show a synergy (complementary) effect to Hscore? Comment on the results."
   ]
  },
  {
   "cell_type": "code",
   "execution_count": null,
   "metadata": {},
   "outputs": [],
   "source": [
    "#Extending the model for synergy effect using logistic regression\n",
    "# logit\n",
    "results=smf.logit(formula='Hscore ~ logGDP + Freedom + GQuality', data=H).fit()\n",
    "print(results.summary())"
   ]
  },
  {
   "cell_type": "code",
   "execution_count": null,
   "metadata": {},
   "outputs": [],
   "source": []
  },
  {
   "cell_type": "code",
   "execution_count": null,
   "metadata": {},
   "outputs": [],
   "source": []
  },
  {
   "cell_type": "code",
   "execution_count": null,
   "metadata": {},
   "outputs": [],
   "source": []
  },
  {
   "cell_type": "code",
   "execution_count": null,
   "metadata": {},
   "outputs": [],
   "source": []
  },
  {
   "cell_type": "markdown",
   "metadata": {},
   "source": [
    "# Question 2\n",
    "\n",
    "Load Covid19 data from the following link https://raw.githubusercontent.com/datasets/covid-19/master/data/countries-aggregated.csv and use the data to answer this question. Obtain data till the end of September (**2020-09-30**). (Alternatively, use **covid0930.csv**.) Note that the three numerical variables (Deaths, Confirms, and Recovered) in the dataset are **accumulated** figures (i.e. 'total' numbers up to date).\n",
    "\n",
    "1. Find countries with total (accumulated) deaths over 15000 and obtain the first date for each of these countries when it happened. Find the dates that the total covid death number globally surpass 500000 and 1000000, respectively. \n",
    "2. Compute the global daily death rate (i.e. \"Deaths\" divided \"Confirmed\" across all countries in each day) and plot it in a line chart. Identify the period that the overall daily death rate is higher than 4%.\n",
    "3. Find countries with at least one day having more than 20000 new confirmed cases. How many countries have never experienced over 100 daily new confirmed cases? \n",
    "4. Find 'increased deaths' globally during each of the following months: March, April, May, June, July, August, and September (i.e. **new** deaths in each month) and make a bar plot to present these 7 monthly death figures. Comment on the plot. \n",
    "5. Make 3 line plots (in one graph) of daily new confirmed cases in Australia: original, 7-day rolling (moving average), and 14-day rolling. Comment on the plot and identify the peak date of each series (line)."
   ]
  },
  {
   "cell_type": "code",
   "execution_count": 237,
   "metadata": {},
   "outputs": [
    {
     "name": "stdout",
     "output_type": "stream",
     "text": [
      "<class 'pandas.core.frame.DataFrame'>\n",
      "Int64Index: 47564 entries, 0 to 48872\n",
      "Data columns (total 5 columns):\n",
      " #   Column     Non-Null Count  Dtype         \n",
      "---  ------     --------------  -----         \n",
      " 0   Date       47564 non-null  datetime64[ns]\n",
      " 1   Country    47564 non-null  object        \n",
      " 2   Confirmed  47564 non-null  int64         \n",
      " 3   Recovered  47564 non-null  int64         \n",
      " 4   Deaths     47564 non-null  int64         \n",
      "dtypes: datetime64[ns](1), int64(3), object(1)\n",
      "memory usage: 2.2+ MB\n"
     ]
    }
   ],
   "source": [
    "# get the Covid-19 data from the web (use data up to 2020-09-30)\n",
    "# import data\n",
    "url='https://raw.githubusercontent.com/datasets/covid-19/master/data/countries-aggregated.csv'\n",
    "covid = pd.read_csv(url, parse_dates=['Date'])\n",
    "covid = covid[covid.Date<='2020-09-30']\n",
    "covid.info()"
   ]
  },
  {
   "cell_type": "code",
   "execution_count": 22,
   "metadata": {},
   "outputs": [
    {
     "data": {
      "text/html": [
       "<div>\n",
       "<style scoped>\n",
       "    .dataframe tbody tr th:only-of-type {\n",
       "        vertical-align: middle;\n",
       "    }\n",
       "\n",
       "    .dataframe tbody tr th {\n",
       "        vertical-align: top;\n",
       "    }\n",
       "\n",
       "    .dataframe thead th {\n",
       "        text-align: right;\n",
       "    }\n",
       "</style>\n",
       "<table border=\"1\" class=\"dataframe\">\n",
       "  <thead>\n",
       "    <tr style=\"text-align: right;\">\n",
       "      <th></th>\n",
       "      <th>Date</th>\n",
       "      <th>Country</th>\n",
       "      <th>Confirmed</th>\n",
       "      <th>Recovered</th>\n",
       "      <th>Deaths</th>\n",
       "    </tr>\n",
       "  </thead>\n",
       "  <tbody>\n",
       "    <tr>\n",
       "      <th>0</th>\n",
       "      <td>2020-01-22</td>\n",
       "      <td>Afghanistan</td>\n",
       "      <td>0</td>\n",
       "      <td>0</td>\n",
       "      <td>0</td>\n",
       "    </tr>\n",
       "    <tr>\n",
       "      <th>1</th>\n",
       "      <td>2020-01-23</td>\n",
       "      <td>Afghanistan</td>\n",
       "      <td>0</td>\n",
       "      <td>0</td>\n",
       "      <td>0</td>\n",
       "    </tr>\n",
       "    <tr>\n",
       "      <th>2</th>\n",
       "      <td>2020-01-24</td>\n",
       "      <td>Afghanistan</td>\n",
       "      <td>0</td>\n",
       "      <td>0</td>\n",
       "      <td>0</td>\n",
       "    </tr>\n",
       "    <tr>\n",
       "      <th>3</th>\n",
       "      <td>2020-01-25</td>\n",
       "      <td>Afghanistan</td>\n",
       "      <td>0</td>\n",
       "      <td>0</td>\n",
       "      <td>0</td>\n",
       "    </tr>\n",
       "    <tr>\n",
       "      <th>4</th>\n",
       "      <td>2020-01-26</td>\n",
       "      <td>Afghanistan</td>\n",
       "      <td>0</td>\n",
       "      <td>0</td>\n",
       "      <td>0</td>\n",
       "    </tr>\n",
       "  </tbody>\n",
       "</table>\n",
       "</div>"
      ],
      "text/plain": [
       "        Date      Country  Confirmed  Recovered  Deaths\n",
       "0 2020-01-22  Afghanistan          0          0       0\n",
       "1 2020-01-23  Afghanistan          0          0       0\n",
       "2 2020-01-24  Afghanistan          0          0       0\n",
       "3 2020-01-25  Afghanistan          0          0       0\n",
       "4 2020-01-26  Afghanistan          0          0       0"
      ]
     },
     "execution_count": 22,
     "metadata": {},
     "output_type": "execute_result"
    }
   ],
   "source": [
    "covid.head()"
   ]
  },
  {
   "cell_type": "markdown",
   "metadata": {},
   "source": [
    "Part 1"
   ]
  },
  {
   "cell_type": "code",
   "execution_count": 23,
   "metadata": {},
   "outputs": [
    {
     "data": {
      "text/plain": [
       "array(['Argentina', 'Brazil', 'Colombia', 'France', 'India', 'Iran',\n",
       "       'Italy', 'Mexico', 'Peru', 'Russia', 'South Africa', 'Spain', 'US',\n",
       "       'United Kingdom'], dtype=object)"
      ]
     },
     "execution_count": 23,
     "metadata": {},
     "output_type": "execute_result"
    }
   ],
   "source": [
    "covid[covid.Deaths>15000].Country.unique()"
   ]
  },
  {
   "cell_type": "code",
   "execution_count": 24,
   "metadata": {},
   "outputs": [
    {
     "data": {
      "text/plain": [
       "Country\n",
       "China             2020-02-02\n",
       "Italy             2020-03-12\n",
       "Iran              2020-03-17\n",
       "Germany           2020-03-19\n",
       "Spain             2020-03-19\n",
       "                     ...    \n",
       "North Macedonia   2020-09-06\n",
       "Hungary           2020-09-17\n",
       "Greece            2020-09-20\n",
       "Croatia           2020-09-22\n",
       "Tunisia           2020-09-27\n",
       "Name: Date, Length: 87, dtype: datetime64[ns]"
      ]
     },
     "execution_count": 24,
     "metadata": {},
     "output_type": "execute_result"
    }
   ],
   "source": [
    "c1=covid[covid.Confirmed>15000]\n",
    "c1.groupby('Country').Date.min().sort_values()"
   ]
  },
  {
   "cell_type": "code",
   "execution_count": 27,
   "metadata": {},
   "outputs": [
    {
     "data": {
      "text/html": [
       "<div>\n",
       "<style scoped>\n",
       "    .dataframe tbody tr th:only-of-type {\n",
       "        vertical-align: middle;\n",
       "    }\n",
       "\n",
       "    .dataframe tbody tr th {\n",
       "        vertical-align: top;\n",
       "    }\n",
       "\n",
       "    .dataframe thead th {\n",
       "        text-align: right;\n",
       "    }\n",
       "</style>\n",
       "<table border=\"1\" class=\"dataframe\">\n",
       "  <thead>\n",
       "    <tr style=\"text-align: right;\">\n",
       "      <th></th>\n",
       "      <th>Confirmed</th>\n",
       "      <th>Recovered</th>\n",
       "      <th>Deaths</th>\n",
       "    </tr>\n",
       "    <tr>\n",
       "      <th>Date</th>\n",
       "      <th></th>\n",
       "      <th></th>\n",
       "      <th></th>\n",
       "    </tr>\n",
       "  </thead>\n",
       "  <tbody>\n",
       "    <tr>\n",
       "      <th>2020-01-22</th>\n",
       "      <td>555</td>\n",
       "      <td>28</td>\n",
       "      <td>17</td>\n",
       "    </tr>\n",
       "    <tr>\n",
       "      <th>2020-01-23</th>\n",
       "      <td>654</td>\n",
       "      <td>30</td>\n",
       "      <td>18</td>\n",
       "    </tr>\n",
       "    <tr>\n",
       "      <th>2020-01-24</th>\n",
       "      <td>941</td>\n",
       "      <td>36</td>\n",
       "      <td>26</td>\n",
       "    </tr>\n",
       "    <tr>\n",
       "      <th>2020-01-25</th>\n",
       "      <td>1434</td>\n",
       "      <td>39</td>\n",
       "      <td>42</td>\n",
       "    </tr>\n",
       "    <tr>\n",
       "      <th>2020-01-26</th>\n",
       "      <td>2118</td>\n",
       "      <td>52</td>\n",
       "      <td>56</td>\n",
       "    </tr>\n",
       "  </tbody>\n",
       "</table>\n",
       "</div>"
      ],
      "text/plain": [
       "            Confirmed  Recovered  Deaths\n",
       "Date                                    \n",
       "2020-01-22        555         28      17\n",
       "2020-01-23        654         30      18\n",
       "2020-01-24        941         36      26\n",
       "2020-01-25       1434         39      42\n",
       "2020-01-26       2118         52      56"
      ]
     },
     "execution_count": 27,
     "metadata": {},
     "output_type": "execute_result"
    }
   ],
   "source": [
    "c_sum=covid.groupby('Date').sum()\n",
    "c_sum.head()"
   ]
  },
  {
   "cell_type": "code",
   "execution_count": 33,
   "metadata": {},
   "outputs": [
    {
     "data": {
      "text/html": [
       "<div>\n",
       "<style scoped>\n",
       "    .dataframe tbody tr th:only-of-type {\n",
       "        vertical-align: middle;\n",
       "    }\n",
       "\n",
       "    .dataframe tbody tr th {\n",
       "        vertical-align: top;\n",
       "    }\n",
       "\n",
       "    .dataframe thead th {\n",
       "        text-align: right;\n",
       "    }\n",
       "</style>\n",
       "<table border=\"1\" class=\"dataframe\">\n",
       "  <thead>\n",
       "    <tr style=\"text-align: right;\">\n",
       "      <th></th>\n",
       "      <th>Confirmed</th>\n",
       "      <th>Recovered</th>\n",
       "      <th>Deaths</th>\n",
       "    </tr>\n",
       "    <tr>\n",
       "      <th>Date</th>\n",
       "      <th></th>\n",
       "      <th></th>\n",
       "      <th></th>\n",
       "    </tr>\n",
       "  </thead>\n",
       "  <tbody>\n",
       "    <tr>\n",
       "      <th>2020-06-29</th>\n",
       "      <td>10273032</td>\n",
       "      <td>5235793</td>\n",
       "      <td>503435</td>\n",
       "    </tr>\n",
       "  </tbody>\n",
       "</table>\n",
       "</div>"
      ],
      "text/plain": [
       "            Confirmed  Recovered  Deaths\n",
       "Date                                    \n",
       "2020-06-29   10273032    5235793  503435"
      ]
     },
     "execution_count": 33,
     "metadata": {},
     "output_type": "execute_result"
    }
   ],
   "source": [
    "c_sum[c_sum.Deaths>500000].head(1)"
   ]
  },
  {
   "cell_type": "code",
   "execution_count": 35,
   "metadata": {},
   "outputs": [
    {
     "data": {
      "text/html": [
       "<div>\n",
       "<style scoped>\n",
       "    .dataframe tbody tr th:only-of-type {\n",
       "        vertical-align: middle;\n",
       "    }\n",
       "\n",
       "    .dataframe tbody tr th {\n",
       "        vertical-align: top;\n",
       "    }\n",
       "\n",
       "    .dataframe thead th {\n",
       "        text-align: right;\n",
       "    }\n",
       "</style>\n",
       "<table border=\"1\" class=\"dataframe\">\n",
       "  <thead>\n",
       "    <tr style=\"text-align: right;\">\n",
       "      <th></th>\n",
       "      <th>Confirmed</th>\n",
       "      <th>Recovered</th>\n",
       "      <th>Deaths</th>\n",
       "    </tr>\n",
       "    <tr>\n",
       "      <th>Date</th>\n",
       "      <th></th>\n",
       "      <th></th>\n",
       "      <th></th>\n",
       "    </tr>\n",
       "  </thead>\n",
       "  <tbody>\n",
       "    <tr>\n",
       "      <th>2020-09-28</th>\n",
       "      <td>33358976</td>\n",
       "      <td>23151081</td>\n",
       "      <td>1001660</td>\n",
       "    </tr>\n",
       "  </tbody>\n",
       "</table>\n",
       "</div>"
      ],
      "text/plain": [
       "            Confirmed  Recovered   Deaths\n",
       "Date                                     \n",
       "2020-09-28   33358976   23151081  1001660"
      ]
     },
     "execution_count": 35,
     "metadata": {},
     "output_type": "execute_result"
    }
   ],
   "source": [
    "c_sum[c_sum.Deaths>1000000].head(1)"
   ]
  },
  {
   "cell_type": "markdown",
   "metadata": {},
   "source": [
    "Part 2"
   ]
  },
  {
   "cell_type": "code",
   "execution_count": 36,
   "metadata": {},
   "outputs": [
    {
     "data": {
      "text/html": [
       "<div>\n",
       "<style scoped>\n",
       "    .dataframe tbody tr th:only-of-type {\n",
       "        vertical-align: middle;\n",
       "    }\n",
       "\n",
       "    .dataframe tbody tr th {\n",
       "        vertical-align: top;\n",
       "    }\n",
       "\n",
       "    .dataframe thead th {\n",
       "        text-align: right;\n",
       "    }\n",
       "</style>\n",
       "<table border=\"1\" class=\"dataframe\">\n",
       "  <thead>\n",
       "    <tr style=\"text-align: right;\">\n",
       "      <th></th>\n",
       "      <th>Confirmed</th>\n",
       "      <th>Recovered</th>\n",
       "      <th>Deaths</th>\n",
       "      <th>d-rate</th>\n",
       "    </tr>\n",
       "    <tr>\n",
       "      <th>Date</th>\n",
       "      <th></th>\n",
       "      <th></th>\n",
       "      <th></th>\n",
       "      <th></th>\n",
       "    </tr>\n",
       "  </thead>\n",
       "  <tbody>\n",
       "    <tr>\n",
       "      <th>2020-01-22</th>\n",
       "      <td>555</td>\n",
       "      <td>28</td>\n",
       "      <td>17</td>\n",
       "      <td>3.063063</td>\n",
       "    </tr>\n",
       "    <tr>\n",
       "      <th>2020-01-23</th>\n",
       "      <td>654</td>\n",
       "      <td>30</td>\n",
       "      <td>18</td>\n",
       "      <td>2.752294</td>\n",
       "    </tr>\n",
       "    <tr>\n",
       "      <th>2020-01-24</th>\n",
       "      <td>941</td>\n",
       "      <td>36</td>\n",
       "      <td>26</td>\n",
       "      <td>2.763018</td>\n",
       "    </tr>\n",
       "    <tr>\n",
       "      <th>2020-01-25</th>\n",
       "      <td>1434</td>\n",
       "      <td>39</td>\n",
       "      <td>42</td>\n",
       "      <td>2.928870</td>\n",
       "    </tr>\n",
       "    <tr>\n",
       "      <th>2020-01-26</th>\n",
       "      <td>2118</td>\n",
       "      <td>52</td>\n",
       "      <td>56</td>\n",
       "      <td>2.644004</td>\n",
       "    </tr>\n",
       "    <tr>\n",
       "      <th>...</th>\n",
       "      <td>...</td>\n",
       "      <td>...</td>\n",
       "      <td>...</td>\n",
       "      <td>...</td>\n",
       "    </tr>\n",
       "    <tr>\n",
       "      <th>2020-09-26</th>\n",
       "      <td>32841726</td>\n",
       "      <td>22715380</td>\n",
       "      <td>994143</td>\n",
       "      <td>3.027073</td>\n",
       "    </tr>\n",
       "    <tr>\n",
       "      <th>2020-09-27</th>\n",
       "      <td>33081936</td>\n",
       "      <td>22925667</td>\n",
       "      <td>997742</td>\n",
       "      <td>3.015972</td>\n",
       "    </tr>\n",
       "    <tr>\n",
       "      <th>2020-09-28</th>\n",
       "      <td>33358976</td>\n",
       "      <td>23151081</td>\n",
       "      <td>1001660</td>\n",
       "      <td>3.002670</td>\n",
       "    </tr>\n",
       "    <tr>\n",
       "      <th>2020-09-29</th>\n",
       "      <td>33642960</td>\n",
       "      <td>23387690</td>\n",
       "      <td>1007755</td>\n",
       "      <td>2.995441</td>\n",
       "    </tr>\n",
       "    <tr>\n",
       "      <th>2020-09-30</th>\n",
       "      <td>33969937</td>\n",
       "      <td>23637164</td>\n",
       "      <td>1014161</td>\n",
       "      <td>2.985466</td>\n",
       "    </tr>\n",
       "  </tbody>\n",
       "</table>\n",
       "<p>253 rows × 4 columns</p>\n",
       "</div>"
      ],
      "text/plain": [
       "            Confirmed  Recovered   Deaths    d-rate\n",
       "Date                                               \n",
       "2020-01-22        555         28       17  3.063063\n",
       "2020-01-23        654         30       18  2.752294\n",
       "2020-01-24        941         36       26  2.763018\n",
       "2020-01-25       1434         39       42  2.928870\n",
       "2020-01-26       2118         52       56  2.644004\n",
       "...               ...        ...      ...       ...\n",
       "2020-09-26   32841726   22715380   994143  3.027073\n",
       "2020-09-27   33081936   22925667   997742  3.015972\n",
       "2020-09-28   33358976   23151081  1001660  3.002670\n",
       "2020-09-29   33642960   23387690  1007755  2.995441\n",
       "2020-09-30   33969937   23637164  1014161  2.985466\n",
       "\n",
       "[253 rows x 4 columns]"
      ]
     },
     "execution_count": 36,
     "metadata": {},
     "output_type": "execute_result"
    }
   ],
   "source": [
    "c_sum['d-rate']=c_sum.Deaths/c_sum.Confirmed*100\n",
    "c_sum"
   ]
  },
  {
   "cell_type": "code",
   "execution_count": 37,
   "metadata": {},
   "outputs": [],
   "source": [
    "c_sum['four']=4"
   ]
  },
  {
   "cell_type": "code",
   "execution_count": 38,
   "metadata": {},
   "outputs": [
    {
     "data": {
      "text/plain": [
       "<matplotlib.axes._subplots.AxesSubplot at 0x24c38de78c8>"
      ]
     },
     "execution_count": 38,
     "metadata": {},
     "output_type": "execute_result"
    },
    {
     "data": {
      "image/png": "[encoded data removed]",
      "text/plain": [
       "<Figure size 1152x288 with 1 Axes>"
      ]
     },
     "metadata": {},
     "output_type": "display_data"
    }
   ],
   "source": [
    "c_sum['four'].plot(kind='line', figsize=(16,4), style='--', color='black')\n",
    "c_sum['d-rate'].plot(kind='line', figsize=(16,4))"
   ]
  },
  {
   "cell_type": "code",
   "execution_count": 40,
   "metadata": {},
   "outputs": [
    {
     "data": {
      "text/html": [
       "<div>\n",
       "<style scoped>\n",
       "    .dataframe tbody tr th:only-of-type {\n",
       "        vertical-align: middle;\n",
       "    }\n",
       "\n",
       "    .dataframe tbody tr th {\n",
       "        vertical-align: top;\n",
       "    }\n",
       "\n",
       "    .dataframe thead th {\n",
       "        text-align: right;\n",
       "    }\n",
       "</style>\n",
       "<table border=\"1\" class=\"dataframe\">\n",
       "  <thead>\n",
       "    <tr style=\"text-align: right;\">\n",
       "      <th></th>\n",
       "      <th>Confirmed</th>\n",
       "      <th>Recovered</th>\n",
       "      <th>Deaths</th>\n",
       "      <th>d-rate</th>\n",
       "      <th>four</th>\n",
       "    </tr>\n",
       "    <tr>\n",
       "      <th>Date</th>\n",
       "      <th></th>\n",
       "      <th></th>\n",
       "      <th></th>\n",
       "      <th></th>\n",
       "      <th></th>\n",
       "    </tr>\n",
       "  </thead>\n",
       "  <tbody>\n",
       "    <tr>\n",
       "      <th>2020-03-18</th>\n",
       "      <td>219462</td>\n",
       "      <td>83321</td>\n",
       "      <td>8867</td>\n",
       "      <td>4.040335</td>\n",
       "      <td>4</td>\n",
       "    </tr>\n",
       "  </tbody>\n",
       "</table>\n",
       "</div>"
      ],
      "text/plain": [
       "            Confirmed  Recovered  Deaths    d-rate  four\n",
       "Date                                                    \n",
       "2020-03-18     219462      83321    8867  4.040335     4"
      ]
     },
     "execution_count": 40,
     "metadata": {},
     "output_type": "execute_result"
    }
   ],
   "source": [
    "c_sum[c_sum['d-rate']>4].head(1)"
   ]
  },
  {
   "cell_type": "code",
   "execution_count": 41,
   "metadata": {},
   "outputs": [
    {
     "data": {
      "text/html": [
       "<div>\n",
       "<style scoped>\n",
       "    .dataframe tbody tr th:only-of-type {\n",
       "        vertical-align: middle;\n",
       "    }\n",
       "\n",
       "    .dataframe tbody tr th {\n",
       "        vertical-align: top;\n",
       "    }\n",
       "\n",
       "    .dataframe thead th {\n",
       "        text-align: right;\n",
       "    }\n",
       "</style>\n",
       "<table border=\"1\" class=\"dataframe\">\n",
       "  <thead>\n",
       "    <tr style=\"text-align: right;\">\n",
       "      <th></th>\n",
       "      <th>Confirmed</th>\n",
       "      <th>Recovered</th>\n",
       "      <th>Deaths</th>\n",
       "      <th>d-rate</th>\n",
       "      <th>four</th>\n",
       "    </tr>\n",
       "    <tr>\n",
       "      <th>Date</th>\n",
       "      <th></th>\n",
       "      <th></th>\n",
       "      <th></th>\n",
       "      <th></th>\n",
       "      <th></th>\n",
       "    </tr>\n",
       "  </thead>\n",
       "  <tbody>\n",
       "    <tr>\n",
       "      <th>2020-07-24</th>\n",
       "      <td>15786391</td>\n",
       "      <td>9043203</td>\n",
       "      <td>635852</td>\n",
       "      <td>4.027849</td>\n",
       "      <td>4</td>\n",
       "    </tr>\n",
       "  </tbody>\n",
       "</table>\n",
       "</div>"
      ],
      "text/plain": [
       "            Confirmed  Recovered  Deaths    d-rate  four\n",
       "Date                                                    \n",
       "2020-07-24   15786391    9043203  635852  4.027849     4"
      ]
     },
     "execution_count": 41,
     "metadata": {},
     "output_type": "execute_result"
    }
   ],
   "source": [
    "c_sum[c_sum['d-rate']>4].tail(1)"
   ]
  },
  {
   "cell_type": "markdown",
   "metadata": {},
   "source": [
    "Between 2020-03-18 to 2020-07-24 death rate exceeded 4%."
   ]
  },
  {
   "cell_type": "markdown",
   "metadata": {},
   "source": [
    "Part 3"
   ]
  },
  {
   "cell_type": "code",
   "execution_count": 43,
   "metadata": {},
   "outputs": [
    {
     "data": {
      "text/html": [
       "<div>\n",
       "<style scoped>\n",
       "    .dataframe tbody tr th:only-of-type {\n",
       "        vertical-align: middle;\n",
       "    }\n",
       "\n",
       "    .dataframe tbody tr th {\n",
       "        vertical-align: top;\n",
       "    }\n",
       "\n",
       "    .dataframe thead th {\n",
       "        text-align: right;\n",
       "    }\n",
       "</style>\n",
       "<table border=\"1\" class=\"dataframe\">\n",
       "  <thead>\n",
       "    <tr style=\"text-align: right;\">\n",
       "      <th>Country</th>\n",
       "      <th>Afghanistan</th>\n",
       "      <th>Albania</th>\n",
       "      <th>Algeria</th>\n",
       "      <th>Andorra</th>\n",
       "      <th>Angola</th>\n",
       "      <th>Antigua and Barbuda</th>\n",
       "      <th>Argentina</th>\n",
       "      <th>Armenia</th>\n",
       "      <th>Australia</th>\n",
       "      <th>Austria</th>\n",
       "      <th>...</th>\n",
       "      <th>United Kingdom</th>\n",
       "      <th>Uruguay</th>\n",
       "      <th>Uzbekistan</th>\n",
       "      <th>Venezuela</th>\n",
       "      <th>Vietnam</th>\n",
       "      <th>West Bank and Gaza</th>\n",
       "      <th>Western Sahara</th>\n",
       "      <th>Yemen</th>\n",
       "      <th>Zambia</th>\n",
       "      <th>Zimbabwe</th>\n",
       "    </tr>\n",
       "    <tr>\n",
       "      <th>Date</th>\n",
       "      <th></th>\n",
       "      <th></th>\n",
       "      <th></th>\n",
       "      <th></th>\n",
       "      <th></th>\n",
       "      <th></th>\n",
       "      <th></th>\n",
       "      <th></th>\n",
       "      <th></th>\n",
       "      <th></th>\n",
       "      <th></th>\n",
       "      <th></th>\n",
       "      <th></th>\n",
       "      <th></th>\n",
       "      <th></th>\n",
       "      <th></th>\n",
       "      <th></th>\n",
       "      <th></th>\n",
       "      <th></th>\n",
       "      <th></th>\n",
       "      <th></th>\n",
       "    </tr>\n",
       "  </thead>\n",
       "  <tbody>\n",
       "    <tr>\n",
       "      <th>2020-01-22</th>\n",
       "      <td>0</td>\n",
       "      <td>0</td>\n",
       "      <td>0</td>\n",
       "      <td>0</td>\n",
       "      <td>0</td>\n",
       "      <td>0</td>\n",
       "      <td>0</td>\n",
       "      <td>0</td>\n",
       "      <td>0</td>\n",
       "      <td>0</td>\n",
       "      <td>...</td>\n",
       "      <td>0</td>\n",
       "      <td>0</td>\n",
       "      <td>0</td>\n",
       "      <td>0</td>\n",
       "      <td>0</td>\n",
       "      <td>0</td>\n",
       "      <td>0</td>\n",
       "      <td>0</td>\n",
       "      <td>0</td>\n",
       "      <td>0</td>\n",
       "    </tr>\n",
       "    <tr>\n",
       "      <th>2020-01-23</th>\n",
       "      <td>0</td>\n",
       "      <td>0</td>\n",
       "      <td>0</td>\n",
       "      <td>0</td>\n",
       "      <td>0</td>\n",
       "      <td>0</td>\n",
       "      <td>0</td>\n",
       "      <td>0</td>\n",
       "      <td>0</td>\n",
       "      <td>0</td>\n",
       "      <td>...</td>\n",
       "      <td>0</td>\n",
       "      <td>0</td>\n",
       "      <td>0</td>\n",
       "      <td>0</td>\n",
       "      <td>2</td>\n",
       "      <td>0</td>\n",
       "      <td>0</td>\n",
       "      <td>0</td>\n",
       "      <td>0</td>\n",
       "      <td>0</td>\n",
       "    </tr>\n",
       "    <tr>\n",
       "      <th>2020-01-24</th>\n",
       "      <td>0</td>\n",
       "      <td>0</td>\n",
       "      <td>0</td>\n",
       "      <td>0</td>\n",
       "      <td>0</td>\n",
       "      <td>0</td>\n",
       "      <td>0</td>\n",
       "      <td>0</td>\n",
       "      <td>0</td>\n",
       "      <td>0</td>\n",
       "      <td>...</td>\n",
       "      <td>0</td>\n",
       "      <td>0</td>\n",
       "      <td>0</td>\n",
       "      <td>0</td>\n",
       "      <td>2</td>\n",
       "      <td>0</td>\n",
       "      <td>0</td>\n",
       "      <td>0</td>\n",
       "      <td>0</td>\n",
       "      <td>0</td>\n",
       "    </tr>\n",
       "    <tr>\n",
       "      <th>2020-01-25</th>\n",
       "      <td>0</td>\n",
       "      <td>0</td>\n",
       "      <td>0</td>\n",
       "      <td>0</td>\n",
       "      <td>0</td>\n",
       "      <td>0</td>\n",
       "      <td>0</td>\n",
       "      <td>0</td>\n",
       "      <td>0</td>\n",
       "      <td>0</td>\n",
       "      <td>...</td>\n",
       "      <td>0</td>\n",
       "      <td>0</td>\n",
       "      <td>0</td>\n",
       "      <td>0</td>\n",
       "      <td>2</td>\n",
       "      <td>0</td>\n",
       "      <td>0</td>\n",
       "      <td>0</td>\n",
       "      <td>0</td>\n",
       "      <td>0</td>\n",
       "    </tr>\n",
       "    <tr>\n",
       "      <th>2020-01-26</th>\n",
       "      <td>0</td>\n",
       "      <td>0</td>\n",
       "      <td>0</td>\n",
       "      <td>0</td>\n",
       "      <td>0</td>\n",
       "      <td>0</td>\n",
       "      <td>0</td>\n",
       "      <td>0</td>\n",
       "      <td>4</td>\n",
       "      <td>0</td>\n",
       "      <td>...</td>\n",
       "      <td>0</td>\n",
       "      <td>0</td>\n",
       "      <td>0</td>\n",
       "      <td>0</td>\n",
       "      <td>2</td>\n",
       "      <td>0</td>\n",
       "      <td>0</td>\n",
       "      <td>0</td>\n",
       "      <td>0</td>\n",
       "      <td>0</td>\n",
       "    </tr>\n",
       "  </tbody>\n",
       "</table>\n",
       "<p>5 rows × 188 columns</p>\n",
       "</div>"
      ],
      "text/plain": [
       "Country     Afghanistan  Albania  Algeria  Andorra  Angola  \\\n",
       "Date                                                         \n",
       "2020-01-22            0        0        0        0       0   \n",
       "2020-01-23            0        0        0        0       0   \n",
       "2020-01-24            0        0        0        0       0   \n",
       "2020-01-25            0        0        0        0       0   \n",
       "2020-01-26            0        0        0        0       0   \n",
       "\n",
       "Country     Antigua and Barbuda  Argentina  Armenia  Australia  Austria  ...  \\\n",
       "Date                                                                     ...   \n",
       "2020-01-22                    0          0        0          0        0  ...   \n",
       "2020-01-23                    0          0        0          0        0  ...   \n",
       "2020-01-24                    0          0        0          0        0  ...   \n",
       "2020-01-25                    0          0        0          0        0  ...   \n",
       "2020-01-26                    0          0        0          4        0  ...   \n",
       "\n",
       "Country     United Kingdom  Uruguay  Uzbekistan  Venezuela  Vietnam  \\\n",
       "Date                                                                  \n",
       "2020-01-22               0        0           0          0        0   \n",
       "2020-01-23               0        0           0          0        2   \n",
       "2020-01-24               0        0           0          0        2   \n",
       "2020-01-25               0        0           0          0        2   \n",
       "2020-01-26               0        0           0          0        2   \n",
       "\n",
       "Country     West Bank and Gaza  Western Sahara  Yemen  Zambia  Zimbabwe  \n",
       "Date                                                                     \n",
       "2020-01-22                   0               0      0       0         0  \n",
       "2020-01-23                   0               0      0       0         0  \n",
       "2020-01-24                   0               0      0       0         0  \n",
       "2020-01-25                   0               0      0       0         0  \n",
       "2020-01-26                   0               0      0       0         0  \n",
       "\n",
       "[5 rows x 188 columns]"
      ]
     },
     "execution_count": 43,
     "metadata": {},
     "output_type": "execute_result"
    }
   ],
   "source": [
    "covid_pivot = covid.pivot(index='Date', columns='Country', values='Confirmed')\n",
    "covid_pivot.head()"
   ]
  },
  {
   "cell_type": "code",
   "execution_count": 44,
   "metadata": {},
   "outputs": [
    {
     "data": {
      "text/html": [
       "<div>\n",
       "<style scoped>\n",
       "    .dataframe tbody tr th:only-of-type {\n",
       "        vertical-align: middle;\n",
       "    }\n",
       "\n",
       "    .dataframe tbody tr th {\n",
       "        vertical-align: top;\n",
       "    }\n",
       "\n",
       "    .dataframe thead th {\n",
       "        text-align: right;\n",
       "    }\n",
       "</style>\n",
       "<table border=\"1\" class=\"dataframe\">\n",
       "  <thead>\n",
       "    <tr style=\"text-align: right;\">\n",
       "      <th>Country</th>\n",
       "      <th>Afghanistan</th>\n",
       "      <th>Albania</th>\n",
       "      <th>Algeria</th>\n",
       "      <th>Andorra</th>\n",
       "      <th>Angola</th>\n",
       "      <th>Antigua and Barbuda</th>\n",
       "      <th>Argentina</th>\n",
       "      <th>Armenia</th>\n",
       "      <th>Australia</th>\n",
       "      <th>Austria</th>\n",
       "      <th>...</th>\n",
       "      <th>United Kingdom</th>\n",
       "      <th>Uruguay</th>\n",
       "      <th>Uzbekistan</th>\n",
       "      <th>Venezuela</th>\n",
       "      <th>Vietnam</th>\n",
       "      <th>West Bank and Gaza</th>\n",
       "      <th>Western Sahara</th>\n",
       "      <th>Yemen</th>\n",
       "      <th>Zambia</th>\n",
       "      <th>Zimbabwe</th>\n",
       "    </tr>\n",
       "    <tr>\n",
       "      <th>Date</th>\n",
       "      <th></th>\n",
       "      <th></th>\n",
       "      <th></th>\n",
       "      <th></th>\n",
       "      <th></th>\n",
       "      <th></th>\n",
       "      <th></th>\n",
       "      <th></th>\n",
       "      <th></th>\n",
       "      <th></th>\n",
       "      <th></th>\n",
       "      <th></th>\n",
       "      <th></th>\n",
       "      <th></th>\n",
       "      <th></th>\n",
       "      <th></th>\n",
       "      <th></th>\n",
       "      <th></th>\n",
       "      <th></th>\n",
       "      <th></th>\n",
       "      <th></th>\n",
       "    </tr>\n",
       "  </thead>\n",
       "  <tbody>\n",
       "    <tr>\n",
       "      <th>2020-01-22</th>\n",
       "      <td>NaN</td>\n",
       "      <td>NaN</td>\n",
       "      <td>NaN</td>\n",
       "      <td>NaN</td>\n",
       "      <td>NaN</td>\n",
       "      <td>NaN</td>\n",
       "      <td>NaN</td>\n",
       "      <td>NaN</td>\n",
       "      <td>NaN</td>\n",
       "      <td>NaN</td>\n",
       "      <td>...</td>\n",
       "      <td>NaN</td>\n",
       "      <td>NaN</td>\n",
       "      <td>NaN</td>\n",
       "      <td>NaN</td>\n",
       "      <td>NaN</td>\n",
       "      <td>NaN</td>\n",
       "      <td>NaN</td>\n",
       "      <td>NaN</td>\n",
       "      <td>NaN</td>\n",
       "      <td>NaN</td>\n",
       "    </tr>\n",
       "    <tr>\n",
       "      <th>2020-01-23</th>\n",
       "      <td>0.0</td>\n",
       "      <td>0.0</td>\n",
       "      <td>0.0</td>\n",
       "      <td>0.0</td>\n",
       "      <td>0.0</td>\n",
       "      <td>0.0</td>\n",
       "      <td>0.0</td>\n",
       "      <td>0.0</td>\n",
       "      <td>0.0</td>\n",
       "      <td>0.0</td>\n",
       "      <td>...</td>\n",
       "      <td>0.0</td>\n",
       "      <td>0.0</td>\n",
       "      <td>0.0</td>\n",
       "      <td>0.0</td>\n",
       "      <td>2.0</td>\n",
       "      <td>0.0</td>\n",
       "      <td>0.0</td>\n",
       "      <td>0.0</td>\n",
       "      <td>0.0</td>\n",
       "      <td>0.0</td>\n",
       "    </tr>\n",
       "    <tr>\n",
       "      <th>2020-01-24</th>\n",
       "      <td>0.0</td>\n",
       "      <td>0.0</td>\n",
       "      <td>0.0</td>\n",
       "      <td>0.0</td>\n",
       "      <td>0.0</td>\n",
       "      <td>0.0</td>\n",
       "      <td>0.0</td>\n",
       "      <td>0.0</td>\n",
       "      <td>0.0</td>\n",
       "      <td>0.0</td>\n",
       "      <td>...</td>\n",
       "      <td>0.0</td>\n",
       "      <td>0.0</td>\n",
       "      <td>0.0</td>\n",
       "      <td>0.0</td>\n",
       "      <td>0.0</td>\n",
       "      <td>0.0</td>\n",
       "      <td>0.0</td>\n",
       "      <td>0.0</td>\n",
       "      <td>0.0</td>\n",
       "      <td>0.0</td>\n",
       "    </tr>\n",
       "  </tbody>\n",
       "</table>\n",
       "<p>3 rows × 188 columns</p>\n",
       "</div>"
      ],
      "text/plain": [
       "Country     Afghanistan  Albania  Algeria  Andorra  Angola  \\\n",
       "Date                                                         \n",
       "2020-01-22          NaN      NaN      NaN      NaN     NaN   \n",
       "2020-01-23          0.0      0.0      0.0      0.0     0.0   \n",
       "2020-01-24          0.0      0.0      0.0      0.0     0.0   \n",
       "\n",
       "Country     Antigua and Barbuda  Argentina  Armenia  Australia  Austria  ...  \\\n",
       "Date                                                                     ...   \n",
       "2020-01-22                  NaN        NaN      NaN        NaN      NaN  ...   \n",
       "2020-01-23                  0.0        0.0      0.0        0.0      0.0  ...   \n",
       "2020-01-24                  0.0        0.0      0.0        0.0      0.0  ...   \n",
       "\n",
       "Country     United Kingdom  Uruguay  Uzbekistan  Venezuela  Vietnam  \\\n",
       "Date                                                                  \n",
       "2020-01-22             NaN      NaN         NaN        NaN      NaN   \n",
       "2020-01-23             0.0      0.0         0.0        0.0      2.0   \n",
       "2020-01-24             0.0      0.0         0.0        0.0      0.0   \n",
       "\n",
       "Country     West Bank and Gaza  Western Sahara  Yemen  Zambia  Zimbabwe  \n",
       "Date                                                                     \n",
       "2020-01-22                 NaN             NaN    NaN     NaN       NaN  \n",
       "2020-01-23                 0.0             0.0    0.0     0.0       0.0  \n",
       "2020-01-24                 0.0             0.0    0.0     0.0       0.0  \n",
       "\n",
       "[3 rows x 188 columns]"
      ]
     },
     "execution_count": 44,
     "metadata": {},
     "output_type": "execute_result"
    }
   ],
   "source": [
    "covid_pivot_d=covid_pivot.diff()\n",
    "covid_pivot_d.head(3)"
   ]
  },
  {
   "cell_type": "code",
   "execution_count": 45,
   "metadata": {},
   "outputs": [
    {
     "data": {
      "text/html": [
       "<div>\n",
       "<style scoped>\n",
       "    .dataframe tbody tr th:only-of-type {\n",
       "        vertical-align: middle;\n",
       "    }\n",
       "\n",
       "    .dataframe tbody tr th {\n",
       "        vertical-align: top;\n",
       "    }\n",
       "\n",
       "    .dataframe thead th {\n",
       "        text-align: right;\n",
       "    }\n",
       "</style>\n",
       "<table border=\"1\" class=\"dataframe\">\n",
       "  <thead>\n",
       "    <tr style=\"text-align: right;\">\n",
       "      <th>Country</th>\n",
       "      <th>Afghanistan</th>\n",
       "      <th>Albania</th>\n",
       "      <th>Algeria</th>\n",
       "      <th>Andorra</th>\n",
       "      <th>Angola</th>\n",
       "      <th>Antigua and Barbuda</th>\n",
       "      <th>Argentina</th>\n",
       "      <th>Armenia</th>\n",
       "      <th>Australia</th>\n",
       "      <th>Austria</th>\n",
       "      <th>...</th>\n",
       "      <th>United Kingdom</th>\n",
       "      <th>Uruguay</th>\n",
       "      <th>Uzbekistan</th>\n",
       "      <th>Venezuela</th>\n",
       "      <th>Vietnam</th>\n",
       "      <th>West Bank and Gaza</th>\n",
       "      <th>Western Sahara</th>\n",
       "      <th>Yemen</th>\n",
       "      <th>Zambia</th>\n",
       "      <th>Zimbabwe</th>\n",
       "    </tr>\n",
       "    <tr>\n",
       "      <th>Date</th>\n",
       "      <th></th>\n",
       "      <th></th>\n",
       "      <th></th>\n",
       "      <th></th>\n",
       "      <th></th>\n",
       "      <th></th>\n",
       "      <th></th>\n",
       "      <th></th>\n",
       "      <th></th>\n",
       "      <th></th>\n",
       "      <th></th>\n",
       "      <th></th>\n",
       "      <th></th>\n",
       "      <th></th>\n",
       "      <th></th>\n",
       "      <th></th>\n",
       "      <th></th>\n",
       "      <th></th>\n",
       "      <th></th>\n",
       "      <th></th>\n",
       "      <th></th>\n",
       "    </tr>\n",
       "  </thead>\n",
       "  <tbody>\n",
       "    <tr>\n",
       "      <th>2020-01-23</th>\n",
       "      <td>0.0</td>\n",
       "      <td>0.0</td>\n",
       "      <td>0.0</td>\n",
       "      <td>0.0</td>\n",
       "      <td>0.0</td>\n",
       "      <td>0.0</td>\n",
       "      <td>0.0</td>\n",
       "      <td>0.0</td>\n",
       "      <td>0.0</td>\n",
       "      <td>0.0</td>\n",
       "      <td>...</td>\n",
       "      <td>0.0</td>\n",
       "      <td>0.0</td>\n",
       "      <td>0.0</td>\n",
       "      <td>0.0</td>\n",
       "      <td>2.0</td>\n",
       "      <td>0.0</td>\n",
       "      <td>0.0</td>\n",
       "      <td>0.0</td>\n",
       "      <td>0.0</td>\n",
       "      <td>0.0</td>\n",
       "    </tr>\n",
       "    <tr>\n",
       "      <th>2020-01-24</th>\n",
       "      <td>0.0</td>\n",
       "      <td>0.0</td>\n",
       "      <td>0.0</td>\n",
       "      <td>0.0</td>\n",
       "      <td>0.0</td>\n",
       "      <td>0.0</td>\n",
       "      <td>0.0</td>\n",
       "      <td>0.0</td>\n",
       "      <td>0.0</td>\n",
       "      <td>0.0</td>\n",
       "      <td>...</td>\n",
       "      <td>0.0</td>\n",
       "      <td>0.0</td>\n",
       "      <td>0.0</td>\n",
       "      <td>0.0</td>\n",
       "      <td>0.0</td>\n",
       "      <td>0.0</td>\n",
       "      <td>0.0</td>\n",
       "      <td>0.0</td>\n",
       "      <td>0.0</td>\n",
       "      <td>0.0</td>\n",
       "    </tr>\n",
       "    <tr>\n",
       "      <th>2020-01-25</th>\n",
       "      <td>0.0</td>\n",
       "      <td>0.0</td>\n",
       "      <td>0.0</td>\n",
       "      <td>0.0</td>\n",
       "      <td>0.0</td>\n",
       "      <td>0.0</td>\n",
       "      <td>0.0</td>\n",
       "      <td>0.0</td>\n",
       "      <td>0.0</td>\n",
       "      <td>0.0</td>\n",
       "      <td>...</td>\n",
       "      <td>0.0</td>\n",
       "      <td>0.0</td>\n",
       "      <td>0.0</td>\n",
       "      <td>0.0</td>\n",
       "      <td>0.0</td>\n",
       "      <td>0.0</td>\n",
       "      <td>0.0</td>\n",
       "      <td>0.0</td>\n",
       "      <td>0.0</td>\n",
       "      <td>0.0</td>\n",
       "    </tr>\n",
       "  </tbody>\n",
       "</table>\n",
       "<p>3 rows × 188 columns</p>\n",
       "</div>"
      ],
      "text/plain": [
       "Country     Afghanistan  Albania  Algeria  Andorra  Angola  \\\n",
       "Date                                                         \n",
       "2020-01-23          0.0      0.0      0.0      0.0     0.0   \n",
       "2020-01-24          0.0      0.0      0.0      0.0     0.0   \n",
       "2020-01-25          0.0      0.0      0.0      0.0     0.0   \n",
       "\n",
       "Country     Antigua and Barbuda  Argentina  Armenia  Australia  Austria  ...  \\\n",
       "Date                                                                     ...   \n",
       "2020-01-23                  0.0        0.0      0.0        0.0      0.0  ...   \n",
       "2020-01-24                  0.0        0.0      0.0        0.0      0.0  ...   \n",
       "2020-01-25                  0.0        0.0      0.0        0.0      0.0  ...   \n",
       "\n",
       "Country     United Kingdom  Uruguay  Uzbekistan  Venezuela  Vietnam  \\\n",
       "Date                                                                  \n",
       "2020-01-23             0.0      0.0         0.0        0.0      2.0   \n",
       "2020-01-24             0.0      0.0         0.0        0.0      0.0   \n",
       "2020-01-25             0.0      0.0         0.0        0.0      0.0   \n",
       "\n",
       "Country     West Bank and Gaza  Western Sahara  Yemen  Zambia  Zimbabwe  \n",
       "Date                                                                     \n",
       "2020-01-23                 0.0             0.0    0.0     0.0       0.0  \n",
       "2020-01-24                 0.0             0.0    0.0     0.0       0.0  \n",
       "2020-01-25                 0.0             0.0    0.0     0.0       0.0  \n",
       "\n",
       "[3 rows x 188 columns]"
      ]
     },
     "execution_count": 45,
     "metadata": {},
     "output_type": "execute_result"
    }
   ],
   "source": [
    "covid_pivot_d.dropna(inplace=True)\n",
    "covid_pivot_d.head(3)"
   ]
  },
  {
   "cell_type": "code",
   "execution_count": 48,
   "metadata": {},
   "outputs": [
    {
     "data": {
      "text/plain": [
       "False    182\n",
       "True       6\n",
       "dtype: int64"
      ]
     },
     "execution_count": 48,
     "metadata": {},
     "output_type": "execute_result"
    }
   ],
   "source": [
    "(covid_pivot_d.iloc[:,:].max()>20000).value_counts()"
   ]
  },
  {
   "cell_type": "code",
   "execution_count": 49,
   "metadata": {},
   "outputs": [
    {
     "data": {
      "text/plain": [
       "Country\n",
       "US                   True\n",
       "India                True\n",
       "Spain                True\n",
       "France               True\n",
       "Brazil               True\n",
       "Peru                 True\n",
       "Dominica            False\n",
       "Ethiopia            False\n",
       "Germany             False\n",
       "Georgia             False\n",
       "Diamond Princess    False\n",
       "Gambia              False\n",
       "Gabon               False\n",
       "Djibouti            False\n",
       "dtype: bool"
      ]
     },
     "execution_count": 49,
     "metadata": {},
     "output_type": "execute_result"
    }
   ],
   "source": [
    "(covid_pivot_d.iloc[:,:].max()>20000).sort_values(ascending=False).head(14)"
   ]
  },
  {
   "cell_type": "markdown",
   "metadata": {},
   "source": [
    "There are only 6 countries with at least one day having more than 20000 new confirmed cases"
   ]
  },
  {
   "cell_type": "code",
   "execution_count": 50,
   "metadata": {},
   "outputs": [
    {
     "data": {
      "text/plain": [
       "False    146\n",
       "True      42\n",
       "dtype: int64"
      ]
     },
     "execution_count": 50,
     "metadata": {},
     "output_type": "execute_result"
    }
   ],
   "source": [
    "(covid_pivot_d.iloc[:,:].max()<100).value_counts()"
   ]
  },
  {
   "cell_type": "code",
   "execution_count": 52,
   "metadata": {},
   "outputs": [
    {
     "data": {
      "text/plain": [
       "Country\n",
       "Zimbabwe         True\n",
       "Honduras         True\n",
       "Guyana           True\n",
       "Guinea-Bissau    True\n",
       "Guinea           True\n",
       "Guatemala        True\n",
       "Greece           True\n",
       "Ghana            True\n",
       "Germany          True\n",
       "Georgia          True\n",
       "Gambia           True\n",
       "Gabon            True\n",
       "France           True\n",
       "Finland          True\n",
       "dtype: bool"
      ]
     },
     "execution_count": 52,
     "metadata": {},
     "output_type": "execute_result"
    }
   ],
   "source": [
    "(covid_pivot_d.iloc[:,:].max()>100).sort_values(ascending=False).head(14)"
   ]
  },
  {
   "cell_type": "markdown",
   "metadata": {},
   "source": [
    "There are 42 countries which has not experienced more than 100 cases a day"
   ]
  },
  {
   "cell_type": "markdown",
   "metadata": {},
   "source": [
    "Part 4"
   ]
  },
  {
   "cell_type": "code",
   "execution_count": 90,
   "metadata": {},
   "outputs": [
    {
     "data": {
      "text/html": [
       "<div>\n",
       "<style scoped>\n",
       "    .dataframe tbody tr th:only-of-type {\n",
       "        vertical-align: middle;\n",
       "    }\n",
       "\n",
       "    .dataframe tbody tr th {\n",
       "        vertical-align: top;\n",
       "    }\n",
       "\n",
       "    .dataframe thead th {\n",
       "        text-align: right;\n",
       "    }\n",
       "</style>\n",
       "<table border=\"1\" class=\"dataframe\">\n",
       "  <thead>\n",
       "    <tr style=\"text-align: right;\">\n",
       "      <th></th>\n",
       "      <th>Date</th>\n",
       "      <th>Country</th>\n",
       "      <th>Confirmed</th>\n",
       "      <th>Recovered</th>\n",
       "      <th>Deaths</th>\n",
       "    </tr>\n",
       "  </thead>\n",
       "  <tbody>\n",
       "    <tr>\n",
       "      <th>0</th>\n",
       "      <td>2020-01-22</td>\n",
       "      <td>Afghanistan</td>\n",
       "      <td>0</td>\n",
       "      <td>0</td>\n",
       "      <td>0</td>\n",
       "    </tr>\n",
       "    <tr>\n",
       "      <th>1</th>\n",
       "      <td>2020-01-23</td>\n",
       "      <td>Afghanistan</td>\n",
       "      <td>0</td>\n",
       "      <td>0</td>\n",
       "      <td>0</td>\n",
       "    </tr>\n",
       "    <tr>\n",
       "      <th>2</th>\n",
       "      <td>2020-01-24</td>\n",
       "      <td>Afghanistan</td>\n",
       "      <td>0</td>\n",
       "      <td>0</td>\n",
       "      <td>0</td>\n",
       "    </tr>\n",
       "    <tr>\n",
       "      <th>3</th>\n",
       "      <td>2020-01-25</td>\n",
       "      <td>Afghanistan</td>\n",
       "      <td>0</td>\n",
       "      <td>0</td>\n",
       "      <td>0</td>\n",
       "    </tr>\n",
       "    <tr>\n",
       "      <th>4</th>\n",
       "      <td>2020-01-26</td>\n",
       "      <td>Afghanistan</td>\n",
       "      <td>0</td>\n",
       "      <td>0</td>\n",
       "      <td>0</td>\n",
       "    </tr>\n",
       "  </tbody>\n",
       "</table>\n",
       "</div>"
      ],
      "text/plain": [
       "        Date      Country  Confirmed  Recovered  Deaths\n",
       "0 2020-01-22  Afghanistan          0          0       0\n",
       "1 2020-01-23  Afghanistan          0          0       0\n",
       "2 2020-01-24  Afghanistan          0          0       0\n",
       "3 2020-01-25  Afghanistan          0          0       0\n",
       "4 2020-01-26  Afghanistan          0          0       0"
      ]
     },
     "execution_count": 90,
     "metadata": {},
     "output_type": "execute_result"
    }
   ],
   "source": [
    "covid.head()"
   ]
  },
  {
   "cell_type": "code",
   "execution_count": 92,
   "metadata": {},
   "outputs": [],
   "source": [
    "covid.set_index('Date',inplace=True)\n",
    "covid.index=covid.index.month"
   ]
  },
  {
   "cell_type": "code",
   "execution_count": 93,
   "metadata": {},
   "outputs": [
    {
     "data": {
      "text/html": [
       "<div>\n",
       "<style scoped>\n",
       "    .dataframe tbody tr th:only-of-type {\n",
       "        vertical-align: middle;\n",
       "    }\n",
       "\n",
       "    .dataframe tbody tr th {\n",
       "        vertical-align: top;\n",
       "    }\n",
       "\n",
       "    .dataframe thead th {\n",
       "        text-align: right;\n",
       "    }\n",
       "</style>\n",
       "<table border=\"1\" class=\"dataframe\">\n",
       "  <thead>\n",
       "    <tr style=\"text-align: right;\">\n",
       "      <th></th>\n",
       "      <th>Country</th>\n",
       "      <th>Confirmed</th>\n",
       "      <th>Recovered</th>\n",
       "      <th>Deaths</th>\n",
       "    </tr>\n",
       "    <tr>\n",
       "      <th>Date</th>\n",
       "      <th></th>\n",
       "      <th></th>\n",
       "      <th></th>\n",
       "      <th></th>\n",
       "    </tr>\n",
       "  </thead>\n",
       "  <tbody>\n",
       "    <tr>\n",
       "      <th>1</th>\n",
       "      <td>Afghanistan</td>\n",
       "      <td>0</td>\n",
       "      <td>0</td>\n",
       "      <td>0</td>\n",
       "    </tr>\n",
       "    <tr>\n",
       "      <th>1</th>\n",
       "      <td>Afghanistan</td>\n",
       "      <td>0</td>\n",
       "      <td>0</td>\n",
       "      <td>0</td>\n",
       "    </tr>\n",
       "    <tr>\n",
       "      <th>1</th>\n",
       "      <td>Afghanistan</td>\n",
       "      <td>0</td>\n",
       "      <td>0</td>\n",
       "      <td>0</td>\n",
       "    </tr>\n",
       "    <tr>\n",
       "      <th>1</th>\n",
       "      <td>Afghanistan</td>\n",
       "      <td>0</td>\n",
       "      <td>0</td>\n",
       "      <td>0</td>\n",
       "    </tr>\n",
       "    <tr>\n",
       "      <th>1</th>\n",
       "      <td>Afghanistan</td>\n",
       "      <td>0</td>\n",
       "      <td>0</td>\n",
       "      <td>0</td>\n",
       "    </tr>\n",
       "  </tbody>\n",
       "</table>\n",
       "</div>"
      ],
      "text/plain": [
       "          Country  Confirmed  Recovered  Deaths\n",
       "Date                                           \n",
       "1     Afghanistan          0          0       0\n",
       "1     Afghanistan          0          0       0\n",
       "1     Afghanistan          0          0       0\n",
       "1     Afghanistan          0          0       0\n",
       "1     Afghanistan          0          0       0"
      ]
     },
     "execution_count": 93,
     "metadata": {},
     "output_type": "execute_result"
    }
   ],
   "source": [
    "covid.head()"
   ]
  },
  {
   "cell_type": "code",
   "execution_count": 110,
   "metadata": {},
   "outputs": [
    {
     "name": "stdout",
     "output_type": "stream",
     "text": [
      "[398323, 4347375, 9657801, 13294644, 18284141, 23801937, 28107135]\n"
     ]
    }
   ],
   "source": [
    "#the top 7 values is from March to Septrmber, so we will plot them in bargraph\n",
    "month_death=[]\n",
    "for i in range(3,10):\n",
    "    monthly=covid[covid.index==i]['Deaths'].sum()\n",
    "    month_death.append(monthly)\n",
    "print(month_death)"
   ]
  },
  {
   "cell_type": "code",
   "execution_count": 118,
   "metadata": {},
   "outputs": [
    {
     "data": {
      "image/png": "[encoded data removed]",
      "text/plain": [
       "<Figure size 432x288 with 1 Axes>"
      ]
     },
     "metadata": {},
     "output_type": "display_data"
    }
   ],
   "source": [
    "label = ['March',\"April\",\"May\",\"June\",\"July\",\"August\",\"September\"]\n",
    "plt.bar(label, month_death)\n",
    "plt.xlabel('Months', fontsize=5)\n",
    "plt.ylabel('No of Deaths', fontsize=5)\n",
    "plt.title('Monthly Deaths')\n",
    "plt.show()"
   ]
  },
  {
   "cell_type": "markdown",
   "metadata": {},
   "source": [
    "As per this graph, the no of deaths saw an exponential increase its value"
   ]
  },
  {
   "cell_type": "markdown",
   "metadata": {},
   "source": [
    "Part 5"
   ]
  },
  {
   "cell_type": "code",
   "execution_count": 125,
   "metadata": {},
   "outputs": [
    {
     "data": {
      "text/html": [
       "<div>\n",
       "<style scoped>\n",
       "    .dataframe tbody tr th:only-of-type {\n",
       "        vertical-align: middle;\n",
       "    }\n",
       "\n",
       "    .dataframe tbody tr th {\n",
       "        vertical-align: top;\n",
       "    }\n",
       "\n",
       "    .dataframe thead th {\n",
       "        text-align: right;\n",
       "    }\n",
       "</style>\n",
       "<table border=\"1\" class=\"dataframe\">\n",
       "  <thead>\n",
       "    <tr style=\"text-align: right;\">\n",
       "      <th></th>\n",
       "      <th>Date</th>\n",
       "      <th>Country</th>\n",
       "      <th>Confirmed</th>\n",
       "      <th>Recovered</th>\n",
       "      <th>Deaths</th>\n",
       "    </tr>\n",
       "  </thead>\n",
       "  <tbody>\n",
       "    <tr>\n",
       "      <th>2080</th>\n",
       "      <td>2020-01-22</td>\n",
       "      <td>Australia</td>\n",
       "      <td>0</td>\n",
       "      <td>0</td>\n",
       "      <td>0</td>\n",
       "    </tr>\n",
       "    <tr>\n",
       "      <th>2081</th>\n",
       "      <td>2020-01-23</td>\n",
       "      <td>Australia</td>\n",
       "      <td>0</td>\n",
       "      <td>0</td>\n",
       "      <td>0</td>\n",
       "    </tr>\n",
       "    <tr>\n",
       "      <th>2082</th>\n",
       "      <td>2020-01-24</td>\n",
       "      <td>Australia</td>\n",
       "      <td>0</td>\n",
       "      <td>0</td>\n",
       "      <td>0</td>\n",
       "    </tr>\n",
       "    <tr>\n",
       "      <th>2083</th>\n",
       "      <td>2020-01-25</td>\n",
       "      <td>Australia</td>\n",
       "      <td>0</td>\n",
       "      <td>0</td>\n",
       "      <td>0</td>\n",
       "    </tr>\n",
       "  </tbody>\n",
       "</table>\n",
       "</div>"
      ],
      "text/plain": [
       "           Date    Country  Confirmed  Recovered  Deaths\n",
       "2080 2020-01-22  Australia          0          0       0\n",
       "2081 2020-01-23  Australia          0          0       0\n",
       "2082 2020-01-24  Australia          0          0       0\n",
       "2083 2020-01-25  Australia          0          0       0"
      ]
     },
     "execution_count": 125,
     "metadata": {},
     "output_type": "execute_result"
    }
   ],
   "source": [
    "country=['Australia']\n",
    "covid2 = covid[covid['Country'].isin(country)]\n",
    "covid2.head(4)"
   ]
  },
  {
   "cell_type": "code",
   "execution_count": 126,
   "metadata": {},
   "outputs": [
    {
     "data": {
      "text/html": [
       "<div>\n",
       "<style scoped>\n",
       "    .dataframe tbody tr th:only-of-type {\n",
       "        vertical-align: middle;\n",
       "    }\n",
       "\n",
       "    .dataframe tbody tr th {\n",
       "        vertical-align: top;\n",
       "    }\n",
       "\n",
       "    .dataframe thead th {\n",
       "        text-align: right;\n",
       "    }\n",
       "</style>\n",
       "<table border=\"1\" class=\"dataframe\">\n",
       "  <thead>\n",
       "    <tr style=\"text-align: right;\">\n",
       "      <th>Country</th>\n",
       "      <th>Australia</th>\n",
       "    </tr>\n",
       "    <tr>\n",
       "      <th>Date</th>\n",
       "      <th></th>\n",
       "    </tr>\n",
       "  </thead>\n",
       "  <tbody>\n",
       "    <tr>\n",
       "      <th>2020-01-22</th>\n",
       "      <td>0</td>\n",
       "    </tr>\n",
       "    <tr>\n",
       "      <th>2020-01-23</th>\n",
       "      <td>0</td>\n",
       "    </tr>\n",
       "    <tr>\n",
       "      <th>2020-01-24</th>\n",
       "      <td>0</td>\n",
       "    </tr>\n",
       "  </tbody>\n",
       "</table>\n",
       "</div>"
      ],
      "text/plain": [
       "Country     Australia\n",
       "Date                 \n",
       "2020-01-22          0\n",
       "2020-01-23          0\n",
       "2020-01-24          0"
      ]
     },
     "execution_count": 126,
     "metadata": {},
     "output_type": "execute_result"
    }
   ],
   "source": [
    "covid2p = covid2.pivot(index='Date', columns='Country', values='Confirmed')\n",
    "covid2p.head(3)"
   ]
  },
  {
   "cell_type": "code",
   "execution_count": 127,
   "metadata": {},
   "outputs": [
    {
     "data": {
      "text/html": [
       "<div>\n",
       "<style scoped>\n",
       "    .dataframe tbody tr th:only-of-type {\n",
       "        vertical-align: middle;\n",
       "    }\n",
       "\n",
       "    .dataframe tbody tr th {\n",
       "        vertical-align: top;\n",
       "    }\n",
       "\n",
       "    .dataframe thead th {\n",
       "        text-align: right;\n",
       "    }\n",
       "</style>\n",
       "<table border=\"1\" class=\"dataframe\">\n",
       "  <thead>\n",
       "    <tr style=\"text-align: right;\">\n",
       "      <th>Country</th>\n",
       "      <th>Australia</th>\n",
       "    </tr>\n",
       "    <tr>\n",
       "      <th>Date</th>\n",
       "      <th></th>\n",
       "    </tr>\n",
       "  </thead>\n",
       "  <tbody>\n",
       "    <tr>\n",
       "      <th>2020-09-26</th>\n",
       "      <td>24.0</td>\n",
       "    </tr>\n",
       "    <tr>\n",
       "      <th>2020-09-27</th>\n",
       "      <td>4.0</td>\n",
       "    </tr>\n",
       "    <tr>\n",
       "      <th>2020-09-28</th>\n",
       "      <td>11.0</td>\n",
       "    </tr>\n",
       "    <tr>\n",
       "      <th>2020-09-29</th>\n",
       "      <td>23.0</td>\n",
       "    </tr>\n",
       "    <tr>\n",
       "      <th>2020-09-30</th>\n",
       "      <td>18.0</td>\n",
       "    </tr>\n",
       "  </tbody>\n",
       "</table>\n",
       "</div>"
      ],
      "text/plain": [
       "Country     Australia\n",
       "Date                 \n",
       "2020-09-26       24.0\n",
       "2020-09-27        4.0\n",
       "2020-09-28       11.0\n",
       "2020-09-29       23.0\n",
       "2020-09-30       18.0"
      ]
     },
     "execution_count": 127,
     "metadata": {},
     "output_type": "execute_result"
    }
   ],
   "source": [
    "covid2p1=covid2p.diff()\n",
    "covid2p1.tail(5)"
   ]
  },
  {
   "cell_type": "code",
   "execution_count": 135,
   "metadata": {},
   "outputs": [],
   "source": [
    "#original\n",
    "covid2p1['JP-org']=covid2p1['Australia']"
   ]
  },
  {
   "cell_type": "code",
   "execution_count": 132,
   "metadata": {},
   "outputs": [],
   "source": [
    "#7 days rolling\n",
    "covid2p1['JP-ma7']=covid2p1['Australia'].rolling(7).mean()"
   ]
  },
  {
   "cell_type": "code",
   "execution_count": 133,
   "metadata": {},
   "outputs": [],
   "source": [
    "#14 days rolling\n",
    "covid2p1['JP-ma14']=covid2p1['Australia'].rolling(14).mean()"
   ]
  },
  {
   "cell_type": "code",
   "execution_count": 136,
   "metadata": {},
   "outputs": [
    {
     "data": {
      "text/plain": [
       "<matplotlib.axes._subplots.AxesSubplot at 0x24c3e0a9e48>"
      ]
     },
     "execution_count": 136,
     "metadata": {},
     "output_type": "execute_result"
    },
    {
     "data": {
      "image/png": "[encoded data removed]",
      "text/plain": [
       "<Figure size 1080x360 with 1 Axes>"
      ]
     },
     "metadata": {},
     "output_type": "display_data"
    }
   ],
   "source": [
    "# polt US daily new cases, orginal & weekly moving average\n",
    "covid2p1[['JP-org','JP-ma7','JP-ma14']].plot(kind='line',figsize=(15,5))"
   ]
  },
  {
   "cell_type": "markdown",
   "metadata": {},
   "source": [
    "there seems to be two major waves of pandemic which arrived at the country and the second wave had more\n",
    "impact than the previous one"
   ]
  },
  {
   "cell_type": "markdown",
   "metadata": {},
   "source": [
    "# Question 3\n",
    "\n",
    "Use the dataset **yelp1000.xlsx** to answer this question. The dataset contains the following columns: date, stars, text (restaurant text reviews), cool, useful, and funny. \n",
    "\n",
    "1. Create a pie plot of the number of reviews (texts) for each type of star rating. Find the most frequent word used (excluding stopwords) for each type of star rating.\n",
    "2. Obtain sentiment scores (compound, neg, neu and pos) of each review (text). Report the most positive text and the most negative one. How many texts are with neu score equal to 1?\n",
    "3. Find the interquartile range of compound for each stars group (1 to 5) and make a boxplot of compound using different color for each stars group. Comment on the outcomes.\n",
    "4. Find the total number of reviews in 2011 and 2012, respectively. Find the proportion of compound below zero in 2011 and 2012, respectively. Compute the 90% confidence interval of the proportion of compound below zero in 2011 and 2012, respectively. Comment on the results.\n",
    "5. Use \"apply(len)\" to create a new column called \"length\" which is the number of words in the text column. Test if 60% (60 per cent) of the reviews (texts) are with more than 500 words (including space). State the null hypothesis and the alternative hypothesis. Comment on the results."
   ]
  },
  {
   "cell_type": "code",
   "execution_count": 246,
   "metadata": {
    "scrolled": true
   },
   "outputs": [
    {
     "name": "stdout",
     "output_type": "stream",
     "text": [
      "<class 'pandas.core.frame.DataFrame'>\n",
      "RangeIndex: 1000 entries, 0 to 999\n",
      "Data columns (total 6 columns):\n",
      " #   Column  Non-Null Count  Dtype \n",
      "---  ------  --------------  ----- \n",
      " 0   date    1000 non-null   object\n",
      " 1   stars   1000 non-null   int64 \n",
      " 2   text    1000 non-null   object\n",
      " 3   cool    1000 non-null   int64 \n",
      " 4   useful  1000 non-null   int64 \n",
      " 5   funny   1000 non-null   int64 \n",
      "dtypes: int64(4), object(2)\n",
      "memory usage: 47.0+ KB\n"
     ]
    }
   ],
   "source": [
    "# load data\n",
    "y=pd.read_csv('yelp1000.csv')\n",
    "y.info()"
   ]
  },
  {
   "cell_type": "markdown",
   "metadata": {},
   "source": [
    "Part 1"
   ]
  },
  {
   "cell_type": "code",
   "execution_count": 323,
   "metadata": {},
   "outputs": [
    {
     "data": {
      "text/html": [
       "<div>\n",
       "<style scoped>\n",
       "    .dataframe tbody tr th:only-of-type {\n",
       "        vertical-align: middle;\n",
       "    }\n",
       "\n",
       "    .dataframe tbody tr th {\n",
       "        vertical-align: top;\n",
       "    }\n",
       "\n",
       "    .dataframe thead th {\n",
       "        text-align: right;\n",
       "    }\n",
       "</style>\n",
       "<table border=\"1\" class=\"dataframe\">\n",
       "  <thead>\n",
       "    <tr style=\"text-align: right;\">\n",
       "      <th></th>\n",
       "      <th>date</th>\n",
       "      <th>stars</th>\n",
       "      <th>text</th>\n",
       "      <th>cool</th>\n",
       "      <th>useful</th>\n",
       "      <th>funny</th>\n",
       "      <th>scores</th>\n",
       "      <th>compound</th>\n",
       "      <th>neg</th>\n",
       "      <th>neu</th>\n",
       "      <th>pos</th>\n",
       "    </tr>\n",
       "  </thead>\n",
       "  <tbody>\n",
       "    <tr>\n",
       "      <th>0</th>\n",
       "      <td>2008-08-18</td>\n",
       "      <td>4</td>\n",
       "      <td>4 stars based on the sangria alone.\\n\\nOrder t...</td>\n",
       "      <td>4</td>\n",
       "      <td>2</td>\n",
       "      <td>2</td>\n",
       "      <td>{'neg': 0.245, 'neu': 0.681, 'pos': 0.074, 'co...</td>\n",
       "      <td>-0.7420</td>\n",
       "      <td>0.245</td>\n",
       "      <td>0.681</td>\n",
       "      <td>0.074</td>\n",
       "    </tr>\n",
       "    <tr>\n",
       "      <th>1</th>\n",
       "      <td>2010-01-27</td>\n",
       "      <td>4</td>\n",
       "      <td>This place is a good go to when you're looking...</td>\n",
       "      <td>2</td>\n",
       "      <td>2</td>\n",
       "      <td>0</td>\n",
       "      <td>{'neg': 0.061, 'neu': 0.664, 'pos': 0.275, 'co...</td>\n",
       "      <td>0.9858</td>\n",
       "      <td>0.061</td>\n",
       "      <td>0.664</td>\n",
       "      <td>0.275</td>\n",
       "    </tr>\n",
       "    <tr>\n",
       "      <th>2</th>\n",
       "      <td>2012-12-20</td>\n",
       "      <td>1</td>\n",
       "      <td>Still a place that is unacceptable in my book-...</td>\n",
       "      <td>0</td>\n",
       "      <td>0</td>\n",
       "      <td>4</td>\n",
       "      <td>{'neg': 0.097, 'neu': 0.777, 'pos': 0.125, 'co...</td>\n",
       "      <td>0.3818</td>\n",
       "      <td>0.097</td>\n",
       "      <td>0.777</td>\n",
       "      <td>0.125</td>\n",
       "    </tr>\n",
       "    <tr>\n",
       "      <th>3</th>\n",
       "      <td>2012-03-27</td>\n",
       "      <td>4</td>\n",
       "      <td>A new breakfast option in old town Scottsdale....</td>\n",
       "      <td>2</td>\n",
       "      <td>4</td>\n",
       "      <td>1</td>\n",
       "      <td>{'neg': 0.0, 'neu': 0.8, 'pos': 0.2, 'compound...</td>\n",
       "      <td>0.8176</td>\n",
       "      <td>0.000</td>\n",
       "      <td>0.800</td>\n",
       "      <td>0.200</td>\n",
       "    </tr>\n",
       "    <tr>\n",
       "      <th>4</th>\n",
       "      <td>2006-08-08</td>\n",
       "      <td>4</td>\n",
       "      <td>The black beans are awesome. Also recommend th...</td>\n",
       "      <td>0</td>\n",
       "      <td>0</td>\n",
       "      <td>0</td>\n",
       "      <td>{'neg': 0.055, 'neu': 0.573, 'pos': 0.372, 'co...</td>\n",
       "      <td>0.9300</td>\n",
       "      <td>0.055</td>\n",
       "      <td>0.573</td>\n",
       "      <td>0.372</td>\n",
       "    </tr>\n",
       "  </tbody>\n",
       "</table>\n",
       "</div>"
      ],
      "text/plain": [
       "         date  stars                                               text  cool  \\\n",
       "0  2008-08-18      4  4 stars based on the sangria alone.\\n\\nOrder t...     4   \n",
       "1  2010-01-27      4  This place is a good go to when you're looking...     2   \n",
       "2  2012-12-20      1  Still a place that is unacceptable in my book-...     0   \n",
       "3  2012-03-27      4  A new breakfast option in old town Scottsdale....     2   \n",
       "4  2006-08-08      4  The black beans are awesome. Also recommend th...     0   \n",
       "\n",
       "   useful  funny                                             scores  compound  \\\n",
       "0       2      2  {'neg': 0.245, 'neu': 0.681, 'pos': 0.074, 'co...   -0.7420   \n",
       "1       2      0  {'neg': 0.061, 'neu': 0.664, 'pos': 0.275, 'co...    0.9858   \n",
       "2       0      4  {'neg': 0.097, 'neu': 0.777, 'pos': 0.125, 'co...    0.3818   \n",
       "3       4      1  {'neg': 0.0, 'neu': 0.8, 'pos': 0.2, 'compound...    0.8176   \n",
       "4       0      0  {'neg': 0.055, 'neu': 0.573, 'pos': 0.372, 'co...    0.9300   \n",
       "\n",
       "     neg    neu    pos  \n",
       "0  0.245  0.681  0.074  \n",
       "1  0.061  0.664  0.275  \n",
       "2  0.097  0.777  0.125  \n",
       "3  0.000  0.800  0.200  \n",
       "4  0.055  0.573  0.372  "
      ]
     },
     "execution_count": 323,
     "metadata": {},
     "output_type": "execute_result"
    }
   ],
   "source": [
    "y.head(5)"
   ]
  },
  {
   "cell_type": "code",
   "execution_count": 306,
   "metadata": {},
   "outputs": [
    {
     "data": {
      "text/plain": [
       "[('the', 5313),\n",
       " ('and', 4100),\n",
       " ('I', 3594),\n",
       " ('a', 3291),\n",
       " ('to', 2974),\n",
       " ('of', 1965),\n",
       " ('was', 1907),\n",
       " ('is', 1605),\n",
       " ('for', 1387),\n",
       " ('in', 1342)]"
      ]
     },
     "execution_count": 306,
     "metadata": {},
     "output_type": "execute_result"
    }
   ],
   "source": [
    "from collections import Counter\n",
    "Counter(\" \".join(y[\"text\"]).split()).most_common(10)"
   ]
  },
  {
   "cell_type": "code",
   "execution_count": 318,
   "metadata": {},
   "outputs": [
    {
     "data": {
      "text/plain": [
       "[('the', 470), ('I', 380), ('and', 329), ('to', 317), ('a', 233)]"
      ]
     },
     "execution_count": 318,
     "metadata": {},
     "output_type": "execute_result"
    }
   ],
   "source": [
    "#for 1 star\n",
    "y[y['stars']==1]\n",
    "Counter(\" \".join(y[y['stars']==1][\"text\"]).split()).most_common(5)"
   ]
  },
  {
   "cell_type": "code",
   "execution_count": 319,
   "metadata": {},
   "outputs": [
    {
     "data": {
      "text/plain": [
       "[('the', 651), ('I', 440), ('and', 428), ('to', 384), ('a', 317)]"
      ]
     },
     "execution_count": 319,
     "metadata": {},
     "output_type": "execute_result"
    }
   ],
   "source": [
    "#for 2 star\n",
    "y[y['stars']==2]\n",
    "Counter(\" \".join(y[y['stars']==2][\"text\"]).split()).most_common(5)"
   ]
  },
  {
   "cell_type": "code",
   "execution_count": 320,
   "metadata": {},
   "outputs": [
    {
     "data": {
      "text/plain": [
       "[('the', 905), ('and', 629), ('I', 608), ('a', 598), ('to', 498)]"
      ]
     },
     "execution_count": 320,
     "metadata": {},
     "output_type": "execute_result"
    }
   ],
   "source": [
    "#for 3 star\n",
    "y[y['stars']==3]\n",
    "Counter(\" \".join(y[y['stars']==3][\"text\"]).split()).most_common(5)"
   ]
  },
  {
   "cell_type": "code",
   "execution_count": 321,
   "metadata": {},
   "outputs": [
    {
     "data": {
      "text/plain": [
       "[('the', 1734), ('and', 1385), ('a', 1113), ('I', 1069), ('to', 899)]"
      ]
     },
     "execution_count": 321,
     "metadata": {},
     "output_type": "execute_result"
    }
   ],
   "source": [
    "#for 4 star\n",
    "y[y['stars']==4]\n",
    "Counter(\" \".join(y[y['stars']==4][\"text\"]).split()).most_common(5)"
   ]
  },
  {
   "cell_type": "code",
   "execution_count": 322,
   "metadata": {},
   "outputs": [
    {
     "data": {
      "text/plain": [
       "[('the', 1553), ('and', 1329), ('I', 1097), ('a', 1030), ('to', 876)]"
      ]
     },
     "execution_count": 322,
     "metadata": {},
     "output_type": "execute_result"
    }
   ],
   "source": [
    "#for 5 star\n",
    "y[y['stars']==5]\n",
    "Counter(\" \".join(y[y['stars']==5][\"text\"]).split()).most_common(5)"
   ]
  },
  {
   "cell_type": "markdown",
   "metadata": {},
   "source": [
    "This is all the most used words in every star rating."
   ]
  },
  {
   "cell_type": "markdown",
   "metadata": {},
   "source": [
    "most common used word is 'the' overall"
   ]
  },
  {
   "cell_type": "code",
   "execution_count": 254,
   "metadata": {},
   "outputs": [
    {
     "data": {
      "text/html": [
       "<div>\n",
       "<style scoped>\n",
       "    .dataframe tbody tr th:only-of-type {\n",
       "        vertical-align: middle;\n",
       "    }\n",
       "\n",
       "    .dataframe tbody tr th {\n",
       "        vertical-align: top;\n",
       "    }\n",
       "\n",
       "    .dataframe thead th {\n",
       "        text-align: right;\n",
       "    }\n",
       "</style>\n",
       "<table border=\"1\" class=\"dataframe\">\n",
       "  <thead>\n",
       "    <tr style=\"text-align: right;\">\n",
       "      <th></th>\n",
       "      <th>text</th>\n",
       "      <th>stars</th>\n",
       "    </tr>\n",
       "  </thead>\n",
       "  <tbody>\n",
       "    <tr>\n",
       "      <th>0</th>\n",
       "      <td>4 stars based on the sangria alone.\\n\\nOrder t...</td>\n",
       "      <td>4</td>\n",
       "    </tr>\n",
       "    <tr>\n",
       "      <th>1</th>\n",
       "      <td>This place is a good go to when you're looking...</td>\n",
       "      <td>4</td>\n",
       "    </tr>\n",
       "    <tr>\n",
       "      <th>2</th>\n",
       "      <td>Still a place that is unacceptable in my book-...</td>\n",
       "      <td>1</td>\n",
       "    </tr>\n",
       "    <tr>\n",
       "      <th>3</th>\n",
       "      <td>A new breakfast option in old town Scottsdale....</td>\n",
       "      <td>4</td>\n",
       "    </tr>\n",
       "    <tr>\n",
       "      <th>4</th>\n",
       "      <td>The black beans are awesome. Also recommend th...</td>\n",
       "      <td>4</td>\n",
       "    </tr>\n",
       "  </tbody>\n",
       "</table>\n",
       "</div>"
      ],
      "text/plain": [
       "                                                text  stars\n",
       "0  4 stars based on the sangria alone.\\n\\nOrder t...      4\n",
       "1  This place is a good go to when you're looking...      4\n",
       "2  Still a place that is unacceptable in my book-...      1\n",
       "3  A new breakfast option in old town Scottsdale....      4\n",
       "4  The black beans are awesome. Also recommend th...      4"
      ]
     },
     "execution_count": 254,
     "metadata": {},
     "output_type": "execute_result"
    }
   ],
   "source": [
    "y1=y[['text','stars']]\n",
    "y1.head()\n"
   ]
  },
  {
   "cell_type": "code",
   "execution_count": null,
   "metadata": {},
   "outputs": [],
   "source": []
  },
  {
   "cell_type": "code",
   "execution_count": 261,
   "metadata": {},
   "outputs": [
    {
     "data": {
      "text/plain": [
       "5    361\n",
       "4    307\n",
       "3    161\n",
       "2     92\n",
       "1     79\n",
       "Name: stars, dtype: int64"
      ]
     },
     "execution_count": 261,
     "metadata": {},
     "output_type": "execute_result"
    }
   ],
   "source": [
    "pie=y1['stars'].value_counts()\n",
    "pie"
   ]
  },
  {
   "cell_type": "code",
   "execution_count": 262,
   "metadata": {},
   "outputs": [
    {
     "data": {
      "text/plain": [
       "<matplotlib.axes._subplots.AxesSubplot at 0x24c3e43dbc8>"
      ]
     },
     "execution_count": 262,
     "metadata": {},
     "output_type": "execute_result"
    },
    {
     "data": {
      "image/png": "[encoded data removed]",
      "text/plain": [
       "<Figure size 360x360 with 1 Axes>"
      ]
     },
     "metadata": {},
     "output_type": "display_data"
    }
   ],
   "source": [
    "pie.plot(kind='pie', figsize=(5,5))"
   ]
  },
  {
   "cell_type": "markdown",
   "metadata": {},
   "source": [
    "Part 2"
   ]
  },
  {
   "cell_type": "code",
   "execution_count": 273,
   "metadata": {},
   "outputs": [
    {
     "name": "stderr",
     "output_type": "stream",
     "text": [
      "[nltk_data] Downloading package vader_lexicon to C:\\Users\\NISHANT\n",
      "[nltk_data]     ARNAV\\AppData\\Roaming\\nltk_data...\n"
     ]
    }
   ],
   "source": [
    "import nltk\n",
    "nltk.download('vader_lexicon')\n",
    "from nltk.sentiment.vader import SentimentIntensityAnalyzer\n",
    "\n",
    "sid = SentimentIntensityAnalyzer()"
   ]
  },
  {
   "cell_type": "code",
   "execution_count": 285,
   "metadata": {},
   "outputs": [
    {
     "data": {
      "text/html": [
       "<div>\n",
       "<style scoped>\n",
       "    .dataframe tbody tr th:only-of-type {\n",
       "        vertical-align: middle;\n",
       "    }\n",
       "\n",
       "    .dataframe tbody tr th {\n",
       "        vertical-align: top;\n",
       "    }\n",
       "\n",
       "    .dataframe thead th {\n",
       "        text-align: right;\n",
       "    }\n",
       "</style>\n",
       "<table border=\"1\" class=\"dataframe\">\n",
       "  <thead>\n",
       "    <tr style=\"text-align: right;\">\n",
       "      <th></th>\n",
       "      <th>date</th>\n",
       "      <th>stars</th>\n",
       "      <th>text</th>\n",
       "      <th>cool</th>\n",
       "      <th>useful</th>\n",
       "      <th>funny</th>\n",
       "      <th>scores</th>\n",
       "    </tr>\n",
       "  </thead>\n",
       "  <tbody>\n",
       "    <tr>\n",
       "      <th>0</th>\n",
       "      <td>2008-08-18</td>\n",
       "      <td>4</td>\n",
       "      <td>4 stars based on the sangria alone.\\n\\nOrder t...</td>\n",
       "      <td>4</td>\n",
       "      <td>2</td>\n",
       "      <td>2</td>\n",
       "      <td>{'neg': 0.245, 'neu': 0.681, 'pos': 0.074, 'co...</td>\n",
       "    </tr>\n",
       "    <tr>\n",
       "      <th>1</th>\n",
       "      <td>2010-01-27</td>\n",
       "      <td>4</td>\n",
       "      <td>This place is a good go to when you're looking...</td>\n",
       "      <td>2</td>\n",
       "      <td>2</td>\n",
       "      <td>0</td>\n",
       "      <td>{'neg': 0.061, 'neu': 0.664, 'pos': 0.275, 'co...</td>\n",
       "    </tr>\n",
       "    <tr>\n",
       "      <th>2</th>\n",
       "      <td>2012-12-20</td>\n",
       "      <td>1</td>\n",
       "      <td>Still a place that is unacceptable in my book-...</td>\n",
       "      <td>0</td>\n",
       "      <td>0</td>\n",
       "      <td>4</td>\n",
       "      <td>{'neg': 0.097, 'neu': 0.777, 'pos': 0.125, 'co...</td>\n",
       "    </tr>\n",
       "    <tr>\n",
       "      <th>3</th>\n",
       "      <td>2012-03-27</td>\n",
       "      <td>4</td>\n",
       "      <td>A new breakfast option in old town Scottsdale....</td>\n",
       "      <td>2</td>\n",
       "      <td>4</td>\n",
       "      <td>1</td>\n",
       "      <td>{'neg': 0.0, 'neu': 0.8, 'pos': 0.2, 'compound...</td>\n",
       "    </tr>\n",
       "    <tr>\n",
       "      <th>4</th>\n",
       "      <td>2006-08-08</td>\n",
       "      <td>4</td>\n",
       "      <td>The black beans are awesome. Also recommend th...</td>\n",
       "      <td>0</td>\n",
       "      <td>0</td>\n",
       "      <td>0</td>\n",
       "      <td>{'neg': 0.055, 'neu': 0.573, 'pos': 0.372, 'co...</td>\n",
       "    </tr>\n",
       "  </tbody>\n",
       "</table>\n",
       "</div>"
      ],
      "text/plain": [
       "         date  stars                                               text  cool  \\\n",
       "0  2008-08-18      4  4 stars based on the sangria alone.\\n\\nOrder t...     4   \n",
       "1  2010-01-27      4  This place is a good go to when you're looking...     2   \n",
       "2  2012-12-20      1  Still a place that is unacceptable in my book-...     0   \n",
       "3  2012-03-27      4  A new breakfast option in old town Scottsdale....     2   \n",
       "4  2006-08-08      4  The black beans are awesome. Also recommend th...     0   \n",
       "\n",
       "   useful  funny                                             scores  \n",
       "0       2      2  {'neg': 0.245, 'neu': 0.681, 'pos': 0.074, 'co...  \n",
       "1       2      0  {'neg': 0.061, 'neu': 0.664, 'pos': 0.275, 'co...  \n",
       "2       0      4  {'neg': 0.097, 'neu': 0.777, 'pos': 0.125, 'co...  \n",
       "3       4      1  {'neg': 0.0, 'neu': 0.8, 'pos': 0.2, 'compound...  \n",
       "4       0      0  {'neg': 0.055, 'neu': 0.573, 'pos': 0.372, 'co...  "
      ]
     },
     "execution_count": 285,
     "metadata": {},
     "output_type": "execute_result"
    }
   ],
   "source": [
    "y['scores'] = y['text'].apply(lambda text: sid.polarity_scores(text))\n",
    "\n",
    "y.head()"
   ]
  },
  {
   "cell_type": "code",
   "execution_count": 290,
   "metadata": {},
   "outputs": [],
   "source": [
    "y['compound'] = [sid.polarity_scores(x)['compound'] for x in y['text']]\n",
    "y['neg'] = [sid.polarity_scores(x)['neg'] for x in y['text']]\n",
    "y['neu'] = [sid.polarity_scores(x)['neu'] for x in y['text']]\n",
    "y['pos'] = [sid.polarity_scores(x)['pos'] for x in y['text']]"
   ]
  },
  {
   "cell_type": "code",
   "execution_count": 291,
   "metadata": {},
   "outputs": [
    {
     "data": {
      "text/html": [
       "<div>\n",
       "<style scoped>\n",
       "    .dataframe tbody tr th:only-of-type {\n",
       "        vertical-align: middle;\n",
       "    }\n",
       "\n",
       "    .dataframe tbody tr th {\n",
       "        vertical-align: top;\n",
       "    }\n",
       "\n",
       "    .dataframe thead th {\n",
       "        text-align: right;\n",
       "    }\n",
       "</style>\n",
       "<table border=\"1\" class=\"dataframe\">\n",
       "  <thead>\n",
       "    <tr style=\"text-align: right;\">\n",
       "      <th></th>\n",
       "      <th>date</th>\n",
       "      <th>stars</th>\n",
       "      <th>text</th>\n",
       "      <th>cool</th>\n",
       "      <th>useful</th>\n",
       "      <th>funny</th>\n",
       "      <th>scores</th>\n",
       "      <th>compound</th>\n",
       "      <th>neg</th>\n",
       "      <th>neu</th>\n",
       "      <th>pos</th>\n",
       "    </tr>\n",
       "  </thead>\n",
       "  <tbody>\n",
       "    <tr>\n",
       "      <th>0</th>\n",
       "      <td>2008-08-18</td>\n",
       "      <td>4</td>\n",
       "      <td>4 stars based on the sangria alone.\\n\\nOrder t...</td>\n",
       "      <td>4</td>\n",
       "      <td>2</td>\n",
       "      <td>2</td>\n",
       "      <td>{'neg': 0.245, 'neu': 0.681, 'pos': 0.074, 'co...</td>\n",
       "      <td>-0.7420</td>\n",
       "      <td>0.245</td>\n",
       "      <td>0.681</td>\n",
       "      <td>0.074</td>\n",
       "    </tr>\n",
       "    <tr>\n",
       "      <th>1</th>\n",
       "      <td>2010-01-27</td>\n",
       "      <td>4</td>\n",
       "      <td>This place is a good go to when you're looking...</td>\n",
       "      <td>2</td>\n",
       "      <td>2</td>\n",
       "      <td>0</td>\n",
       "      <td>{'neg': 0.061, 'neu': 0.664, 'pos': 0.275, 'co...</td>\n",
       "      <td>0.9858</td>\n",
       "      <td>0.061</td>\n",
       "      <td>0.664</td>\n",
       "      <td>0.275</td>\n",
       "    </tr>\n",
       "    <tr>\n",
       "      <th>2</th>\n",
       "      <td>2012-12-20</td>\n",
       "      <td>1</td>\n",
       "      <td>Still a place that is unacceptable in my book-...</td>\n",
       "      <td>0</td>\n",
       "      <td>0</td>\n",
       "      <td>4</td>\n",
       "      <td>{'neg': 0.097, 'neu': 0.777, 'pos': 0.125, 'co...</td>\n",
       "      <td>0.3818</td>\n",
       "      <td>0.097</td>\n",
       "      <td>0.777</td>\n",
       "      <td>0.125</td>\n",
       "    </tr>\n",
       "    <tr>\n",
       "      <th>3</th>\n",
       "      <td>2012-03-27</td>\n",
       "      <td>4</td>\n",
       "      <td>A new breakfast option in old town Scottsdale....</td>\n",
       "      <td>2</td>\n",
       "      <td>4</td>\n",
       "      <td>1</td>\n",
       "      <td>{'neg': 0.0, 'neu': 0.8, 'pos': 0.2, 'compound...</td>\n",
       "      <td>0.8176</td>\n",
       "      <td>0.000</td>\n",
       "      <td>0.800</td>\n",
       "      <td>0.200</td>\n",
       "    </tr>\n",
       "    <tr>\n",
       "      <th>4</th>\n",
       "      <td>2006-08-08</td>\n",
       "      <td>4</td>\n",
       "      <td>The black beans are awesome. Also recommend th...</td>\n",
       "      <td>0</td>\n",
       "      <td>0</td>\n",
       "      <td>0</td>\n",
       "      <td>{'neg': 0.055, 'neu': 0.573, 'pos': 0.372, 'co...</td>\n",
       "      <td>0.9300</td>\n",
       "      <td>0.055</td>\n",
       "      <td>0.573</td>\n",
       "      <td>0.372</td>\n",
       "    </tr>\n",
       "  </tbody>\n",
       "</table>\n",
       "</div>"
      ],
      "text/plain": [
       "         date  stars                                               text  cool  \\\n",
       "0  2008-08-18      4  4 stars based on the sangria alone.\\n\\nOrder t...     4   \n",
       "1  2010-01-27      4  This place is a good go to when you're looking...     2   \n",
       "2  2012-12-20      1  Still a place that is unacceptable in my book-...     0   \n",
       "3  2012-03-27      4  A new breakfast option in old town Scottsdale....     2   \n",
       "4  2006-08-08      4  The black beans are awesome. Also recommend th...     0   \n",
       "\n",
       "   useful  funny                                             scores  compound  \\\n",
       "0       2      2  {'neg': 0.245, 'neu': 0.681, 'pos': 0.074, 'co...   -0.7420   \n",
       "1       2      0  {'neg': 0.061, 'neu': 0.664, 'pos': 0.275, 'co...    0.9858   \n",
       "2       0      4  {'neg': 0.097, 'neu': 0.777, 'pos': 0.125, 'co...    0.3818   \n",
       "3       4      1  {'neg': 0.0, 'neu': 0.8, 'pos': 0.2, 'compound...    0.8176   \n",
       "4       0      0  {'neg': 0.055, 'neu': 0.573, 'pos': 0.372, 'co...    0.9300   \n",
       "\n",
       "     neg    neu    pos  \n",
       "0  0.245  0.681  0.074  \n",
       "1  0.061  0.664  0.275  \n",
       "2  0.097  0.777  0.125  \n",
       "3  0.000  0.800  0.200  \n",
       "4  0.055  0.573  0.372  "
      ]
     },
     "execution_count": 291,
     "metadata": {},
     "output_type": "execute_result"
    }
   ],
   "source": [
    "y.head()"
   ]
  },
  {
   "cell_type": "code",
   "execution_count": 293,
   "metadata": {},
   "outputs": [
    {
     "data": {
      "text/html": [
       "<div>\n",
       "<style scoped>\n",
       "    .dataframe tbody tr th:only-of-type {\n",
       "        vertical-align: middle;\n",
       "    }\n",
       "\n",
       "    .dataframe tbody tr th {\n",
       "        vertical-align: top;\n",
       "    }\n",
       "\n",
       "    .dataframe thead th {\n",
       "        text-align: right;\n",
       "    }\n",
       "</style>\n",
       "<table border=\"1\" class=\"dataframe\">\n",
       "  <thead>\n",
       "    <tr style=\"text-align: right;\">\n",
       "      <th></th>\n",
       "      <th>date</th>\n",
       "      <th>stars</th>\n",
       "      <th>text</th>\n",
       "      <th>cool</th>\n",
       "      <th>useful</th>\n",
       "      <th>funny</th>\n",
       "      <th>scores</th>\n",
       "      <th>compound</th>\n",
       "      <th>neg</th>\n",
       "      <th>neu</th>\n",
       "      <th>pos</th>\n",
       "    </tr>\n",
       "  </thead>\n",
       "  <tbody>\n",
       "    <tr>\n",
       "      <th>534</th>\n",
       "      <td>2012-06-11</td>\n",
       "      <td>5</td>\n",
       "      <td>Fresh and delicious.</td>\n",
       "      <td>0</td>\n",
       "      <td>2</td>\n",
       "      <td>0</td>\n",
       "      <td>{'neg': 0.0, 'neu': 0.143, 'pos': 0.857, 'comp...</td>\n",
       "      <td>0.7184</td>\n",
       "      <td>0.0</td>\n",
       "      <td>0.143</td>\n",
       "      <td>0.857</td>\n",
       "    </tr>\n",
       "  </tbody>\n",
       "</table>\n",
       "</div>"
      ],
      "text/plain": [
       "           date  stars                  text  cool  useful  funny  \\\n",
       "534  2012-06-11      5  Fresh and delicious.     0       2      0   \n",
       "\n",
       "                                                scores  compound  neg    neu  \\\n",
       "534  {'neg': 0.0, 'neu': 0.143, 'pos': 0.857, 'comp...    0.7184  0.0  0.143   \n",
       "\n",
       "       pos  \n",
       "534  0.857  "
      ]
     },
     "execution_count": 293,
     "metadata": {},
     "output_type": "execute_result"
    }
   ],
   "source": [
    "y[y['pos'] == y['pos'].max()]"
   ]
  },
  {
   "cell_type": "markdown",
   "metadata": {},
   "source": [
    "This text of \"Fresh and delicious.\" is the most positive text."
   ]
  },
  {
   "cell_type": "code",
   "execution_count": 294,
   "metadata": {},
   "outputs": [
    {
     "data": {
      "text/html": [
       "<div>\n",
       "<style scoped>\n",
       "    .dataframe tbody tr th:only-of-type {\n",
       "        vertical-align: middle;\n",
       "    }\n",
       "\n",
       "    .dataframe tbody tr th {\n",
       "        vertical-align: top;\n",
       "    }\n",
       "\n",
       "    .dataframe thead th {\n",
       "        text-align: right;\n",
       "    }\n",
       "</style>\n",
       "<table border=\"1\" class=\"dataframe\">\n",
       "  <thead>\n",
       "    <tr style=\"text-align: right;\">\n",
       "      <th></th>\n",
       "      <th>date</th>\n",
       "      <th>stars</th>\n",
       "      <th>text</th>\n",
       "      <th>cool</th>\n",
       "      <th>useful</th>\n",
       "      <th>funny</th>\n",
       "      <th>scores</th>\n",
       "      <th>compound</th>\n",
       "      <th>neg</th>\n",
       "      <th>neu</th>\n",
       "      <th>pos</th>\n",
       "    </tr>\n",
       "  </thead>\n",
       "  <tbody>\n",
       "    <tr>\n",
       "      <th>76</th>\n",
       "      <td>2012-09-08</td>\n",
       "      <td>1</td>\n",
       "      <td>Very bad food!</td>\n",
       "      <td>0</td>\n",
       "      <td>1</td>\n",
       "      <td>0</td>\n",
       "      <td>{'neg': 0.671, 'neu': 0.329, 'pos': 0.0, 'comp...</td>\n",
       "      <td>-0.623</td>\n",
       "      <td>0.671</td>\n",
       "      <td>0.329</td>\n",
       "      <td>0.0</td>\n",
       "    </tr>\n",
       "  </tbody>\n",
       "</table>\n",
       "</div>"
      ],
      "text/plain": [
       "          date  stars            text  cool  useful  funny  \\\n",
       "76  2012-09-08      1  Very bad food!     0       1      0   \n",
       "\n",
       "                                               scores  compound    neg    neu  \\\n",
       "76  {'neg': 0.671, 'neu': 0.329, 'pos': 0.0, 'comp...    -0.623  0.671  0.329   \n",
       "\n",
       "    pos  \n",
       "76  0.0  "
      ]
     },
     "execution_count": 294,
     "metadata": {},
     "output_type": "execute_result"
    }
   ],
   "source": [
    "y[y['neg'] == y['neg'].max()]"
   ]
  },
  {
   "cell_type": "markdown",
   "metadata": {},
   "source": [
    "This text of \"Very bad food!\" is the most negative text."
   ]
  },
  {
   "cell_type": "code",
   "execution_count": 302,
   "metadata": {},
   "outputs": [
    {
     "name": "stdout",
     "output_type": "stream",
     "text": [
      "           date  stars                                               text  \\\n",
      "17   2012-04-18      5                   The \"Cheers\" of central Phoenix.   \n",
      "29   2012-01-19      2  Not long ago I went and got takeout - and ever...   \n",
      "53   2012-02-09      4  Grocery store was within walking distance for ...   \n",
      "312  2012-06-14      1  Not a company to do business with ... From my ...   \n",
      "387  2010-07-13      5  While Calabria Italian Kitchen & Deli is at th...   \n",
      "388  2009-02-28      5  Believe the hype. That's all I can say. \\n\\nTh...   \n",
      "440  2009-09-28      1  There were 3 cars in the parking lot and peopl...   \n",
      "563  2012-12-27      1                     sslowest drive through ever!!!   \n",
      "575  2010-11-06      1  I'm never shopping here, I don't wanna shop so...   \n",
      "602  2010-11-07      2  I contacted the owner based on his comment reg...   \n",
      "660  2012-03-08      5                                        A real gem!   \n",
      "860  2007-07-28      1                   This place is not there anymore.   \n",
      "\n",
      "     cool  useful  funny                                             scores  \\\n",
      "17      0       1      0  {'neg': 0.0, 'neu': 1.0, 'pos': 0.0, 'compound...   \n",
      "29      0       0      0  {'neg': 0.0, 'neu': 1.0, 'pos': 0.0, 'compound...   \n",
      "53      0       0      0  {'neg': 0.0, 'neu': 1.0, 'pos': 0.0, 'compound...   \n",
      "312     0       0      0  {'neg': 0.0, 'neu': 1.0, 'pos': 0.0, 'compound...   \n",
      "387     0       0      0  {'neg': 0.0, 'neu': 1.0, 'pos': 0.0, 'compound...   \n",
      "388     0       1      0  {'neg': 0.0, 'neu': 1.0, 'pos': 0.0, 'compound...   \n",
      "440     1       4      1  {'neg': 0.0, 'neu': 1.0, 'pos': 0.0, 'compound...   \n",
      "563     0       0      0  {'neg': 0.0, 'neu': 1.0, 'pos': 0.0, 'compound...   \n",
      "575     1       4      2  {'neg': 0.0, 'neu': 1.0, 'pos': 0.0, 'compound...   \n",
      "602     0       2      3  {'neg': 0.0, 'neu': 1.0, 'pos': 0.0, 'compound...   \n",
      "660     0       0      1  {'neg': 0.0, 'neu': 1.0, 'pos': 0.0, 'compound...   \n",
      "860     0       3      1  {'neg': 0.0, 'neu': 1.0, 'pos': 0.0, 'compound...   \n",
      "\n",
      "     compound  neg  neu  pos  \n",
      "17        0.0  0.0  1.0  0.0  \n",
      "29        0.0  0.0  1.0  0.0  \n",
      "53        0.0  0.0  1.0  0.0  \n",
      "312       0.0  0.0  1.0  0.0  \n",
      "387       0.0  0.0  1.0  0.0  \n",
      "388       0.0  0.0  1.0  0.0  \n",
      "440       0.0  0.0  1.0  0.0  \n",
      "563       0.0  0.0  1.0  0.0  \n",
      "575       0.0  0.0  1.0  0.0  \n",
      "602       0.0  0.0  1.0  0.0  \n",
      "660       0.0  0.0  1.0  0.0  \n",
      "860       0.0  0.0  1.0  0.0  \n"
     ]
    }
   ],
   "source": [
    "neuy=y[y['neu'] == 1]\n",
    "print(neuy)"
   ]
  },
  {
   "cell_type": "code",
   "execution_count": 303,
   "metadata": {},
   "outputs": [
    {
     "data": {
      "text/plain": [
       "12.0"
      ]
     },
     "execution_count": 303,
     "metadata": {},
     "output_type": "execute_result"
    }
   ],
   "source": [
    "neuy['neu'].sum()"
   ]
  },
  {
   "cell_type": "code",
   "execution_count": null,
   "metadata": {},
   "outputs": [],
   "source": [
    "So in total, there are 12 neutral reviews."
   ]
  },
  {
   "cell_type": "markdown",
   "metadata": {},
   "source": [
    "Part 3"
   ]
  },
  {
   "cell_type": "code",
   "execution_count": 328,
   "metadata": {},
   "outputs": [
    {
     "data": {
      "text/plain": [
       "<matplotlib.axes._subplots.AxesSubplot at 0x24c583f8f88>"
      ]
     },
     "execution_count": 328,
     "metadata": {},
     "output_type": "execute_result"
    },
    {
     "data": {
      "image/png": "[encoded data removed]",
      "text/plain": [
       "<Figure size 360x360 with 1 Axes>"
      ]
     },
     "metadata": {},
     "output_type": "display_data"
    }
   ],
   "source": [
    "#box plot to understand the quartile ranges\n",
    "y1.plot(kind='box', figsize=(5,5))"
   ]
  },
  {
   "cell_type": "markdown",
   "metadata": {},
   "source": [
    "Part 4"
   ]
  },
  {
   "cell_type": "markdown",
   "metadata": {},
   "source": [
    " total number of reviews in 2011 and 2012,"
   ]
  },
  {
   "cell_type": "code",
   "execution_count": 332,
   "metadata": {},
   "outputs": [
    {
     "data": {
      "text/html": [
       "<div>\n",
       "<style scoped>\n",
       "    .dataframe tbody tr th:only-of-type {\n",
       "        vertical-align: middle;\n",
       "    }\n",
       "\n",
       "    .dataframe tbody tr th {\n",
       "        vertical-align: top;\n",
       "    }\n",
       "\n",
       "    .dataframe thead th {\n",
       "        text-align: right;\n",
       "    }\n",
       "</style>\n",
       "<table border=\"1\" class=\"dataframe\">\n",
       "  <thead>\n",
       "    <tr style=\"text-align: right;\">\n",
       "      <th></th>\n",
       "      <th>date</th>\n",
       "      <th>stars</th>\n",
       "      <th>text</th>\n",
       "      <th>cool</th>\n",
       "      <th>useful</th>\n",
       "      <th>funny</th>\n",
       "      <th>scores</th>\n",
       "      <th>compound</th>\n",
       "      <th>neg</th>\n",
       "      <th>neu</th>\n",
       "      <th>pos</th>\n",
       "    </tr>\n",
       "  </thead>\n",
       "  <tbody>\n",
       "    <tr>\n",
       "      <th>0</th>\n",
       "      <td>2008-08-18</td>\n",
       "      <td>4</td>\n",
       "      <td>4 stars based on the sangria alone.\\n\\nOrder t...</td>\n",
       "      <td>4</td>\n",
       "      <td>2</td>\n",
       "      <td>2</td>\n",
       "      <td>{'neg': 0.245, 'neu': 0.681, 'pos': 0.074, 'co...</td>\n",
       "      <td>-0.7420</td>\n",
       "      <td>0.245</td>\n",
       "      <td>0.681</td>\n",
       "      <td>0.074</td>\n",
       "    </tr>\n",
       "    <tr>\n",
       "      <th>1</th>\n",
       "      <td>2010-01-27</td>\n",
       "      <td>4</td>\n",
       "      <td>This place is a good go to when you're looking...</td>\n",
       "      <td>2</td>\n",
       "      <td>2</td>\n",
       "      <td>0</td>\n",
       "      <td>{'neg': 0.061, 'neu': 0.664, 'pos': 0.275, 'co...</td>\n",
       "      <td>0.9858</td>\n",
       "      <td>0.061</td>\n",
       "      <td>0.664</td>\n",
       "      <td>0.275</td>\n",
       "    </tr>\n",
       "    <tr>\n",
       "      <th>2</th>\n",
       "      <td>2012-12-20</td>\n",
       "      <td>1</td>\n",
       "      <td>Still a place that is unacceptable in my book-...</td>\n",
       "      <td>0</td>\n",
       "      <td>0</td>\n",
       "      <td>4</td>\n",
       "      <td>{'neg': 0.097, 'neu': 0.777, 'pos': 0.125, 'co...</td>\n",
       "      <td>0.3818</td>\n",
       "      <td>0.097</td>\n",
       "      <td>0.777</td>\n",
       "      <td>0.125</td>\n",
       "    </tr>\n",
       "    <tr>\n",
       "      <th>3</th>\n",
       "      <td>2012-03-27</td>\n",
       "      <td>4</td>\n",
       "      <td>A new breakfast option in old town Scottsdale....</td>\n",
       "      <td>2</td>\n",
       "      <td>4</td>\n",
       "      <td>1</td>\n",
       "      <td>{'neg': 0.0, 'neu': 0.8, 'pos': 0.2, 'compound...</td>\n",
       "      <td>0.8176</td>\n",
       "      <td>0.000</td>\n",
       "      <td>0.800</td>\n",
       "      <td>0.200</td>\n",
       "    </tr>\n",
       "    <tr>\n",
       "      <th>4</th>\n",
       "      <td>2006-08-08</td>\n",
       "      <td>4</td>\n",
       "      <td>The black beans are awesome. Also recommend th...</td>\n",
       "      <td>0</td>\n",
       "      <td>0</td>\n",
       "      <td>0</td>\n",
       "      <td>{'neg': 0.055, 'neu': 0.573, 'pos': 0.372, 'co...</td>\n",
       "      <td>0.9300</td>\n",
       "      <td>0.055</td>\n",
       "      <td>0.573</td>\n",
       "      <td>0.372</td>\n",
       "    </tr>\n",
       "  </tbody>\n",
       "</table>\n",
       "</div>"
      ],
      "text/plain": [
       "         date  stars                                               text  cool  \\\n",
       "0  2008-08-18      4  4 stars based on the sangria alone.\\n\\nOrder t...     4   \n",
       "1  2010-01-27      4  This place is a good go to when you're looking...     2   \n",
       "2  2012-12-20      1  Still a place that is unacceptable in my book-...     0   \n",
       "3  2012-03-27      4  A new breakfast option in old town Scottsdale....     2   \n",
       "4  2006-08-08      4  The black beans are awesome. Also recommend th...     0   \n",
       "\n",
       "   useful  funny                                             scores  compound  \\\n",
       "0       2      2  {'neg': 0.245, 'neu': 0.681, 'pos': 0.074, 'co...   -0.7420   \n",
       "1       2      0  {'neg': 0.061, 'neu': 0.664, 'pos': 0.275, 'co...    0.9858   \n",
       "2       0      4  {'neg': 0.097, 'neu': 0.777, 'pos': 0.125, 'co...    0.3818   \n",
       "3       4      1  {'neg': 0.0, 'neu': 0.8, 'pos': 0.2, 'compound...    0.8176   \n",
       "4       0      0  {'neg': 0.055, 'neu': 0.573, 'pos': 0.372, 'co...    0.9300   \n",
       "\n",
       "     neg    neu    pos  \n",
       "0  0.245  0.681  0.074  \n",
       "1  0.061  0.664  0.275  \n",
       "2  0.097  0.777  0.125  \n",
       "3  0.000  0.800  0.200  \n",
       "4  0.055  0.573  0.372  "
      ]
     },
     "execution_count": 332,
     "metadata": {},
     "output_type": "execute_result"
    }
   ],
   "source": [
    "y.head()"
   ]
  },
  {
   "cell_type": "code",
   "execution_count": 338,
   "metadata": {},
   "outputs": [
    {
     "data": {
      "text/html": [
       "<div>\n",
       "<style scoped>\n",
       "    .dataframe tbody tr th:only-of-type {\n",
       "        vertical-align: middle;\n",
       "    }\n",
       "\n",
       "    .dataframe tbody tr th {\n",
       "        vertical-align: top;\n",
       "    }\n",
       "\n",
       "    .dataframe thead th {\n",
       "        text-align: right;\n",
       "    }\n",
       "</style>\n",
       "<table border=\"1\" class=\"dataframe\">\n",
       "  <thead>\n",
       "    <tr style=\"text-align: right;\">\n",
       "      <th></th>\n",
       "      <th>date</th>\n",
       "      <th>stars</th>\n",
       "      <th>text</th>\n",
       "      <th>cool</th>\n",
       "      <th>useful</th>\n",
       "      <th>funny</th>\n",
       "      <th>scores</th>\n",
       "      <th>compound</th>\n",
       "      <th>neg</th>\n",
       "      <th>neu</th>\n",
       "      <th>pos</th>\n",
       "      <th>year</th>\n",
       "    </tr>\n",
       "  </thead>\n",
       "  <tbody>\n",
       "    <tr>\n",
       "      <th>0</th>\n",
       "      <td>2008-08-18</td>\n",
       "      <td>4</td>\n",
       "      <td>4 stars based on the sangria alone.\\n\\nOrder t...</td>\n",
       "      <td>4</td>\n",
       "      <td>2</td>\n",
       "      <td>2</td>\n",
       "      <td>{'neg': 0.245, 'neu': 0.681, 'pos': 0.074, 'co...</td>\n",
       "      <td>-0.7420</td>\n",
       "      <td>0.245</td>\n",
       "      <td>0.681</td>\n",
       "      <td>0.074</td>\n",
       "      <td>2008</td>\n",
       "    </tr>\n",
       "    <tr>\n",
       "      <th>1</th>\n",
       "      <td>2010-01-27</td>\n",
       "      <td>4</td>\n",
       "      <td>This place is a good go to when you're looking...</td>\n",
       "      <td>2</td>\n",
       "      <td>2</td>\n",
       "      <td>0</td>\n",
       "      <td>{'neg': 0.061, 'neu': 0.664, 'pos': 0.275, 'co...</td>\n",
       "      <td>0.9858</td>\n",
       "      <td>0.061</td>\n",
       "      <td>0.664</td>\n",
       "      <td>0.275</td>\n",
       "      <td>2010</td>\n",
       "    </tr>\n",
       "    <tr>\n",
       "      <th>2</th>\n",
       "      <td>2012-12-20</td>\n",
       "      <td>1</td>\n",
       "      <td>Still a place that is unacceptable in my book-...</td>\n",
       "      <td>0</td>\n",
       "      <td>0</td>\n",
       "      <td>4</td>\n",
       "      <td>{'neg': 0.097, 'neu': 0.777, 'pos': 0.125, 'co...</td>\n",
       "      <td>0.3818</td>\n",
       "      <td>0.097</td>\n",
       "      <td>0.777</td>\n",
       "      <td>0.125</td>\n",
       "      <td>2012</td>\n",
       "    </tr>\n",
       "    <tr>\n",
       "      <th>3</th>\n",
       "      <td>2012-03-27</td>\n",
       "      <td>4</td>\n",
       "      <td>A new breakfast option in old town Scottsdale....</td>\n",
       "      <td>2</td>\n",
       "      <td>4</td>\n",
       "      <td>1</td>\n",
       "      <td>{'neg': 0.0, 'neu': 0.8, 'pos': 0.2, 'compound...</td>\n",
       "      <td>0.8176</td>\n",
       "      <td>0.000</td>\n",
       "      <td>0.800</td>\n",
       "      <td>0.200</td>\n",
       "      <td>2012</td>\n",
       "    </tr>\n",
       "    <tr>\n",
       "      <th>4</th>\n",
       "      <td>2006-08-08</td>\n",
       "      <td>4</td>\n",
       "      <td>The black beans are awesome. Also recommend th...</td>\n",
       "      <td>0</td>\n",
       "      <td>0</td>\n",
       "      <td>0</td>\n",
       "      <td>{'neg': 0.055, 'neu': 0.573, 'pos': 0.372, 'co...</td>\n",
       "      <td>0.9300</td>\n",
       "      <td>0.055</td>\n",
       "      <td>0.573</td>\n",
       "      <td>0.372</td>\n",
       "      <td>2006</td>\n",
       "    </tr>\n",
       "  </tbody>\n",
       "</table>\n",
       "</div>"
      ],
      "text/plain": [
       "         date  stars                                               text  cool  \\\n",
       "0  2008-08-18      4  4 stars based on the sangria alone.\\n\\nOrder t...     4   \n",
       "1  2010-01-27      4  This place is a good go to when you're looking...     2   \n",
       "2  2012-12-20      1  Still a place that is unacceptable in my book-...     0   \n",
       "3  2012-03-27      4  A new breakfast option in old town Scottsdale....     2   \n",
       "4  2006-08-08      4  The black beans are awesome. Also recommend th...     0   \n",
       "\n",
       "   useful  funny                                             scores  compound  \\\n",
       "0       2      2  {'neg': 0.245, 'neu': 0.681, 'pos': 0.074, 'co...   -0.7420   \n",
       "1       2      0  {'neg': 0.061, 'neu': 0.664, 'pos': 0.275, 'co...    0.9858   \n",
       "2       0      4  {'neg': 0.097, 'neu': 0.777, 'pos': 0.125, 'co...    0.3818   \n",
       "3       4      1  {'neg': 0.0, 'neu': 0.8, 'pos': 0.2, 'compound...    0.8176   \n",
       "4       0      0  {'neg': 0.055, 'neu': 0.573, 'pos': 0.372, 'co...    0.9300   \n",
       "\n",
       "     neg    neu    pos  year  \n",
       "0  0.245  0.681  0.074  2008  \n",
       "1  0.061  0.664  0.275  2010  \n",
       "2  0.097  0.777  0.125  2012  \n",
       "3  0.000  0.800  0.200  2012  \n",
       "4  0.055  0.573  0.372  2006  "
      ]
     },
     "execution_count": 338,
     "metadata": {},
     "output_type": "execute_result"
    }
   ],
   "source": [
    "y['year'] = pd.DatetimeIndex(y['date']).year\n",
    "y.head()"
   ]
  },
  {
   "cell_type": "code",
   "execution_count": 361,
   "metadata": {},
   "outputs": [
    {
     "data": {
      "text/html": [
       "<div>\n",
       "<style scoped>\n",
       "    .dataframe tbody tr th:only-of-type {\n",
       "        vertical-align: middle;\n",
       "    }\n",
       "\n",
       "    .dataframe tbody tr th {\n",
       "        vertical-align: top;\n",
       "    }\n",
       "\n",
       "    .dataframe thead th {\n",
       "        text-align: right;\n",
       "    }\n",
       "</style>\n",
       "<table border=\"1\" class=\"dataframe\">\n",
       "  <thead>\n",
       "    <tr style=\"text-align: right;\">\n",
       "      <th></th>\n",
       "      <th>date</th>\n",
       "      <th>stars</th>\n",
       "      <th>text</th>\n",
       "      <th>cool</th>\n",
       "      <th>useful</th>\n",
       "      <th>funny</th>\n",
       "      <th>scores</th>\n",
       "      <th>compound</th>\n",
       "      <th>neg</th>\n",
       "      <th>neu</th>\n",
       "      <th>pos</th>\n",
       "      <th>year</th>\n",
       "    </tr>\n",
       "  </thead>\n",
       "  <tbody>\n",
       "    <tr>\n",
       "      <th>6</th>\n",
       "      <td>2011-04-19</td>\n",
       "      <td>4</td>\n",
       "      <td>Recently ate at Macaroni Grill at Desert Ridge...</td>\n",
       "      <td>0</td>\n",
       "      <td>1</td>\n",
       "      <td>0</td>\n",
       "      <td>{'neg': 0.0, 'neu': 0.722, 'pos': 0.278, 'comp...</td>\n",
       "      <td>0.9762</td>\n",
       "      <td>0.000</td>\n",
       "      <td>0.722</td>\n",
       "      <td>0.278</td>\n",
       "      <td>2011</td>\n",
       "    </tr>\n",
       "    <tr>\n",
       "      <th>10</th>\n",
       "      <td>2011-01-16</td>\n",
       "      <td>2</td>\n",
       "      <td>I used to frequent this place when it was Long...</td>\n",
       "      <td>0</td>\n",
       "      <td>5</td>\n",
       "      <td>2</td>\n",
       "      <td>{'neg': 0.113, 'neu': 0.819, 'pos': 0.068, 'co...</td>\n",
       "      <td>-0.9439</td>\n",
       "      <td>0.113</td>\n",
       "      <td>0.819</td>\n",
       "      <td>0.068</td>\n",
       "      <td>2011</td>\n",
       "    </tr>\n",
       "    <tr>\n",
       "      <th>15</th>\n",
       "      <td>2011-07-02</td>\n",
       "      <td>4</td>\n",
       "      <td>I recently went to my first First Friday (and ...</td>\n",
       "      <td>0</td>\n",
       "      <td>1</td>\n",
       "      <td>0</td>\n",
       "      <td>{'neg': 0.02, 'neu': 0.828, 'pos': 0.152, 'com...</td>\n",
       "      <td>0.9894</td>\n",
       "      <td>0.020</td>\n",
       "      <td>0.828</td>\n",
       "      <td>0.152</td>\n",
       "      <td>2011</td>\n",
       "    </tr>\n",
       "    <tr>\n",
       "      <th>16</th>\n",
       "      <td>2011-07-30</td>\n",
       "      <td>2</td>\n",
       "      <td>I don't get it!!\\nMy husband, daughter and I w...</td>\n",
       "      <td>0</td>\n",
       "      <td>1</td>\n",
       "      <td>0</td>\n",
       "      <td>{'neg': 0.097, 'neu': 0.84, 'pos': 0.063, 'com...</td>\n",
       "      <td>-0.9887</td>\n",
       "      <td>0.097</td>\n",
       "      <td>0.840</td>\n",
       "      <td>0.063</td>\n",
       "      <td>2011</td>\n",
       "    </tr>\n",
       "    <tr>\n",
       "      <th>26</th>\n",
       "      <td>2011-10-09</td>\n",
       "      <td>3</td>\n",
       "      <td>Brunch Review:\\n\\nDYNaMITE BLOODYMARYS. Someth...</td>\n",
       "      <td>0</td>\n",
       "      <td>1</td>\n",
       "      <td>1</td>\n",
       "      <td>{'neg': 0.0, 'neu': 0.815, 'pos': 0.185, 'comp...</td>\n",
       "      <td>0.9697</td>\n",
       "      <td>0.000</td>\n",
       "      <td>0.815</td>\n",
       "      <td>0.185</td>\n",
       "      <td>2011</td>\n",
       "    </tr>\n",
       "    <tr>\n",
       "      <th>...</th>\n",
       "      <td>...</td>\n",
       "      <td>...</td>\n",
       "      <td>...</td>\n",
       "      <td>...</td>\n",
       "      <td>...</td>\n",
       "      <td>...</td>\n",
       "      <td>...</td>\n",
       "      <td>...</td>\n",
       "      <td>...</td>\n",
       "      <td>...</td>\n",
       "      <td>...</td>\n",
       "      <td>...</td>\n",
       "    </tr>\n",
       "    <tr>\n",
       "      <th>985</th>\n",
       "      <td>2011-02-07</td>\n",
       "      <td>3</td>\n",
       "      <td>I remember a time when Ikea was an almost lege...</td>\n",
       "      <td>1</td>\n",
       "      <td>2</td>\n",
       "      <td>1</td>\n",
       "      <td>{'neg': 0.019, 'neu': 0.828, 'pos': 0.153, 'co...</td>\n",
       "      <td>0.9797</td>\n",
       "      <td>0.019</td>\n",
       "      <td>0.828</td>\n",
       "      <td>0.153</td>\n",
       "      <td>2011</td>\n",
       "    </tr>\n",
       "    <tr>\n",
       "      <th>989</th>\n",
       "      <td>2011-11-04</td>\n",
       "      <td>5</td>\n",
       "      <td>My home airport and one of the nicest terminal...</td>\n",
       "      <td>1</td>\n",
       "      <td>1</td>\n",
       "      <td>0</td>\n",
       "      <td>{'neg': 0.0, 'neu': 0.647, 'pos': 0.353, 'comp...</td>\n",
       "      <td>0.9000</td>\n",
       "      <td>0.000</td>\n",
       "      <td>0.647</td>\n",
       "      <td>0.353</td>\n",
       "      <td>2011</td>\n",
       "    </tr>\n",
       "    <tr>\n",
       "      <th>991</th>\n",
       "      <td>2011-10-23</td>\n",
       "      <td>5</td>\n",
       "      <td>The greatest community that I've ever been a p...</td>\n",
       "      <td>0</td>\n",
       "      <td>0</td>\n",
       "      <td>0</td>\n",
       "      <td>{'neg': 0.0, 'neu': 0.715, 'pos': 0.285, 'comp...</td>\n",
       "      <td>0.9884</td>\n",
       "      <td>0.000</td>\n",
       "      <td>0.715</td>\n",
       "      <td>0.285</td>\n",
       "      <td>2011</td>\n",
       "    </tr>\n",
       "    <tr>\n",
       "      <th>996</th>\n",
       "      <td>2011-05-20</td>\n",
       "      <td>5</td>\n",
       "      <td>I am a big fan of this place, either to stop i...</td>\n",
       "      <td>0</td>\n",
       "      <td>1</td>\n",
       "      <td>0</td>\n",
       "      <td>{'neg': 0.022, 'neu': 0.699, 'pos': 0.278, 'co...</td>\n",
       "      <td>0.9757</td>\n",
       "      <td>0.022</td>\n",
       "      <td>0.699</td>\n",
       "      <td>0.278</td>\n",
       "      <td>2011</td>\n",
       "    </tr>\n",
       "    <tr>\n",
       "      <th>997</th>\n",
       "      <td>2011-11-28</td>\n",
       "      <td>5</td>\n",
       "      <td>well dang gummit....git on over here and by me...</td>\n",
       "      <td>1</td>\n",
       "      <td>0</td>\n",
       "      <td>0</td>\n",
       "      <td>{'neg': 0.078, 'neu': 0.78, 'pos': 0.142, 'com...</td>\n",
       "      <td>0.9356</td>\n",
       "      <td>0.078</td>\n",
       "      <td>0.780</td>\n",
       "      <td>0.142</td>\n",
       "      <td>2011</td>\n",
       "    </tr>\n",
       "  </tbody>\n",
       "</table>\n",
       "<p>271 rows × 12 columns</p>\n",
       "</div>"
      ],
      "text/plain": [
       "           date  stars                                               text  \\\n",
       "6    2011-04-19      4  Recently ate at Macaroni Grill at Desert Ridge...   \n",
       "10   2011-01-16      2  I used to frequent this place when it was Long...   \n",
       "15   2011-07-02      4  I recently went to my first First Friday (and ...   \n",
       "16   2011-07-30      2  I don't get it!!\\nMy husband, daughter and I w...   \n",
       "26   2011-10-09      3  Brunch Review:\\n\\nDYNaMITE BLOODYMARYS. Someth...   \n",
       "..          ...    ...                                                ...   \n",
       "985  2011-02-07      3  I remember a time when Ikea was an almost lege...   \n",
       "989  2011-11-04      5  My home airport and one of the nicest terminal...   \n",
       "991  2011-10-23      5  The greatest community that I've ever been a p...   \n",
       "996  2011-05-20      5  I am a big fan of this place, either to stop i...   \n",
       "997  2011-11-28      5  well dang gummit....git on over here and by me...   \n",
       "\n",
       "     cool  useful  funny                                             scores  \\\n",
       "6       0       1      0  {'neg': 0.0, 'neu': 0.722, 'pos': 0.278, 'comp...   \n",
       "10      0       5      2  {'neg': 0.113, 'neu': 0.819, 'pos': 0.068, 'co...   \n",
       "15      0       1      0  {'neg': 0.02, 'neu': 0.828, 'pos': 0.152, 'com...   \n",
       "16      0       1      0  {'neg': 0.097, 'neu': 0.84, 'pos': 0.063, 'com...   \n",
       "26      0       1      1  {'neg': 0.0, 'neu': 0.815, 'pos': 0.185, 'comp...   \n",
       "..    ...     ...    ...                                                ...   \n",
       "985     1       2      1  {'neg': 0.019, 'neu': 0.828, 'pos': 0.153, 'co...   \n",
       "989     1       1      0  {'neg': 0.0, 'neu': 0.647, 'pos': 0.353, 'comp...   \n",
       "991     0       0      0  {'neg': 0.0, 'neu': 0.715, 'pos': 0.285, 'comp...   \n",
       "996     0       1      0  {'neg': 0.022, 'neu': 0.699, 'pos': 0.278, 'co...   \n",
       "997     1       0      0  {'neg': 0.078, 'neu': 0.78, 'pos': 0.142, 'com...   \n",
       "\n",
       "     compound    neg    neu    pos  year  \n",
       "6      0.9762  0.000  0.722  0.278  2011  \n",
       "10    -0.9439  0.113  0.819  0.068  2011  \n",
       "15     0.9894  0.020  0.828  0.152  2011  \n",
       "16    -0.9887  0.097  0.840  0.063  2011  \n",
       "26     0.9697  0.000  0.815  0.185  2011  \n",
       "..        ...    ...    ...    ...   ...  \n",
       "985    0.9797  0.019  0.828  0.153  2011  \n",
       "989    0.9000  0.000  0.647  0.353  2011  \n",
       "991    0.9884  0.000  0.715  0.285  2011  \n",
       "996    0.9757  0.022  0.699  0.278  2011  \n",
       "997    0.9356  0.078  0.780  0.142  2011  \n",
       "\n",
       "[271 rows x 12 columns]"
      ]
     },
     "execution_count": 361,
     "metadata": {},
     "output_type": "execute_result"
    }
   ],
   "source": [
    "y11=y[y['year']==2011]\n",
    "y11"
   ]
  },
  {
   "cell_type": "code",
   "execution_count": 369,
   "metadata": {},
   "outputs": [],
   "source": [
    "a=len(y11[y11['compound']<0])"
   ]
  },
  {
   "cell_type": "code",
   "execution_count": 364,
   "metadata": {},
   "outputs": [
    {
     "data": {
      "text/html": [
       "<div>\n",
       "<style scoped>\n",
       "    .dataframe tbody tr th:only-of-type {\n",
       "        vertical-align: middle;\n",
       "    }\n",
       "\n",
       "    .dataframe tbody tr th {\n",
       "        vertical-align: top;\n",
       "    }\n",
       "\n",
       "    .dataframe thead th {\n",
       "        text-align: right;\n",
       "    }\n",
       "</style>\n",
       "<table border=\"1\" class=\"dataframe\">\n",
       "  <thead>\n",
       "    <tr style=\"text-align: right;\">\n",
       "      <th></th>\n",
       "      <th>date</th>\n",
       "      <th>stars</th>\n",
       "      <th>text</th>\n",
       "      <th>cool</th>\n",
       "      <th>useful</th>\n",
       "      <th>funny</th>\n",
       "      <th>scores</th>\n",
       "      <th>compound</th>\n",
       "      <th>neg</th>\n",
       "      <th>neu</th>\n",
       "      <th>pos</th>\n",
       "      <th>year</th>\n",
       "    </tr>\n",
       "  </thead>\n",
       "  <tbody>\n",
       "    <tr>\n",
       "      <th>2</th>\n",
       "      <td>2012-12-20</td>\n",
       "      <td>1</td>\n",
       "      <td>Still a place that is unacceptable in my book-...</td>\n",
       "      <td>0</td>\n",
       "      <td>0</td>\n",
       "      <td>4</td>\n",
       "      <td>{'neg': 0.097, 'neu': 0.777, 'pos': 0.125, 'co...</td>\n",
       "      <td>0.3818</td>\n",
       "      <td>0.097</td>\n",
       "      <td>0.777</td>\n",
       "      <td>0.125</td>\n",
       "      <td>2012</td>\n",
       "    </tr>\n",
       "    <tr>\n",
       "      <th>3</th>\n",
       "      <td>2012-03-27</td>\n",
       "      <td>4</td>\n",
       "      <td>A new breakfast option in old town Scottsdale....</td>\n",
       "      <td>2</td>\n",
       "      <td>4</td>\n",
       "      <td>1</td>\n",
       "      <td>{'neg': 0.0, 'neu': 0.8, 'pos': 0.2, 'compound...</td>\n",
       "      <td>0.8176</td>\n",
       "      <td>0.000</td>\n",
       "      <td>0.800</td>\n",
       "      <td>0.200</td>\n",
       "      <td>2012</td>\n",
       "    </tr>\n",
       "    <tr>\n",
       "      <th>13</th>\n",
       "      <td>2012-12-13</td>\n",
       "      <td>5</td>\n",
       "      <td>Just want to Say ThankYou Hawaiian Airlines fo...</td>\n",
       "      <td>0</td>\n",
       "      <td>0</td>\n",
       "      <td>0</td>\n",
       "      <td>{'neg': 0.101, 'neu': 0.711, 'pos': 0.188, 'co...</td>\n",
       "      <td>0.2702</td>\n",
       "      <td>0.101</td>\n",
       "      <td>0.711</td>\n",
       "      <td>0.188</td>\n",
       "      <td>2012</td>\n",
       "    </tr>\n",
       "    <tr>\n",
       "      <th>14</th>\n",
       "      <td>2012-05-26</td>\n",
       "      <td>2</td>\n",
       "      <td>A very inadequate meal and expensive for the l...</td>\n",
       "      <td>1</td>\n",
       "      <td>3</td>\n",
       "      <td>0</td>\n",
       "      <td>{'neg': 0.244, 'neu': 0.675, 'pos': 0.082, 'co...</td>\n",
       "      <td>-0.8901</td>\n",
       "      <td>0.244</td>\n",
       "      <td>0.675</td>\n",
       "      <td>0.082</td>\n",
       "      <td>2012</td>\n",
       "    </tr>\n",
       "    <tr>\n",
       "      <th>17</th>\n",
       "      <td>2012-04-18</td>\n",
       "      <td>5</td>\n",
       "      <td>The \"Cheers\" of central Phoenix.</td>\n",
       "      <td>0</td>\n",
       "      <td>1</td>\n",
       "      <td>0</td>\n",
       "      <td>{'neg': 0.0, 'neu': 1.0, 'pos': 0.0, 'compound...</td>\n",
       "      <td>0.0000</td>\n",
       "      <td>0.000</td>\n",
       "      <td>1.000</td>\n",
       "      <td>0.000</td>\n",
       "      <td>2012</td>\n",
       "    </tr>\n",
       "    <tr>\n",
       "      <th>...</th>\n",
       "      <td>...</td>\n",
       "      <td>...</td>\n",
       "      <td>...</td>\n",
       "      <td>...</td>\n",
       "      <td>...</td>\n",
       "      <td>...</td>\n",
       "      <td>...</td>\n",
       "      <td>...</td>\n",
       "      <td>...</td>\n",
       "      <td>...</td>\n",
       "      <td>...</td>\n",
       "      <td>...</td>\n",
       "    </tr>\n",
       "    <tr>\n",
       "      <th>973</th>\n",
       "      <td>2012-01-08</td>\n",
       "      <td>5</td>\n",
       "      <td>Great little place in a great little neighborh...</td>\n",
       "      <td>0</td>\n",
       "      <td>0</td>\n",
       "      <td>0</td>\n",
       "      <td>{'neg': 0.0, 'neu': 0.533, 'pos': 0.467, 'comp...</td>\n",
       "      <td>0.9819</td>\n",
       "      <td>0.000</td>\n",
       "      <td>0.533</td>\n",
       "      <td>0.467</td>\n",
       "      <td>2012</td>\n",
       "    </tr>\n",
       "    <tr>\n",
       "      <th>981</th>\n",
       "      <td>2012-08-24</td>\n",
       "      <td>5</td>\n",
       "      <td>I have had a couple of peels at A-Peeling Face...</td>\n",
       "      <td>0</td>\n",
       "      <td>0</td>\n",
       "      <td>0</td>\n",
       "      <td>{'neg': 0.067, 'neu': 0.773, 'pos': 0.16, 'com...</td>\n",
       "      <td>0.6558</td>\n",
       "      <td>0.067</td>\n",
       "      <td>0.773</td>\n",
       "      <td>0.160</td>\n",
       "      <td>2012</td>\n",
       "    </tr>\n",
       "    <tr>\n",
       "      <th>987</th>\n",
       "      <td>2012-08-19</td>\n",
       "      <td>1</td>\n",
       "      <td>I hadn't been to Fuddruckers for about 20 year...</td>\n",
       "      <td>1</td>\n",
       "      <td>1</td>\n",
       "      <td>1</td>\n",
       "      <td>{'neg': 0.022, 'neu': 0.858, 'pos': 0.12, 'com...</td>\n",
       "      <td>0.8685</td>\n",
       "      <td>0.022</td>\n",
       "      <td>0.858</td>\n",
       "      <td>0.120</td>\n",
       "      <td>2012</td>\n",
       "    </tr>\n",
       "    <tr>\n",
       "      <th>992</th>\n",
       "      <td>2012-01-12</td>\n",
       "      <td>5</td>\n",
       "      <td>I have completed this run (obviously not the 2...</td>\n",
       "      <td>1</td>\n",
       "      <td>1</td>\n",
       "      <td>1</td>\n",
       "      <td>{'neg': 0.0, 'neu': 0.77, 'pos': 0.23, 'compou...</td>\n",
       "      <td>0.9829</td>\n",
       "      <td>0.000</td>\n",
       "      <td>0.770</td>\n",
       "      <td>0.230</td>\n",
       "      <td>2012</td>\n",
       "    </tr>\n",
       "    <tr>\n",
       "      <th>998</th>\n",
       "      <td>2012-08-06</td>\n",
       "      <td>4</td>\n",
       "      <td>Love spicy Mexican food? Well then this is the...</td>\n",
       "      <td>0</td>\n",
       "      <td>1</td>\n",
       "      <td>0</td>\n",
       "      <td>{'neg': 0.0, 'neu': 0.573, 'pos': 0.427, 'comp...</td>\n",
       "      <td>0.9618</td>\n",
       "      <td>0.000</td>\n",
       "      <td>0.573</td>\n",
       "      <td>0.427</td>\n",
       "      <td>2012</td>\n",
       "    </tr>\n",
       "  </tbody>\n",
       "</table>\n",
       "<p>293 rows × 12 columns</p>\n",
       "</div>"
      ],
      "text/plain": [
       "           date  stars                                               text  \\\n",
       "2    2012-12-20      1  Still a place that is unacceptable in my book-...   \n",
       "3    2012-03-27      4  A new breakfast option in old town Scottsdale....   \n",
       "13   2012-12-13      5  Just want to Say ThankYou Hawaiian Airlines fo...   \n",
       "14   2012-05-26      2  A very inadequate meal and expensive for the l...   \n",
       "17   2012-04-18      5                   The \"Cheers\" of central Phoenix.   \n",
       "..          ...    ...                                                ...   \n",
       "973  2012-01-08      5  Great little place in a great little neighborh...   \n",
       "981  2012-08-24      5  I have had a couple of peels at A-Peeling Face...   \n",
       "987  2012-08-19      1  I hadn't been to Fuddruckers for about 20 year...   \n",
       "992  2012-01-12      5  I have completed this run (obviously not the 2...   \n",
       "998  2012-08-06      4  Love spicy Mexican food? Well then this is the...   \n",
       "\n",
       "     cool  useful  funny                                             scores  \\\n",
       "2       0       0      4  {'neg': 0.097, 'neu': 0.777, 'pos': 0.125, 'co...   \n",
       "3       2       4      1  {'neg': 0.0, 'neu': 0.8, 'pos': 0.2, 'compound...   \n",
       "13      0       0      0  {'neg': 0.101, 'neu': 0.711, 'pos': 0.188, 'co...   \n",
       "14      1       3      0  {'neg': 0.244, 'neu': 0.675, 'pos': 0.082, 'co...   \n",
       "17      0       1      0  {'neg': 0.0, 'neu': 1.0, 'pos': 0.0, 'compound...   \n",
       "..    ...     ...    ...                                                ...   \n",
       "973     0       0      0  {'neg': 0.0, 'neu': 0.533, 'pos': 0.467, 'comp...   \n",
       "981     0       0      0  {'neg': 0.067, 'neu': 0.773, 'pos': 0.16, 'com...   \n",
       "987     1       1      1  {'neg': 0.022, 'neu': 0.858, 'pos': 0.12, 'com...   \n",
       "992     1       1      1  {'neg': 0.0, 'neu': 0.77, 'pos': 0.23, 'compou...   \n",
       "998     0       1      0  {'neg': 0.0, 'neu': 0.573, 'pos': 0.427, 'comp...   \n",
       "\n",
       "     compound    neg    neu    pos  year  \n",
       "2      0.3818  0.097  0.777  0.125  2012  \n",
       "3      0.8176  0.000  0.800  0.200  2012  \n",
       "13     0.2702  0.101  0.711  0.188  2012  \n",
       "14    -0.8901  0.244  0.675  0.082  2012  \n",
       "17     0.0000  0.000  1.000  0.000  2012  \n",
       "..        ...    ...    ...    ...   ...  \n",
       "973    0.9819  0.000  0.533  0.467  2012  \n",
       "981    0.6558  0.067  0.773  0.160  2012  \n",
       "987    0.8685  0.022  0.858  0.120  2012  \n",
       "992    0.9829  0.000  0.770  0.230  2012  \n",
       "998    0.9618  0.000  0.573  0.427  2012  \n",
       "\n",
       "[293 rows x 12 columns]"
      ]
     },
     "execution_count": 364,
     "metadata": {},
     "output_type": "execute_result"
    }
   ],
   "source": [
    "y12=y[y['year']==2012]\n",
    "y12"
   ]
  },
  {
   "cell_type": "markdown",
   "metadata": {},
   "source": [
    "So there are 271 reviews in 2011 and 293 reviews in 2012"
   ]
  },
  {
   "cell_type": "code",
   "execution_count": 372,
   "metadata": {},
   "outputs": [
    {
     "name": "stdout",
     "output_type": "stream",
     "text": [
      "0.48936170212765956\n"
     ]
    }
   ],
   "source": [
    "b=len(y12[y12['compound']<0])\n",
    "proportion= a/b\n",
    "print(proportion)"
   ]
  },
  {
   "cell_type": "markdown",
   "metadata": {},
   "source": [
    "Part 5"
   ]
  },
  {
   "cell_type": "code",
   "execution_count": 380,
   "metadata": {},
   "outputs": [],
   "source": [
    "y['length'] = y['text'].str.split().str.len()"
   ]
  },
  {
   "cell_type": "code",
   "execution_count": 381,
   "metadata": {},
   "outputs": [
    {
     "data": {
      "text/html": [
       "<div>\n",
       "<style scoped>\n",
       "    .dataframe tbody tr th:only-of-type {\n",
       "        vertical-align: middle;\n",
       "    }\n",
       "\n",
       "    .dataframe tbody tr th {\n",
       "        vertical-align: top;\n",
       "    }\n",
       "\n",
       "    .dataframe thead th {\n",
       "        text-align: right;\n",
       "    }\n",
       "</style>\n",
       "<table border=\"1\" class=\"dataframe\">\n",
       "  <thead>\n",
       "    <tr style=\"text-align: right;\">\n",
       "      <th></th>\n",
       "      <th>date</th>\n",
       "      <th>stars</th>\n",
       "      <th>text</th>\n",
       "      <th>cool</th>\n",
       "      <th>useful</th>\n",
       "      <th>funny</th>\n",
       "      <th>scores</th>\n",
       "      <th>compound</th>\n",
       "      <th>neg</th>\n",
       "      <th>neu</th>\n",
       "      <th>pos</th>\n",
       "      <th>year</th>\n",
       "      <th>length</th>\n",
       "    </tr>\n",
       "  </thead>\n",
       "  <tbody>\n",
       "    <tr>\n",
       "      <th>0</th>\n",
       "      <td>2008-08-18</td>\n",
       "      <td>4</td>\n",
       "      <td>4 stars based on the sangria alone.\\n\\nOrder t...</td>\n",
       "      <td>4</td>\n",
       "      <td>2</td>\n",
       "      <td>2</td>\n",
       "      <td>{'neg': 0.245, 'neu': 0.681, 'pos': 0.074, 'co...</td>\n",
       "      <td>-0.7420</td>\n",
       "      <td>0.245</td>\n",
       "      <td>0.681</td>\n",
       "      <td>0.074</td>\n",
       "      <td>2008</td>\n",
       "      <td>36</td>\n",
       "    </tr>\n",
       "    <tr>\n",
       "      <th>1</th>\n",
       "      <td>2010-01-27</td>\n",
       "      <td>4</td>\n",
       "      <td>This place is a good go to when you're looking...</td>\n",
       "      <td>2</td>\n",
       "      <td>2</td>\n",
       "      <td>0</td>\n",
       "      <td>{'neg': 0.061, 'neu': 0.664, 'pos': 0.275, 'co...</td>\n",
       "      <td>0.9858</td>\n",
       "      <td>0.061</td>\n",
       "      <td>0.664</td>\n",
       "      <td>0.275</td>\n",
       "      <td>2010</td>\n",
       "      <td>137</td>\n",
       "    </tr>\n",
       "    <tr>\n",
       "      <th>2</th>\n",
       "      <td>2012-12-20</td>\n",
       "      <td>1</td>\n",
       "      <td>Still a place that is unacceptable in my book-...</td>\n",
       "      <td>0</td>\n",
       "      <td>0</td>\n",
       "      <td>4</td>\n",
       "      <td>{'neg': 0.097, 'neu': 0.777, 'pos': 0.125, 'co...</td>\n",
       "      <td>0.3818</td>\n",
       "      <td>0.097</td>\n",
       "      <td>0.777</td>\n",
       "      <td>0.125</td>\n",
       "      <td>2012</td>\n",
       "      <td>52</td>\n",
       "    </tr>\n",
       "    <tr>\n",
       "      <th>3</th>\n",
       "      <td>2012-03-27</td>\n",
       "      <td>4</td>\n",
       "      <td>A new breakfast option in old town Scottsdale....</td>\n",
       "      <td>2</td>\n",
       "      <td>4</td>\n",
       "      <td>1</td>\n",
       "      <td>{'neg': 0.0, 'neu': 0.8, 'pos': 0.2, 'compound...</td>\n",
       "      <td>0.8176</td>\n",
       "      <td>0.000</td>\n",
       "      <td>0.800</td>\n",
       "      <td>0.200</td>\n",
       "      <td>2012</td>\n",
       "      <td>34</td>\n",
       "    </tr>\n",
       "    <tr>\n",
       "      <th>4</th>\n",
       "      <td>2006-08-08</td>\n",
       "      <td>4</td>\n",
       "      <td>The black beans are awesome. Also recommend th...</td>\n",
       "      <td>0</td>\n",
       "      <td>0</td>\n",
       "      <td>0</td>\n",
       "      <td>{'neg': 0.055, 'neu': 0.573, 'pos': 0.372, 'co...</td>\n",
       "      <td>0.9300</td>\n",
       "      <td>0.055</td>\n",
       "      <td>0.573</td>\n",
       "      <td>0.372</td>\n",
       "      <td>2006</td>\n",
       "      <td>31</td>\n",
       "    </tr>\n",
       "  </tbody>\n",
       "</table>\n",
       "</div>"
      ],
      "text/plain": [
       "         date  stars                                               text  cool  \\\n",
       "0  2008-08-18      4  4 stars based on the sangria alone.\\n\\nOrder t...     4   \n",
       "1  2010-01-27      4  This place is a good go to when you're looking...     2   \n",
       "2  2012-12-20      1  Still a place that is unacceptable in my book-...     0   \n",
       "3  2012-03-27      4  A new breakfast option in old town Scottsdale....     2   \n",
       "4  2006-08-08      4  The black beans are awesome. Also recommend th...     0   \n",
       "\n",
       "   useful  funny                                             scores  compound  \\\n",
       "0       2      2  {'neg': 0.245, 'neu': 0.681, 'pos': 0.074, 'co...   -0.7420   \n",
       "1       2      0  {'neg': 0.061, 'neu': 0.664, 'pos': 0.275, 'co...    0.9858   \n",
       "2       0      4  {'neg': 0.097, 'neu': 0.777, 'pos': 0.125, 'co...    0.3818   \n",
       "3       4      1  {'neg': 0.0, 'neu': 0.8, 'pos': 0.2, 'compound...    0.8176   \n",
       "4       0      0  {'neg': 0.055, 'neu': 0.573, 'pos': 0.372, 'co...    0.9300   \n",
       "\n",
       "     neg    neu    pos  year  length  \n",
       "0  0.245  0.681  0.074  2008      36  \n",
       "1  0.061  0.664  0.275  2010     137  \n",
       "2  0.097  0.777  0.125  2012      52  \n",
       "3  0.000  0.800  0.200  2012      34  \n",
       "4  0.055  0.573  0.372  2006      31  "
      ]
     },
     "execution_count": 381,
     "metadata": {},
     "output_type": "execute_result"
    }
   ],
   "source": [
    "y.head()"
   ]
  },
  {
   "cell_type": "code",
   "execution_count": 393,
   "metadata": {},
   "outputs": [
    {
     "data": {
      "text/plain": [
       "10"
      ]
     },
     "execution_count": 393,
     "metadata": {},
     "output_type": "execute_result"
    }
   ],
   "source": [
    "len(y[y['length']>500])\n"
   ]
  },
  {
   "cell_type": "code",
   "execution_count": 394,
   "metadata": {},
   "outputs": [
    {
     "data": {
      "text/plain": [
       "(1000, 13)"
      ]
     },
     "execution_count": 394,
     "metadata": {},
     "output_type": "execute_result"
    }
   ],
   "source": [
    "y.shape"
   ]
  },
  {
   "cell_type": "code",
   "execution_count": null,
   "metadata": {},
   "outputs": [],
   "source": [
    "#so percentage of text with  more than 500 words is\n",
    "0.01 percent."
   ]
  },
  {
   "cell_type": "code",
   "execution_count": null,
   "metadata": {},
   "outputs": [],
   "source": [
    "Null hypothesis: 60%  of the reviews (texts) are with more than 500 words\n",
    "Alternative hypothesis: 60 per of the reviews are not more than 500 words"
   ]
  },
  {
   "cell_type": "code",
   "execution_count": 396,
   "metadata": {},
   "outputs": [
    {
     "data": {
      "text/plain": [
       "6.570264377021384e-201"
      ]
     },
     "execution_count": 396,
     "metadata": {},
     "output_type": "execute_result"
    }
   ],
   "source": [
    "stats.binom_test(990, 1000, 0.6, alternative='greater')"
   ]
  },
  {
   "cell_type": "markdown",
   "metadata": {},
   "source": [
    "the hypothesis becomes false as it is far less than 0.05"
   ]
  },
  {
   "cell_type": "code",
   "execution_count": null,
   "metadata": {},
   "outputs": [],
   "source": []
  },
  {
   "cell_type": "code",
   "execution_count": null,
   "metadata": {},
   "outputs": [],
   "source": []
  },
  {
   "cell_type": "markdown",
   "metadata": {},
   "source": [
    "Use \"apply(len)\" to create a new column called \"length\" which is the number of words in the text column. Test if 60% (60 per cent) of the reviews (texts) are with more than 500 words (including space). State the null hypothesis and the alternative hypothesis. Comment on the results."
   ]
  },
  {
   "cell_type": "markdown",
   "metadata": {},
   "source": [
    "# Question 4\n",
    "\n",
    "Use **loans1000.csv** for this question. There are 6 variables in the dataset (see below) -- it is of interest to use [1]-[5] to predict [6]. Set random_state=1234 throughout (when required).\n",
    "\n",
    "* [1] credit.policy: 1 if the customer meets the credit underwriting criteria, and 0 otherwise.\n",
    "* [2] log.annual.inc: The natural log of the self-reported annual income of the borrower.\n",
    "* [3] dti: The debt-to-income ratio of the borrower (amount of debt divided by annual income).\n",
    "* [4] fico: The FICO credit score of the borrower.\n",
    "* [5] delinq.2yrs: The number of times the borrower had been 30+ days past due on a payment in the past 2 years.\n",
    "* [6] not.fully.paid: 1 if not fully paid the loan, and 0 otherwise.\n",
    "\n",
    "\n",
    "1. How many borrowers do not pay the loan fully? Are the mean values of FICO credit score significantly different between fully-paid borrowers and not.fully.paid borrowers? Justify.\n",
    "2. Apply KMeans clustering using [1]-[5] (i.e. credit.policy, log.annual.inc, dti, fico, and delinq.2yrs). Find the optimal number clusters (set the maximum number of clusters as 10) without scaling. Justify your answer.\n",
    "3. Form 2 clusters (with KMeans) and use the crosstab to examine if the clustering outcome is in line with borrower's \"not.fully.paid\" status. Comment on the results.\n",
    "4. Create a random partition of the loans1000.csv dataset with 70% of observations in the training set and the remaining 30% in the test set. Report the sample mean and standard deviation for each of the variables in both train and test sets, separately. Comment on the results.\n",
    "5. Based on the data split of Part 4, apply Decision Tree, Random Forest, and Gradient Boosting (with n_estimators=1000) to the Train set and use the obtained models to predict the Test set. Use accuracy, precision, and recall to evaluate the performance of these models. Comment on the results."
   ]
  },
  {
   "cell_type": "code",
   "execution_count": 138,
   "metadata": {},
   "outputs": [
    {
     "name": "stdout",
     "output_type": "stream",
     "text": [
      "<class 'pandas.core.frame.DataFrame'>\n",
      "RangeIndex: 1000 entries, 0 to 999\n",
      "Data columns (total 6 columns):\n",
      " #   Column          Non-Null Count  Dtype  \n",
      "---  ------          --------------  -----  \n",
      " 0   credit.policy   1000 non-null   int64  \n",
      " 1   log.annual.inc  1000 non-null   float64\n",
      " 2   dti             1000 non-null   float64\n",
      " 3   fico            1000 non-null   int64  \n",
      " 4   delinq.2yrs     1000 non-null   int64  \n",
      " 5   not.fully.paid  1000 non-null   int64  \n",
      "dtypes: float64(2), int64(4)\n",
      "memory usage: 47.0 KB\n"
     ]
    }
   ],
   "source": [
    "# load loans1000\n",
    "L=pd.read_csv('loans1000.csv')\n",
    "L.info()"
   ]
  },
  {
   "cell_type": "code",
   "execution_count": 139,
   "metadata": {},
   "outputs": [
    {
     "data": {
      "text/html": [
       "<div>\n",
       "<style scoped>\n",
       "    .dataframe tbody tr th:only-of-type {\n",
       "        vertical-align: middle;\n",
       "    }\n",
       "\n",
       "    .dataframe tbody tr th {\n",
       "        vertical-align: top;\n",
       "    }\n",
       "\n",
       "    .dataframe thead th {\n",
       "        text-align: right;\n",
       "    }\n",
       "</style>\n",
       "<table border=\"1\" class=\"dataframe\">\n",
       "  <thead>\n",
       "    <tr style=\"text-align: right;\">\n",
       "      <th></th>\n",
       "      <th>credit.policy</th>\n",
       "      <th>log.annual.inc</th>\n",
       "      <th>dti</th>\n",
       "      <th>fico</th>\n",
       "      <th>delinq.2yrs</th>\n",
       "      <th>not.fully.paid</th>\n",
       "    </tr>\n",
       "  </thead>\n",
       "  <tbody>\n",
       "    <tr>\n",
       "      <th>0</th>\n",
       "      <td>1</td>\n",
       "      <td>10.682812</td>\n",
       "      <td>13.13</td>\n",
       "      <td>687</td>\n",
       "      <td>1</td>\n",
       "      <td>1</td>\n",
       "    </tr>\n",
       "    <tr>\n",
       "      <th>1</th>\n",
       "      <td>1</td>\n",
       "      <td>11.736101</td>\n",
       "      <td>9.34</td>\n",
       "      <td>677</td>\n",
       "      <td>1</td>\n",
       "      <td>0</td>\n",
       "    </tr>\n",
       "    <tr>\n",
       "      <th>2</th>\n",
       "      <td>1</td>\n",
       "      <td>11.002100</td>\n",
       "      <td>3.48</td>\n",
       "      <td>702</td>\n",
       "      <td>0</td>\n",
       "      <td>0</td>\n",
       "    </tr>\n",
       "    <tr>\n",
       "      <th>3</th>\n",
       "      <td>1</td>\n",
       "      <td>10.126631</td>\n",
       "      <td>18.48</td>\n",
       "      <td>702</td>\n",
       "      <td>2</td>\n",
       "      <td>1</td>\n",
       "    </tr>\n",
       "    <tr>\n",
       "      <th>4</th>\n",
       "      <td>1</td>\n",
       "      <td>11.512925</td>\n",
       "      <td>8.95</td>\n",
       "      <td>677</td>\n",
       "      <td>0</td>\n",
       "      <td>0</td>\n",
       "    </tr>\n",
       "  </tbody>\n",
       "</table>\n",
       "</div>"
      ],
      "text/plain": [
       "   credit.policy  log.annual.inc    dti  fico  delinq.2yrs  not.fully.paid\n",
       "0              1       10.682812  13.13   687            1               1\n",
       "1              1       11.736101   9.34   677            1               0\n",
       "2              1       11.002100   3.48   702            0               0\n",
       "3              1       10.126631  18.48   702            2               1\n",
       "4              1       11.512925   8.95   677            0               0"
      ]
     },
     "execution_count": 139,
     "metadata": {},
     "output_type": "execute_result"
    }
   ],
   "source": [
    "L.head()"
   ]
  },
  {
   "cell_type": "markdown",
   "metadata": {},
   "source": [
    "Part 1"
   ]
  },
  {
   "cell_type": "code",
   "execution_count": 143,
   "metadata": {},
   "outputs": [
    {
     "data": {
      "text/plain": [
       "0    848\n",
       "1    152\n",
       "Name: not.fully.paid, dtype: int64"
      ]
     },
     "execution_count": 143,
     "metadata": {},
     "output_type": "execute_result"
    }
   ],
   "source": [
    "L['not.fully.paid'].value_counts()"
   ]
  },
  {
   "cell_type": "markdown",
   "metadata": {},
   "source": [
    "So 152 of the borrowers have not fully paid the loan"
   ]
  },
  {
   "cell_type": "code",
   "execution_count": 147,
   "metadata": {},
   "outputs": [
    {
     "data": {
      "text/plain": [
       "696.2105263157895"
      ]
     },
     "execution_count": 147,
     "metadata": {},
     "output_type": "execute_result"
    }
   ],
   "source": [
    "L[L['not.fully.paid']==1]['fico'].mean()"
   ]
  },
  {
   "cell_type": "code",
   "execution_count": 148,
   "metadata": {},
   "outputs": [
    {
     "data": {
      "text/plain": [
       "714.4823113207547"
      ]
     },
     "execution_count": 148,
     "metadata": {},
     "output_type": "execute_result"
    }
   ],
   "source": [
    "L[L['not.fully.paid']==0]['fico'].mean()"
   ]
  },
  {
   "cell_type": "markdown",
   "metadata": {},
   "source": [
    "There is not much significant change between the FICO score between fully and no fully paid borrowers.\n",
    "The difference is 18.2715. But those who have supposedly more FICO score than the other as they get rating based on that only."
   ]
  },
  {
   "cell_type": "markdown",
   "metadata": {},
   "source": [
    "Part 2"
   ]
  },
  {
   "cell_type": "code",
   "execution_count": 149,
   "metadata": {},
   "outputs": [],
   "source": [
    "#define a function called Elbow_Curve\n",
    "def Elbow_Curve(X, kmax):\n",
    "    # inertia_: Sum of Squared Distances\n",
    "    inertia = []\n",
    "    s = []\n",
    "    # no. of clusters (max 10)\n",
    "    for k in range(1, kmax+1):\n",
    "        KM = KMeans(n_clusters=k).fit(X)\n",
    "        inertia.append(KM.inertia_) \n",
    "    fig = plt.figure(figsize=(6, 4))\n",
    "    plt.plot(range(1, kmax+1), inertia, 'bo-')\n",
    "    plt.title('Elbow curve')"
   ]
  },
  {
   "cell_type": "code",
   "execution_count": 156,
   "metadata": {},
   "outputs": [
    {
     "data": {
      "image/png": "[encoded data removed]",
      "text/plain": [
       "<Figure size 432x288 with 1 Axes>"
      ]
     },
     "metadata": {},
     "output_type": "display_data"
    }
   ],
   "source": [
    "#without scaling\n",
    "Elbow_Curve(L.iloc[:, 1:6], 10)\n",
    "#we are taking the first three parameters for analysis which are credit.policy, log.annual.inc, dti, fico, and delinq.2yrs"
   ]
  },
  {
   "cell_type": "markdown",
   "metadata": {},
   "source": [
    "The most optimal number of cluster in this case is 4 as after that, the line becomes linear.\n"
   ]
  },
  {
   "cell_type": "markdown",
   "metadata": {},
   "source": [
    "Part 3\n"
   ]
  },
  {
   "cell_type": "markdown",
   "metadata": {},
   "source": [
    "For just 2 clusters we are using the crosstab to examine if the clustering outcome is in line with borrower's \"not.fully.paid\" status."
   ]
  },
  {
   "cell_type": "code",
   "execution_count": 161,
   "metadata": {},
   "outputs": [],
   "source": [
    "KM=KMeans(n_clusters=2, random_state=101).fit(L.iloc[:, 1:6])\n",
    "# add cluster label\n",
    "L[\"C\"] = KM.labels_"
   ]
  },
  {
   "cell_type": "code",
   "execution_count": 162,
   "metadata": {},
   "outputs": [
    {
     "name": "stdout",
     "output_type": "stream",
     "text": [
      "not.fully.paid    0    1\n",
      "C                       \n",
      "0               504  111\n",
      "1               344   41\n"
     ]
    }
   ],
   "source": [
    "print(pd.crosstab(L['C'], L['not.fully.paid']))"
   ]
  },
  {
   "cell_type": "markdown",
   "metadata": {},
   "source": [
    "Remarks:\n",
    "From the Elbow curve, kink at k=4 is the optmal choice (second best could be 3).\n",
    "\n",
    "Both C= 0 and 1 are dominated by borrowers who have paid their loans completely.\n",
    "\n",
    "In general, the grouping outcomes do match well with the payment status."
   ]
  },
  {
   "cell_type": "code",
   "execution_count": 163,
   "metadata": {},
   "outputs": [
    {
     "data": {
      "text/plain": [
       "Index(['credit.policy', 'log.annual.inc', 'dti', 'fico', 'delinq.2yrs',\n",
       "       'not.fully.paid', 'C'],\n",
       "      dtype='object')"
      ]
     },
     "execution_count": 163,
     "metadata": {},
     "output_type": "execute_result"
    }
   ],
   "source": [
    "L.columns"
   ]
  },
  {
   "cell_type": "markdown",
   "metadata": {},
   "source": [
    "Part 4"
   ]
  },
  {
   "cell_type": "code",
   "execution_count": 165,
   "metadata": {},
   "outputs": [],
   "source": [
    "#Train test Split\n",
    "y= L['not.fully.paid']\n",
    "X= L[[ 'credit.policy', 'log.annual.inc', 'dti', 'fico', 'delinq.2yrs']]\n",
    "from sklearn.model_selection import train_test_split\n",
    "X_train, X_test, y_train, y_test = train_test_split(X, y, test_size=0.3, random_state=101)\n",
    "#test size =0.3 means, 70 per of data in train and 30 percent in test.\n",
    "#the random partition of the loans1000.csv dataset with 70% of observations in the training set and the remaining 30% in the test set. "
   ]
  },
  {
   "cell_type": "code",
   "execution_count": 167,
   "metadata": {},
   "outputs": [
    {
     "data": {
      "text/html": [
       "<div>\n",
       "<style scoped>\n",
       "    .dataframe tbody tr th:only-of-type {\n",
       "        vertical-align: middle;\n",
       "    }\n",
       "\n",
       "    .dataframe tbody tr th {\n",
       "        vertical-align: top;\n",
       "    }\n",
       "\n",
       "    .dataframe thead th {\n",
       "        text-align: right;\n",
       "    }\n",
       "</style>\n",
       "<table border=\"1\" class=\"dataframe\">\n",
       "  <thead>\n",
       "    <tr style=\"text-align: right;\">\n",
       "      <th></th>\n",
       "      <th>credit.policy</th>\n",
       "      <th>log.annual.inc</th>\n",
       "      <th>dti</th>\n",
       "      <th>fico</th>\n",
       "      <th>delinq.2yrs</th>\n",
       "    </tr>\n",
       "  </thead>\n",
       "  <tbody>\n",
       "    <tr>\n",
       "      <th>mean</th>\n",
       "      <td>0.792857</td>\n",
       "      <td>10.91899</td>\n",
       "      <td>12.532971</td>\n",
       "      <td>710.942857</td>\n",
       "      <td>0.150000</td>\n",
       "    </tr>\n",
       "    <tr>\n",
       "      <th>std</th>\n",
       "      <td>0.405549</td>\n",
       "      <td>0.58569</td>\n",
       "      <td>6.953387</td>\n",
       "      <td>38.907978</td>\n",
       "      <td>0.520331</td>\n",
       "    </tr>\n",
       "  </tbody>\n",
       "</table>\n",
       "</div>"
      ],
      "text/plain": [
       "      credit.policy  log.annual.inc        dti        fico  delinq.2yrs\n",
       "mean       0.792857        10.91899  12.532971  710.942857     0.150000\n",
       "std        0.405549         0.58569   6.953387   38.907978     0.520331"
      ]
     },
     "execution_count": 167,
     "metadata": {},
     "output_type": "execute_result"
    }
   ],
   "source": [
    "#Statistical Analysis:\n",
    "X_train[['credit.policy', 'log.annual.inc', 'dti', 'fico', 'delinq.2yrs']].agg(['mean','std'])"
   ]
  },
  {
   "cell_type": "code",
   "execution_count": 168,
   "metadata": {},
   "outputs": [
    {
     "data": {
      "text/html": [
       "<div>\n",
       "<style scoped>\n",
       "    .dataframe tbody tr th:only-of-type {\n",
       "        vertical-align: middle;\n",
       "    }\n",
       "\n",
       "    .dataframe tbody tr th {\n",
       "        vertical-align: top;\n",
       "    }\n",
       "\n",
       "    .dataframe thead th {\n",
       "        text-align: right;\n",
       "    }\n",
       "</style>\n",
       "<table border=\"1\" class=\"dataframe\">\n",
       "  <thead>\n",
       "    <tr style=\"text-align: right;\">\n",
       "      <th></th>\n",
       "      <th>credit.policy</th>\n",
       "      <th>log.annual.inc</th>\n",
       "      <th>dti</th>\n",
       "      <th>fico</th>\n",
       "      <th>delinq.2yrs</th>\n",
       "    </tr>\n",
       "  </thead>\n",
       "  <tbody>\n",
       "    <tr>\n",
       "      <th>mean</th>\n",
       "      <td>0.806667</td>\n",
       "      <td>10.947912</td>\n",
       "      <td>12.039533</td>\n",
       "      <td>713.483333</td>\n",
       "      <td>0.170000</td>\n",
       "    </tr>\n",
       "    <tr>\n",
       "      <th>std</th>\n",
       "      <td>0.395572</td>\n",
       "      <td>0.593724</td>\n",
       "      <td>7.124214</td>\n",
       "      <td>39.595147</td>\n",
       "      <td>0.463843</td>\n",
       "    </tr>\n",
       "  </tbody>\n",
       "</table>\n",
       "</div>"
      ],
      "text/plain": [
       "      credit.policy  log.annual.inc        dti        fico  delinq.2yrs\n",
       "mean       0.806667       10.947912  12.039533  713.483333     0.170000\n",
       "std        0.395572        0.593724   7.124214   39.595147     0.463843"
      ]
     },
     "execution_count": 168,
     "metadata": {},
     "output_type": "execute_result"
    }
   ],
   "source": [
    " X_test[['credit.policy', 'log.annual.inc', 'dti', 'fico', 'delinq.2yrs']].agg(['mean','std'])"
   ]
  },
  {
   "cell_type": "markdown",
   "metadata": {},
   "source": [
    "There is not much difference between the mean or standard deviation in these two set as it is split completely randomly."
   ]
  },
  {
   "cell_type": "code",
   "execution_count": 178,
   "metadata": {},
   "outputs": [],
   "source": [
    "#This is the mean and standard deviation of both test and train set."
   ]
  },
  {
   "cell_type": "markdown",
   "metadata": {},
   "source": [
    "Part 5"
   ]
  },
  {
   "cell_type": "markdown",
   "metadata": {},
   "source": [
    "# Descison Tree"
   ]
  },
  {
   "cell_type": "code",
   "execution_count": 179,
   "metadata": {},
   "outputs": [
    {
     "data": {
      "text/plain": [
       "DecisionTreeClassifier(ccp_alpha=0.0, class_weight=None, criterion='gini',\n",
       "                       max_depth=None, max_features=None, max_leaf_nodes=None,\n",
       "                       min_impurity_decrease=0.0, min_impurity_split=None,\n",
       "                       min_samples_leaf=1, min_samples_split=2,\n",
       "                       min_weight_fraction_leaf=0.0, presort='deprecated',\n",
       "                       random_state=None, splitter='best')"
      ]
     },
     "execution_count": 179,
     "metadata": {},
     "output_type": "execute_result"
    }
   ],
   "source": [
    "As the Decision Tree CLassifier is already imported, we can directly use it.\n",
    "dtree = DecisionTreeClassifier()\n",
    "dtree.fit(X_train,y_train)"
   ]
  },
  {
   "cell_type": "code",
   "execution_count": 180,
   "metadata": {},
   "outputs": [
    {
     "name": "stdout",
     "output_type": "stream",
     "text": [
      "              precision    recall  f1-score   support\n",
      "\n",
      "           0       0.85      0.86      0.86       250\n",
      "           1       0.26      0.24      0.25        50\n",
      "\n",
      "    accuracy                           0.76       300\n",
      "   macro avg       0.56      0.55      0.55       300\n",
      "weighted avg       0.75      0.76      0.76       300\n",
      "\n",
      "[[216  34]\n",
      " [ 38  12]]\n",
      "0.76\n"
     ]
    }
   ],
   "source": [
    "predt = dtree.predict(X_test)\n",
    "from sklearn.metrics import classification_report,confusion_matrix,accuracy_score\n",
    "print(classification_report(y_test,predt))\n",
    "print(confusion_matrix(y_test,predt))\n",
    "print(accuracy_score(y_test,predt))"
   ]
  },
  {
   "cell_type": "markdown",
   "metadata": {},
   "source": [
    "# Random Forest"
   ]
  },
  {
   "cell_type": "code",
   "execution_count": 182,
   "metadata": {},
   "outputs": [
    {
     "data": {
      "text/plain": [
       "RandomForestClassifier(bootstrap=True, ccp_alpha=0.0, class_weight=None,\n",
       "                       criterion='gini', max_depth=None, max_features='auto',\n",
       "                       max_leaf_nodes=None, max_samples=None,\n",
       "                       min_impurity_decrease=0.0, min_impurity_split=None,\n",
       "                       min_samples_leaf=1, min_samples_split=2,\n",
       "                       min_weight_fraction_leaf=0.0, n_estimators=1000,\n",
       "                       n_jobs=None, oob_score=False, random_state=None,\n",
       "                       verbose=0, warm_start=False)"
      ]
     },
     "execution_count": 182,
     "metadata": {},
     "output_type": "execute_result"
    }
   ],
   "source": [
    "#As the Random Forest CLassifier is already imported, we can directly use it.\n",
    "rfc = RandomForestClassifier(n_estimators=1000)\n",
    "rfc.fit(X_train, y_train)"
   ]
  },
  {
   "cell_type": "code",
   "execution_count": 183,
   "metadata": {},
   "outputs": [
    {
     "name": "stdout",
     "output_type": "stream",
     "text": [
      "[[250   0]\n",
      " [ 45   5]]\n",
      "              precision    recall  f1-score   support\n",
      "\n",
      "           0       0.85      1.00      0.92       250\n",
      "           1       1.00      0.10      0.18        50\n",
      "\n",
      "    accuracy                           0.85       300\n",
      "   macro avg       0.92      0.55      0.55       300\n",
      "weighted avg       0.87      0.85      0.79       300\n",
      "\n",
      "0.85\n"
     ]
    }
   ],
   "source": [
    "rfc_pred = rfc.predict(X_test)\n",
    "print(confusion_matrix(y_test,rfc_pred))\n",
    "print(classification_report(y_test,rfc_pred))\n",
    "print(accuracy_score(y_test,rfc_pred))"
   ]
  },
  {
   "cell_type": "markdown",
   "metadata": {},
   "source": [
    "# GRADIENT BOOSTING"
   ]
  },
  {
   "cell_type": "code",
   "execution_count": 184,
   "metadata": {},
   "outputs": [],
   "source": [
    "As the Gradient Boosting CLassifier is already imported, we can directly use it."
   ]
  },
  {
   "cell_type": "code",
   "execution_count": 190,
   "metadata": {},
   "outputs": [
    {
     "data": {
      "text/plain": [
       "GradientBoostingClassifier(ccp_alpha=0.0, criterion='friedman_mse', init=None,\n",
       "                           learning_rate=0.1, loss='deviance', max_depth=3,\n",
       "                           max_features=None, max_leaf_nodes=None,\n",
       "                           min_impurity_decrease=0.0, min_impurity_split=None,\n",
       "                           min_samples_leaf=1, min_samples_split=2,\n",
       "                           min_weight_fraction_leaf=0.0, n_estimators=1000,\n",
       "                           n_iter_no_change=None, presort='deprecated',\n",
       "                           random_state=0, subsample=1.0, tol=0.0001,\n",
       "                           validation_fraction=0.1, verbose=0,\n",
       "                           warm_start=False)"
      ]
     },
     "execution_count": 190,
     "metadata": {},
     "output_type": "execute_result"
    }
   ],
   "source": [
    "grad = GradientBoostingClassifier(random_state=0,n_estimators=1000)\n",
    "grad.fit(X_train, y_train)"
   ]
  },
  {
   "cell_type": "code",
   "execution_count": 191,
   "metadata": {},
   "outputs": [
    {
     "name": "stdout",
     "output_type": "stream",
     "text": [
      "[[236  14]\n",
      " [ 42   8]]\n",
      "              precision    recall  f1-score   support\n",
      "\n",
      "           0       0.85      0.94      0.89       250\n",
      "           1       0.36      0.16      0.22        50\n",
      "\n",
      "    accuracy                           0.81       300\n",
      "   macro avg       0.61      0.55      0.56       300\n",
      "weighted avg       0.77      0.81      0.78       300\n",
      "\n",
      "0.8133333333333334\n"
     ]
    }
   ],
   "source": [
    "grad_pred = grad.predict(X_test)\n",
    "print(confusion_matrix(y_test,grad_pred))\n",
    "print(classification_report(y_test,grad_pred))\n",
    "print(accuracy_score(y_test,grad_pred))"
   ]
  },
  {
   "cell_type": "markdown",
   "metadata": {},
   "source": [
    "Among all three algorithms, which are ensemble learning algorithms except the Decision tree algo which is obviously less efficient than the other two.\n",
    "The bagging method or the Random forest is most efficient with accuracy of 85 per when compared to the bossting algorithm of Gradient Boosting.\n",
    "Various other parameters are also shown here which make the analysis easier like confusion matrix and the classification report."
   ]
  },
  {
   "cell_type": "code",
   "execution_count": null,
   "metadata": {},
   "outputs": [],
   "source": []
  },
  {
   "cell_type": "markdown",
   "metadata": {},
   "source": [
    "# End of Assignment"
   ]
  },
  {
   "cell_type": "code",
   "execution_count": null,
   "metadata": {},
   "outputs": [],
   "source": []
  }
 ],
 "metadata": {
  "kernelspec": {
   "display_name": "Python 3",
   "language": "python",
   "name": "python3"
  },
  "language_info": {
   "codemirror_mode": {
    "name": "ipython",
    "version": 3
   },
   "file_extension": ".py",
   "mimetype": "text/x-python",
   "name": "python",
   "nbconvert_exporter": "python",
   "pygments_lexer": "ipython3",
   "version": "3.7.6"
  }
 },
 "nbformat": 4,
 "nbformat_minor": 1
}
