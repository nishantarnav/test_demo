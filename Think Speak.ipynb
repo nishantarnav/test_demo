{
 "cells": [
  {
   "cell_type": "code",
   "execution_count": 2,
   "metadata": {},
   "outputs": [],
   "source": [
    "import sys\n",
    "import urllib\n",
    "import urllib.request\n"
   ]
  },
  {
   "cell_type": "code",
   "execution_count": 6,
   "metadata": {},
   "outputs": [],
   "source": [
    "r=urllib.request.urlopen('https://api.thingspeak.com/update?api_key=03DG1957ZBDLRS5D&field1=10')"
   ]
  },
  {
   "cell_type": "code",
   "execution_count": 4,
   "metadata": {},
   "outputs": [
    {
     "name": "stdout",
     "output_type": "stream",
     "text": [
      "<http.client.HTTPResponse object at 0x000001E4F055F9C8>\n"
     ]
    }
   ],
   "source": [
    "print(r)\n",
    "print(r.read())\n",
    "r2=urllib.request.urlopen('https://api.thingspeak.com/update?api_key=03DG1957ZBDLRS5D&field2=15')\n",
    "print(r2)\n",
    "print(r2.read())"
   ]
  },
  {
   "cell_type": "code",
   "execution_count": 8,
   "metadata": {},
   "outputs": [
    {
     "name": "stdout",
     "output_type": "stream",
     "text": [
      "b'17'\n"
     ]
    }
   ],
   "source": [
    "print(r.read())"
   ]
  },
  {
   "cell_type": "code",
   "execution_count": 7,
   "metadata": {},
   "outputs": [],
   "source": [
    "r2=urllib.request.urlopen('https://api.thingspeak.com/update?api_key=03DG1957ZBDLRS5D&field2=15')"
   ]
  },
  {
   "cell_type": "code",
   "execution_count": 9,
   "metadata": {},
   "outputs": [
    {
     "name": "stdout",
     "output_type": "stream",
     "text": [
      "<http.client.HTTPResponse object at 0x000001E4F0596BC8>\n",
      "b'18'\n"
     ]
    }
   ],
   "source": [
    "print(r2)\n",
    "print(r2.read())"
   ]
  },
  {
   "cell_type": "code",
   "execution_count": 14,
   "metadata": {},
   "outputs": [],
   "source": [
    "r3=urllib.request.urlopen('https://api.thingspeak.com/channels/1101165/fields/1.json?api_key=8HELPCCFQNXNTS7G&results=8')"
   ]
  },
  {
   "cell_type": "code",
   "execution_count": 15,
   "metadata": {},
   "outputs": [
    {
     "name": "stdout",
     "output_type": "stream",
     "text": [
      "b'{\"channel\":{\"id\":1101165,\"name\":\"DEMO L55\",\"description\":\"Demo for lab\",\"latitude\":\"0.0\",\"longitude\":\"0.0\",\"field1\":\"Temperature\",\"field2\":\"Pressure\",\"field3\":\"Humidity\",\"field4\":\"Soil moisture\",\"created_at\":\"2020-07-17T08:56:05Z\",\"updated_at\":\"2020-07-17T09:00:00Z\",\"last_entry_id\":18},\"feeds\":[{\"created_at\":\"2020-07-17T09:14:11Z\",\"entry_id\":11,\"field1\":null},{\"created_at\":\"2020-07-17T09:14:32Z\",\"entry_id\":12,\"field1\":null},{\"created_at\":\"2020-07-17T09:15:07Z\",\"entry_id\":13,\"field1\":null},{\"created_at\":\"2020-07-17T09:15:29Z\",\"entry_id\":14,\"field1\":null},{\"created_at\":\"2020-07-17T09:15:52Z\",\"entry_id\":15,\"field1\":null},{\"created_at\":\"2020-07-31T08:50:14Z\",\"entry_id\":16,\"field1\":\"18\"},{\"created_at\":\"2020-07-31T08:55:37Z\",\"entry_id\":17,\"field1\":\"10\"},{\"created_at\":\"2020-07-31T09:00:26Z\",\"entry_id\":18,\"field1\":null}]}'\n"
     ]
    }
   ],
   "source": [
    "print(r3.read())"
   ]
  },
  {
   "cell_type": "code",
   "execution_count": null,
   "metadata": {},
   "outputs": [],
   "source": []
  }
 ],
 "metadata": {
  "kernelspec": {
   "display_name": "Python 3",
   "language": "python",
   "name": "python3"
  },
  "language_info": {
   "codemirror_mode": {
    "name": "ipython",
    "version": 3
   },
   "file_extension": ".py",
   "mimetype": "text/x-python",
   "name": "python",
   "nbconvert_exporter": "python",
   "pygments_lexer": "ipython3",
   "version": "3.7.6"
  }
 },
 "nbformat": 4,
 "nbformat_minor": 4
}
